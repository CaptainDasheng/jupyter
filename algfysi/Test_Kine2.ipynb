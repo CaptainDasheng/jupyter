{
 "cells": [
  {
   "cell_type": "code",
   "execution_count": 39,
   "metadata": {},
   "outputs": [],
   "source": [
    "import math\n",
    "\n",
    "# Constanten\n",
    "g = 9.81 # m s^{-2}\n",
    "\n",
    "# David's slinger\n",
    "l = 0.8 # m\n",
    "f = 7.0 # s^{-1}\n",
    "theta = 12 # •\n",
    "theta_rad = theta * math.pi / 180 # rad\n",
    "y_0 = 0.2 # m\n",
    "\n",
    "# Goliath\n",
    "delta_x = 50 # m\n",
    "v_goliath = 12 # m/s\n",
    "l_hoofd_goliath = 0.3 # m\n",
    "y_hoofd_goliath = 2.2 # m"
   ]
  },
  {
   "cell_type": "markdown",
   "metadata": {
    "variables": {
     "f": "7.0",
     "l": "0.8"
    }
   },
   "source": [
    "# Test Kinematica\n",
    "\n",
    "David staat voor Goliath, klaar om met zijn slinger een steen af te schieten. Zijn slinger heeft een lengte van {{l}} m, en hij kan hem {{f}} keer ronddraaien per seconde. a) Wat is de grootte van de snelheid waarmee hij de steen kan afschieten?"
   ]
  },
  {
   "cell_type": "code",
   "execution_count": 40,
   "metadata": {},
   "outputs": [
    {
     "name": "stdout",
     "output_type": "stream",
     "text": [
      "De snelheid is: 35.18583772020568 m/s\n"
     ]
    }
   ],
   "source": [
    "v = 2 * math.pi * f * l\n",
    "print(\"De snelheid is: \" + str(v) + \" m/s\")"
   ]
  },
  {
   "cell_type": "markdown",
   "metadata": {
    "variables": {
     "delta_x": "50",
     "theta": "12",
     "v_goliath": "12",
     "y_0": "0.2"
    }
   },
   "source": [
    "David schiet de steen af onder een hoek van {{theta}}° met de horizontale, op dat moment is de steen op {{y_0}} m van de grond. Goliath bevindt zich op {{delta_x}} m van de plaats waar de steen wordt afgeschoten, en op het moment dat David de steen afschiet is Goliath naar hem toe aan het lopen met een snelheid gelijk aan {{v_goliath}} m/s. b) Op welk tijdstip raakt/kruist de steen van David Goliath?"
   ]
  },
  {
   "cell_type": "markdown",
   "metadata": {},
   "source": [
    "## Oplossing\n",
    "\n",
    "\\begin{cases}\n",
    "x_g &= \\Delta x - v^g t \\\\\n",
    "x_s &= v_x^s t = |\\vec{v^s}| cos\\theta t\n",
    "\\end{cases}\n",
    "\\begin{equation}\n",
    "x_g = x_s \\Rightarrow \\Delta x - v^g t = |\\vec{v^s}| cos\\theta t \\Leftrightarrow t = \\frac{\\Delta x}{v^g + |\\vec{v^s}| cos \\theta}\n",
    "\\end{equation}"
   ]
  },
  {
   "cell_type": "code",
   "execution_count": 41,
   "metadata": {},
   "outputs": [
    {
     "name": "stdout",
     "output_type": "stream",
     "text": [
      "Het tijdstip is t = 1.077192874890361 s\n"
     ]
    }
   ],
   "source": [
    "t = delta_x / (v*math.cos(theta_rad) + v_goliath)\n",
    "print(\"Het tijdstip is t = \" + str(t) + \" s\")"
   ]
  },
  {
   "cell_type": "markdown",
   "metadata": {
    "variables": {
     "l_hoofd_goliath": "0.3",
     "y_hoofd_goliath": "2.2"
    }
   },
   "source": [
    "Het hoofd van Goliath is {{l_hoofd_goliath}} m lang, en zijn kin is op een hoogte van {{y_hoofd_goliath}} m van de grond. c) Raakt de steen van David Goliath's hoofd?"
   ]
  },
  {
   "cell_type": "code",
   "execution_count": 42,
   "metadata": {},
   "outputs": [
    {
     "name": "stdout",
     "output_type": "stream",
     "text": [
      "De hoogte van de steen op tijdstip t = 2.3887653965454847 m\n"
     ]
    }
   ],
   "source": [
    "y = y_0 + v*math.sin(theta_rad)*t - g/2*t**2\n",
    "print(\"De hoogte van de steen op tijdstip t = \" + str(y) + \" m\")"
   ]
  },
  {
   "cell_type": "markdown",
   "metadata": {},
   "source": [
    "## Wat indien er afgerond wordt?"
   ]
  },
  {
   "cell_type": "code",
   "execution_count": 43,
   "metadata": {},
   "outputs": [
    {
     "name": "stdout",
     "output_type": "stream",
     "text": [
      "Het tijdstip t_2 = 1.0768714904022485 s\n",
      "De hoogte van de steen op tijdstip t_2 = 2.3120517145719814 m\n"
     ]
    }
   ],
   "source": [
    "# Rounding tests\n",
    "round_to = 1\n",
    "t_2 = delta_x / (round(v, round_to)*math.cos(theta_rad) + v_goliath)\n",
    "print(\"Het tijdstip t_2 = \" + str(t_2) + \" s\")\n",
    "y_2 = y_0 + v*math.sin(theta_rad)*round(t_2, round_to) - g/2*round(t_2, round_to)**2\n",
    "print(\"De hoogte van de steen op tijdstip t_2 = \" + str(y_2) + \" m\")"
   ]
  },
  {
   "cell_type": "code",
   "execution_count": null,
   "metadata": {},
   "outputs": [],
   "source": []
  }
 ],
 "metadata": {
  "kernelspec": {
   "display_name": "Python 3",
   "language": "python",
   "name": "python3"
  },
  "language_info": {
   "codemirror_mode": {
    "name": "ipython",
    "version": 3
   },
   "file_extension": ".py",
   "mimetype": "text/x-python",
   "name": "python",
   "nbconvert_exporter": "python",
   "pygments_lexer": "ipython3",
   "version": "3.6.2"
  }
 },
 "nbformat": 4,
 "nbformat_minor": 2
}
