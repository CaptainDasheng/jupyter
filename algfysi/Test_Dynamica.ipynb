{
 "cells": [
  {
   "cell_type": "code",
   "execution_count": 43,
   "metadata": {},
   "outputs": [],
   "source": [
    "import math\n",
    "\n",
    "# Constanten\n",
    "g = 9.81 # m s^{-2}\n",
    "\n",
    "normaal_kracht = 110 # N\n",
    "theta = 15 # °\n",
    "theta_rad = theta/180*math.pi # rad\n",
    "\n",
    "hoogte = 2.0 # m\n",
    "v_f = 4.0 # m/s"
   ]
  },
  {
   "cell_type": "markdown",
   "metadata": {
    "variables": {
     "hoogte": "2.0",
     "normaal_kracht": "110",
     "theta": "15"
    }
   },
   "source": [
    "# Test Dynamica\n",
    "\n",
    "## Deel 1\n",
    "Een vierkant blok hangt in rust op hoogte $h$ = {{hoogte}} m tegen een verticale muur aan een koord verbonden met de muur. De hoek tussen het koord en de muur is $\\theta$ = {{theta}}°. Veronderstel dat er geen wrijving is tussen het blok en de muur. a) Als de normaalkracht van de muur op het blok {{normaal_kracht}} N is, wat is dan de massa van het blok?"
   ]
  },
  {
   "cell_type": "markdown",
   "metadata": {},
   "source": [
    "### Oplossing\n",
    "\n",
    "\n",
    "\\begin{equation}\n",
    "\\vec{F_g} + \\vec{N} + \\vec{S} = m \\vec{a} = 0\n",
    "\\end{equation}\n",
    "\n",
    "\\begin{cases}\n",
    "-N + S \\sin\\theta = 0\\\\\n",
    "-F_g + S \\cos\\theta = 0\n",
    "\\end{cases}\n",
    "\n",
    "\\begin{cases}\n",
    "S = \\frac{N}{\\sin\\theta} \\\\\n",
    "M g = S \\cos\\theta \n",
    "\\end{cases}\n",
    "\n",
    "\\begin{equation}\n",
    "\\Leftrightarrow M = \\frac{N \\cos\\theta}{g \\sin\\theta}\n",
    "\\end{equation}"
   ]
  },
  {
   "cell_type": "code",
   "execution_count": 44,
   "metadata": {},
   "outputs": [
    {
     "name": "stdout",
     "output_type": "stream",
     "text": [
      "De massa van de eerste blok is: 41.84766450892727 kg.\n"
     ]
    }
   ],
   "source": [
    "M = normaal_kracht*math.cos(theta_rad)/(g * math.sin(theta_rad))\n",
    "print(\"De massa van de eerste blok is: \" + str(M) + \" kg.\")"
   ]
  },
  {
   "cell_type": "markdown",
   "metadata": {},
   "source": [
    "## Deel 2\n",
    "\n",
    "Plots breekt het koord en glijdt de blok langs een wrijvingloos gekromd oppervlak naar beneden, tot het op een horizontaal oppervlak botst op een tweede blok met massa $m$. b) Wat is de snelheid van de eerste blok net voordat hij met de tweede blok botst?"
   ]
  },
  {
   "cell_type": "markdown",
   "metadata": {},
   "source": [
    "### Oplossing\n",
    "\n",
    "\\begin{align}\n",
    "Mgh = \\frac{1}{2} M v_i^2 \\\\\n",
    "\\Leftrightarrow v_i = \\sqrt{2 g h}\n",
    "\\end{align}"
   ]
  },
  {
   "cell_type": "code",
   "execution_count": 45,
   "metadata": {},
   "outputs": [
    {
     "name": "stdout",
     "output_type": "stream",
     "text": [
      "De snelheid voor de botsing is: 6.26418390534633 m/s\n"
     ]
    }
   ],
   "source": [
    "v_i = (2*g*hoogte)**(1/2)\n",
    "print(\"De snelheid voor de botsing is: \" + str(v_i) + \" m/s\")"
   ]
  },
  {
   "cell_type": "markdown",
   "metadata": {
    "variables": {
     "v_f": "4.0"
    }
   },
   "source": [
    "## Deel 3\n",
    "\n",
    "Na de botsing bewegen beide blokken verder met een gelijke snelheid $v_f$ = {{v_f}} m/s. c) Wat is de massa van de tweede blok?"
   ]
  },
  {
   "cell_type": "markdown",
   "metadata": {},
   "source": [
    "### Oplossing\n",
    "\n",
    "\\begin{align}\n",
    "M v_i &= (M + m) v_f \\\\\n",
    "\\Leftrightarrow M v_i - M v_f &= m v_f \\\\\n",
    "\\Leftrightarrow M \\frac{v_i - v_f}{v_f} &= m\n",
    "\\end{align}"
   ]
  },
  {
   "cell_type": "code",
   "execution_count": 46,
   "metadata": {},
   "outputs": [
    {
     "name": "stdout",
     "output_type": "stream",
     "text": [
      "De massa van de eerste blok is: 23.687702114361493 kg\n"
     ]
    }
   ],
   "source": [
    "m = M*(v_i-v_f)/v_f\n",
    "print(\"De massa van de eerste blok is: \" + str(m) + \" kg\")"
   ]
  },
  {
   "cell_type": "code",
   "execution_count": 47,
   "metadata": {},
   "outputs": [
    {
     "name": "stdout",
     "output_type": "stream",
     "text": [
      "Energie voor de botsing: 821.051177665153 J\n"
     ]
    }
   ],
   "source": [
    "print(\"Energie voor de botsing: \" + str(M*v_i**2/2) + \" J\")"
   ]
  },
  {
   "cell_type": "code",
   "execution_count": 48,
   "metadata": {},
   "outputs": [
    {
     "name": "stdout",
     "output_type": "stream",
     "text": [
      "Energie na de botsing: 524.28293298631 J\n"
     ]
    }
   ],
   "source": [
    "print(\"Energie na de botsing: \" + str((m + M)*v_f**2/2) + \" J\")"
   ]
  },
  {
   "cell_type": "code",
   "execution_count": null,
   "metadata": {},
   "outputs": [],
   "source": []
  }
 ],
 "metadata": {
  "kernelspec": {
   "display_name": "Python 3",
   "language": "python",
   "name": "python3"
  },
  "language_info": {
   "codemirror_mode": {
    "name": "ipython",
    "version": 3
   },
   "file_extension": ".py",
   "mimetype": "text/x-python",
   "name": "python",
   "nbconvert_exporter": "python",
   "pygments_lexer": "ipython3",
   "version": "3.6.2"
  }
 },
 "nbformat": 4,
 "nbformat_minor": 2
}
