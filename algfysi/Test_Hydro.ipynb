{
 "cells": [
  {
   "cell_type": "markdown",
   "metadata": {},
   "source": [
    "# Test Hydro"
   ]
  },
  {
   "cell_type": "code",
   "execution_count": 5,
   "metadata": {},
   "outputs": [],
   "source": [
    "import math\n",
    "\n",
    "g = 9.81 # m s^{-2}\n",
    "p_atm = 1.013e5 # Pa\n",
    "\n",
    "h_1 = 0.4 # m\n",
    "h_2 = 0.8 # m\n",
    "h_3 = 0.2 # m\n",
    "\n",
    "overdruk_A = 1.130e4 # Pa\n",
    "rho_Hg = 13.534 # g cm^{-3}\n",
    "\n",
    "d_cilinder = 0.3 # m\n",
    "l_cilinder = 0.5 # m"
   ]
  },
  {
   "cell_type": "markdown",
   "metadata": {
    "variables": {
     "overdruk_A": "11300.0",
     "rho_Hg": "13.534"
    }
   },
   "source": [
    "Een cilinder drijft in een open tank met daarin olie met onbekende dichtheid $\\rho_o$. Een U vormige manometer is verbonden met de tank, zoals getoond in de figuur. Wanneer de overdruk in punt $\\textbf{A}$ t.o.v. de atmosfeer {{overdruk_A}} Pa is, zijn de vloeistofniveau's zoals getoond in de figuur. \n",
    "\n",
    "De dichtheid van het kwik is gelijk aan $\\rho_{Hg}$ = {{rho_Hg}} g/cm$^3$\n",
    "\n",
    "- Bepaal de dichtheid van de olie.\n",
    "- Bepaal de massa van de cilinder indien het bovenvlak van de cilinder op dezelfde hoogte is als het vloeistofoppervlak in de tank. \n"
   ]
  },
  {
   "cell_type": "markdown",
   "metadata": {},
   "source": [
    "## Oplossing\n",
    "\n",
    "Om de dichtheid van de olie te vinden gebruiken we de hydrostatische formule. We vergelijken de druk op hoogte van de water-kwik overgang:\n",
    "\n",
    "\\begin{align}\n",
    "& \\hspace{1em}p_{atm} + \\rho_{o} g h_{o} = p_A + \\rho_{Hg} g h_{Hg} \\\\\n",
    "\\Leftrightarrow& \\hspace{1em} \\rho_{o} g h_o = (p_A - p_{atm}) + \\rho_{Hg} g h_{Hg} \\\\\n",
    "\\Leftrightarrow& \\hspace{1em} \\rho_o = \\frac{(p_A - p_{atm}) + \\rho_{Hg} g h_{Hg}}{g h_{o}} \n",
    "\\end{align}\n",
    "\n",
    "\n"
   ]
  },
  {
   "cell_type": "code",
   "execution_count": 6,
   "metadata": {},
   "outputs": [
    {
     "name": "stdout",
     "output_type": "stream",
     "text": [
      "De dichtheid van de olie is: 10489.918450560652 kg/m^{3}.\n"
     ]
    }
   ],
   "source": [
    "# Change the units of the density of Hg\n",
    "rho_Hg = rho_Hg*1e3 # kg m^{-3}\n",
    "\n",
    "# Calculate the heights of the oil and Hg columns\n",
    "h_olie = h_1 + h_2 + h_3\n",
    "h_Hg = h_2 + h_3\n",
    "\n",
    "# Actually calculate the oil density\n",
    "rho_olie = (overdruk_A + rho_Hg * g * h_Hg)/(g * h_olie)\n",
    "\n",
    "# Print the solution\n",
    "print(\"De dichtheid van de olie is: \" + str(rho_olie) + \" kg/m^{3}.\")"
   ]
  },
  {
   "cell_type": "markdown",
   "metadata": {},
   "source": [
    "Er zijn verschillende manieren om de massa te vinden van zodra je de dichtheid van de olie kent. Een manier is om de wet van Archimedes te gebruiken. De Archimedeskracht moet gelijk zijn aan de zwaartekracht op de cilinder:\n",
    "\n",
    "\\begin{align}\n",
    "&\\hspace{1em} F_A = F_g \\\\\n",
    "\\Leftrightarrow&\\hspace{1em} \\rho_o V g = m g \\\\\n",
    "\\Leftrightarrow&\\hspace{1em} m = \\rho_o V\n",
    "\\end{align}\n",
    "\n",
    "Je ziet onmiddellijk een tweede mogelijke oplossing: Gewoon beseffen dat omdat de cilinder blijft zweven op een gelijke hoogte wanneer het volledig in de olie is ondergedompeld, de dichtheid van de cilinder wel gelijk moet zijn aan die van de olie. Daarnaast kunnen we ook de hydrostatische formule gebruiken, en beseffen dat het verschil van de krachten ten gevolge van de druk onderaan en bovenaan gelijk is aan de zwaartekracht:\n",
    "\n",
    "\\begin{align}\n",
    "&\\hspace{1em} F_p = F_g \\\\\n",
    "\\Leftrightarrow&\\hspace{1em} A \\cdot (\\rho_o g h_{c})  = mg \\\\\n",
    "\\Leftrightarrow&\\hspace{1em} \\rho_o A h_{c}  = m \\\\\n",
    "\\Leftrightarrow&\\hspace{1em} \\rho_o V  = m \n",
    "\\end{align}\n",
    "\n",
    "Allen geven hetzelfde resultaat."
   ]
  },
  {
   "cell_type": "code",
   "execution_count": 7,
   "metadata": {},
   "outputs": [
    {
     "name": "stdout",
     "output_type": "stream",
     "text": [
      "De massa van de cilinder is: 370.7443208366704 kg.\n"
     ]
    }
   ],
   "source": [
    "# Calculate the volume of the cilinder\n",
    "volume_cilinder = math.pi * (d_cilinder/2)**2 * l_cilinder; volume_cilinder\n",
    "\n",
    "# Calculate the mass\n",
    "massa = rho_olie * volume_cilinder\n",
    "\n",
    "# Print the solution\n",
    "print(\"De massa van de cilinder is: \" + str(massa) + \" kg.\")"
   ]
  },
  {
   "cell_type": "markdown",
   "metadata": {},
   "source": [
    "## Tests"
   ]
  },
  {
   "cell_type": "code",
   "execution_count": 8,
   "metadata": {},
   "outputs": [
    {
     "name": "stdout",
     "output_type": "stream",
     "text": [
      "This should be zero: 0.0\n",
      "This should be zero: 0.0\n"
     ]
    }
   ],
   "source": [
    "p_t1 = p_atm + rho_olie * g * h_olie\n",
    "p_t2 = overdruk_A + p_atm + rho_Hg * g * h_Hg\n",
    "print(\"This should be zero: \" + str(p_t1 - p_t2))\n",
    "print(\"This should be zero: \" + str(massa * g - volume_cilinder * g * rho_olie))"
   ]
  },
  {
   "cell_type": "code",
   "execution_count": null,
   "metadata": {},
   "outputs": [],
   "source": []
  }
 ],
 "metadata": {
  "kernelspec": {
   "display_name": "Python 3",
   "language": "python",
   "name": "python3"
  },
  "language_info": {
   "codemirror_mode": {
    "name": "ipython",
    "version": 3
   },
   "file_extension": ".py",
   "mimetype": "text/x-python",
   "name": "python",
   "nbconvert_exporter": "python",
   "pygments_lexer": "ipython3",
   "version": "3.7.1"
  }
 },
 "nbformat": 4,
 "nbformat_minor": 2
}
