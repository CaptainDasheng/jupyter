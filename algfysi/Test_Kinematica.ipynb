{
 "cells": [
  {
   "cell_type": "markdown",
   "metadata": {},
   "source": [
    "# Test Kinematica"
   ]
  },
  {
   "attachments": {},
   "cell_type": "markdown",
   "metadata": {},
   "source": [
    "Een steen wordt vanop de top van een gebouw (45.0 m hoog) weggegooid onder een hoek van 30.0° met de horizontaal. De steen heeft een initiële snelheid gelijk aan 20.0 m/s.\n",
    "- Hoe lang duurt het tot de steen op de grond valt?\n",
    "- Wat is de snelheid van de steen juist voordat hij op de grond valt?\n",
    "\n",
    "## Oplossing\n",
    "\n",
    "Gegeven is: $h = 45.0$ m, $\\theta = 30.0$° en $v_0 = 20.0$ m/s. Laten we deze input eerst definiëren in Octave, samen met de gravitatieversnelling $g = 9.81$ m/s$^2$:"
   ]
  },
  {
   "cell_type": "code",
   "execution_count": 1,
   "metadata": {},
   "outputs": [],
   "source": [
    "h = 45;\n",
    "theta = 30/180*pi;\n",
    "v0 = 20;\n",
    "g = 9.81;"
   ]
  },
  {
   "cell_type": "markdown",
   "metadata": {},
   "source": [
    "We starten zoals gewoonlijk met de bewegingsvergelijkingen:\n",
    "\n",
    "\\begin{cases}\n",
    "  x(t) = x_0 + v_{x0}t + a_{x}t^2 = v_0 \\cos\\theta t\\\\    \n",
    "  y(t) = y_0 + v_{y0}t + a_{y}t^2 = h + v_0 \\sin\\theta t - \\frac{1}{2} g t^2\n",
    "\\end{cases}\n",
    "\n",
    "We zoeken het tijdstip waarop de steen op de grond valt. Dit komt overeen met $y(t) = 0$:\n",
    "\n",
    "\\begin{align}\n",
    "y(t) = 0 &\\Leftrightarrow h + v_0 \\sin\\theta t - \\frac{1}{2} g t^2 = 0 \\\\\n",
    "&\\Leftrightarrow \\frac{1}{2} g t^2 - v_0 \\sin\\theta t - h = 0\n",
    "\\end{align}\n",
    "\n",
    "Dit is een vierkantsvergelijking met $a = \\frac{g}{2}$, $b = - v_0 \\sin\\theta$ en $c = -h$. Laten we deze even snel oplossen in Octave:"
   ]
  },
  {
   "cell_type": "code",
   "execution_count": 2,
   "metadata": {},
   "outputs": [
    {
     "name": "stdout",
     "output_type": "stream",
     "text": [
      "D =  31.351\n",
      "t1 =  4.2152\n",
      "t2 = -2.1765\n"
     ]
    }
   ],
   "source": [
    "a = g/2; b = -v0 * sin(theta); c = -h;\n",
    "D = sqrt(b^2 - 4*a*c) % De discriminant\n",
    "t1 = (-b + D)/(2*a), t2 = (-b - D)/(2*a)"
   ]
  },
  {
   "cell_type": "markdown",
   "metadata": {},
   "source": [
    "$t_1$ is het tijdstip dat we zoeken. Om de snelheid te vinden gebruiken we:\n",
    "\n",
    "\\begin{cases}\n",
    "  v_x(t) = v_{x0} + a_{x}t = v_0 \\cos\\theta \\\\    \n",
    "  v_y(t) = v_{y0} + a_{y}t = v_0 \\sin\\theta - g t\n",
    "\\end{cases}\n",
    "\n",
    "En de uitdrukking voor de grootte van de vector $|\\vec{v}| = \\sqrt{v_x^2 + v_y^2}$:"
   ]
  },
  {
   "cell_type": "code",
   "execution_count": 3,
   "metadata": {},
   "outputs": [
    {
     "name": "stdout",
     "output_type": "stream",
     "text": [
      "vx =  17.321\n",
      "vy = -31.351\n",
      "v =  35.818\n"
     ]
    }
   ],
   "source": [
    "vx = v0*cos(theta)\n",
    "vy = v0*sin(theta)-g*t1\n",
    "v = sqrt(vx^2 + vy^2)"
   ]
  },
  {
   "cell_type": "markdown",
   "metadata": {},
   "source": [
    "De finale oplossingen zijn dus $t = 4.22$ s en $|\\vec{v}| = 35.8$ m/s."
   ]
  }
 ],
 "metadata": {
  "kernelspec": {
   "display_name": "Octave",
   "language": "octave",
   "name": "octave"
  },
  "language_info": {
   "file_extension": ".m",
   "help_links": [
    {
     "text": "GNU Octave",
     "url": "https://www.gnu.org/software/octave/support.html"
    },
    {
     "text": "Octave Kernel",
     "url": "https://github.com/Calysto/octave_kernel"
    },
    {
     "text": "MetaKernel Magics",
     "url": "https://github.com/calysto/metakernel/blob/master/metakernel/magics/README.md"
    }
   ],
   "mimetype": "text/x-octave",
   "name": "octave",
   "version": "4.4.1"
  }
 },
 "nbformat": 4,
 "nbformat_minor": 2
}
