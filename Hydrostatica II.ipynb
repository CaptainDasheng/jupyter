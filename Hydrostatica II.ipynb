{
 "cells": [
  {
   "cell_type": "code",
   "execution_count": 18,
   "metadata": {},
   "outputs": [],
   "source": [
    "# Constants\n",
    "\n",
    "g = 9.81 # m s^{-2}\n",
    "sn_g = 3 # Number of significant numbers\n",
    "p_0 = 1.013e5 # Pa\n",
    "sn_p_0 = 4 # Number of significant numbers\n",
    "\n",
    "# SO plagiarism\n",
    "\n",
    "import numpy as np\n",
    "\n",
    "def float_nsf(q,n):\n",
    "    \"\"\"\n",
    "    Truncate a float to n significant figures.  May produce overflow in \n",
    "    very last decimal place when q < 1.  This can be removed by an extra \n",
    "    formatted print. \n",
    "    Arguments:\n",
    "      q : a float\n",
    "      n : desired number of significant figures\n",
    "    Returns:\n",
    "    Float with only n s.f. and trailing zeros, but with a possible small overflow.\n",
    "    \"\"\"\n",
    "    sgn = np.sign(q)\n",
    "    q = abs(q)\n",
    "    \n",
    "    if q < 1. :\n",
    "        order = -int(np.ceil(abs(np.log10(q))))\n",
    "    else:\n",
    "        order = int(np.ceil(abs(np.log10(q)))) - 1\n",
    "        \n",
    "    val = q/(10**order)\n",
    "    \n",
    "    if q < 1.:\n",
    "        return sgn*round(val, n - 1)*10.**order\n",
    "    else:\n",
    "        return sgn*round(val, n)*10.**order\n",
    "\n",
    "def float_sn(q,n):\n",
    "    \"\"\"\n",
    "    Write a float in its scientific notation with a specified number \n",
    "    of significant numbers. \n",
    "    \n",
    "    Arguments:\n",
    "      q : a float\n",
    "      n : desired number of significant figures\n",
    "    Returns:\n",
    "    Float with only n s.f. and trailing zeros, but with a possible small overflow.\n",
    "    \"\"\"\n",
    "    sgn = np.sign(q)\n",
    "    q = abs(q)\n",
    "    format = \"{0:.\" + str(n-1) + \"f}\"\n",
    "    \n",
    "    if q == 0:\n",
    "        return str.format(format, sgn*round(q, n))\n",
    "    elif q < 1. :\n",
    "        order = -int(np.ceil(abs(np.log10(q))))\n",
    "    elif q == 1:\n",
    "        return str.format(format, sgn*round(q, n))\n",
    "    else:\n",
    "        order = int(np.ceil(abs(np.log10(q)))) - 1\n",
    "        \n",
    "    val = q/(10**order)\n",
    "    \n",
    "    if q < 1.:\n",
    "        if order == 0:\n",
    "            return str.format(format, sgn*round(val, n - 1))\n",
    "        else:\n",
    "            return str.format(format, sgn*round(val, n - 1)) + \" $\\cdot 10^{\" + str(order) + \"}$\"\n",
    "    else:\n",
    "        if order == 0:\n",
    "            return str.format(format, sgn*round(val, n)) \n",
    "        else:\n",
    "            return str.format(format, sgn*round(val, n)) + \" $\\cdot 10^{\" + str(order) + \"}$\""
   ]
  },
  {
   "cell_type": "markdown",
   "metadata": {},
   "source": [
    "# Hydrostatica I"
   ]
  },
  {
   "cell_type": "markdown",
   "metadata": {},
   "source": [
    "## Oefening 1"
   ]
  },
  {
   "cell_type": "code",
   "execution_count": 20,
   "metadata": {},
   "outputs": [],
   "source": [
    "# Input variables\n",
    "\n",
    "zijde = 10e-2 # m\n",
    "sn_zijde = 2 # Number of significant numbers\n",
    "\n",
    "rho_hout = 800 # kg m^{-3}\n",
    "sn_rho_hout = 3 # Number of significant numbers\n",
    "\n",
    "rho_water = 1000 # kg m^{-3}\n",
    "sn_rho_water = 4 # Number of significant numbers"
   ]
  },
  {
   "cell_type": "markdown",
   "metadata": {
    "variables": {
     "float_sn(rho_hout, sn_rho_hout)": "8.00 $\\cdot 10^{2}$",
     "float_sn(zijde*1e2, sn_zijde)": "10.0"
    }
   },
   "source": [
    "Een kubusvormig houten blokje met een zijde gelijk aan {{float_sn(zijde*1e2, sn_zijde)}} cm en dichtheid $\\rho_{hout}$ = {{float_sn(rho_hout, sn_rho_hout)}} kg/m$^3$ wordt onder water gehouden door een koord vastgemaakt aan de bodem van het vat. Wat is de spankracht in de koord indien het blokje stabiel is?"
   ]
  },
  {
   "cell_type": "code",
   "execution_count": 21,
   "metadata": {},
   "outputs": [],
   "source": [
    "S = (rho_water - rho_hout) * zijde**3 * g\n",
    "sn_S = 2 "
   ]
  },
  {
   "cell_type": "markdown",
   "metadata": {
    "variables": {
     "float_sn(S, sn_S)": "2.0"
    }
   },
   "source": [
    "De spankracht is gelijk aan {{float_sn(S, sn_S)}} N."
   ]
  },
  {
   "cell_type": "markdown",
   "metadata": {},
   "source": [
    "## Oefening 2"
   ]
  },
  {
   "cell_type": "code",
   "execution_count": 22,
   "metadata": {},
   "outputs": [],
   "source": [
    "# Input variables\n",
    "\n",
    "m_leeg = 220e6 # kg\n",
    "sn_m_leeg = 3 # Number of significant numbers\n",
    "\n",
    "m_vol = 660e6 # kg\n",
    "sn_m_vol = 3 # Number of significant numbers\n",
    "\n",
    "rho_zeewater = 1020 # kg m^{-3}\n",
    "sn_rho_zeewater = 4 # Number of significant numbers\n",
    "\n",
    "l = 380 # m\n",
    "sn_l = 3 # Number of significant numbers\n",
    "\n",
    "b = 60.0 # m\n",
    "sn_b = 3 # Number of significant numbers\n",
    "\n",
    "rho_zoetwater = 1000 # kg m^{-3}\n",
    "sn_rho_zoetwater = 4 # Number of significant numbers"
   ]
  },
  {
   "cell_type": "markdown",
   "metadata": {},
   "source": [
    "De supertanker Globtik-London heeft een massa van 220 000 ton als hij leeg is. Hij kan tot 440 000 ton olie laden. Wat is de diepgang van deze tanker als hij leeg is en als hij vol is. Veronderstel de dichtheid van zeewater 1020 kg/m3. Veronderstel de romp balkvormig (380 m lang, 60.0 m breed en 40.0 m hoog). Wat is de diepgang van het gevulde schip in zoetwater (ρ = 1000 kg/m3)?"
   ]
  },
  {
   "cell_type": "code",
   "execution_count": 23,
   "metadata": {},
   "outputs": [],
   "source": [
    "d_leeg = m_leeg / (rho_zeewater * b * l)\n",
    "d_vol_zee = m_vol / (rho_zeewater * b * l)\n",
    "d_vol_zoet = m_vol / (rho_zoetwater * b * l)"
   ]
  },
  {
   "cell_type": "markdown",
   "metadata": {
    "variables": {
     "float_sn(d_leeg, 3)": "9.46",
     "float_sn(d_vol_zee, 3)": "2.84 $\\cdot 10^{1}$",
     "float_sn(d_vol_zoet, 3)": "2.90 $\\cdot 10^{1}$"
    }
   },
   "source": [
    "De diepte van de lege boot is {{float_sn(d_leeg, 3)}} m.\n",
    "De diepte van de volle boot is {{float_sn(d_vol_zee, 3)}} m.\n",
    "De diepte van de volle boot in zoetwater is {{float_sn(d_vol_zoet, 3)}} m."
   ]
  },
  {
   "cell_type": "markdown",
   "metadata": {},
   "source": [
    "## Oefening 3"
   ]
  },
  {
   "cell_type": "code",
   "execution_count": 24,
   "metadata": {},
   "outputs": [],
   "source": [
    "# Input variables\n",
    "\n",
    "zijde = 10e-2 # m\n",
    "sn_zijde = 3 # Number of significant numbers\n",
    "\n",
    "d_w = 2e-2 # m\n",
    "sn_d_w = 3 # Number of significant numbers\n",
    "\n",
    "rho_water = 1000 # kg m^{-3}\n",
    "sn_rho_water = 3 # Number of significant numbers\n",
    "\n",
    "rho_olie = 800 # kg m^{-3}\n",
    "sn_rho_olie = 3 # Number of significant numbers"
   ]
  },
  {
   "cell_type": "markdown",
   "metadata": {},
   "source": [
    "Een kubusvormige houten blok met zijde 10.0 cm zweeft ter hoogte van een horizontale scheidingslaag tussen olie en water. Het blok bevindt zich 2.0 cm in het water. De dichtheid van olie bedraagt 800 kg/m3. Bereken de massa van het blok."
   ]
  },
  {
   "cell_type": "code",
   "execution_count": 7,
   "metadata": {},
   "outputs": [],
   "source": [
    "m = zijde**2 * (rho_olie * (zijde - d_w) + rho_water*d_w )"
   ]
  },
  {
   "cell_type": "markdown",
   "metadata": {
    "variables": {
     "float_sn(m, 2)": "8.4 $\\cdot 10^{-1}$"
    }
   },
   "source": [
    "De massa van de blok is gelijk aan {{float_sn(m, 2)}} kg."
   ]
  },
  {
   "cell_type": "markdown",
   "metadata": {},
   "source": [
    "## Oefening 4"
   ]
  },
  {
   "cell_type": "code",
   "execution_count": 8,
   "metadata": {},
   "outputs": [],
   "source": [
    "gamma = 0.0728 # N / m\n",
    "sn_gamma = 3 # Number of significant numbers\n",
    "\n",
    "R_druppel = 1.0e-5 # m\n",
    "sn_R_druppel = 3 # Number of significant numbers\n",
    "\n",
    "R_bel = 1.0e-2 # m\n",
    "sn_R_bel = 2 # Number of significant numbers\n",
    "\n",
    "p_over = 0.1 * p_0 # m\n",
    "sn_p_over = 3 # Number of significant numbers"
   ]
  },
  {
   "cell_type": "code",
   "execution_count": 9,
   "metadata": {},
   "outputs": [],
   "source": [
    "p_druppel = 2*gamma/R_druppel\n",
    "p_bel = 4*gamma/R_bel\n",
    "R = 2*gamma/p_over"
   ]
  },
  {
   "cell_type": "markdown",
   "metadata": {
    "variables": {
     "float_sn(R, 3)": "1.44 $\\cdot 10^{-5}$",
     "float_sn(p_bel, 2)": "2.9 $\\cdot 10^{1}$",
     "float_sn(p_druppel, 3)": "1.46 $\\cdot 10^{4}$"
    }
   },
   "source": [
    "De overdruk binnen de druppel is {{float_sn(p_druppel, 3)}} Pa.\n",
    "\n",
    "De overdruk binnen de bel is {{float_sn(p_bel, 2)}} Pa.\n",
    "\n",
    "De straal van de waterdruppel is {{float_sn(R, 3)}} m."
   ]
  },
  {
   "cell_type": "markdown",
   "metadata": {},
   "source": [
    "## Oefening 5"
   ]
  },
  {
   "cell_type": "code",
   "execution_count": 10,
   "metadata": {},
   "outputs": [],
   "source": [
    "L = 400 # m\n",
    "sn_L = 3 # Number of significant numbers\n",
    "\n",
    "h = 30.0 # cm\n",
    "sn_h = 3 # Number of significant numbers\n",
    "\n",
    "rho_ijs = 920 # kg m^{-3}\n",
    "sn_rho_ijs = 5 # Number of significant numbers\n",
    "\n",
    "rho_zw = 1025 # kg m^{-3}\n",
    "sn_rho_zw = 4 # Number of significant numbers"
   ]
  },
  {
   "cell_type": "markdown",
   "metadata": {
    "variables": {
     "L": "400",
     "rho_ijs": "920",
     "rho_zw": "1025",
     "round(h, 0)": "30.0"
    }
   },
   "source": [
    "Typische ijsbergen gevonden in de Noord-Atlantische oceaan zijn ruwweg balkvormig, steken {{round(h, 0)}} m boven water uit en beslaan een oppervlakte van {{L}} m op {{L}} m. De dichtheid van ijs is {{rho_ijs}} kg/m3 en die van zeewater is {{rho_zw}} kg/m3. Wat is het totale volume van zo een ijsberg en wat is de totale massa?"
   ]
  },
  {
   "cell_type": "code",
   "execution_count": 15,
   "metadata": {},
   "outputs": [],
   "source": [
    "d = h*rho_ijs/(rho_zw - rho_ijs)\n",
    "V = L**2 * (d + h)\n",
    "m = rho_ijs * V"
   ]
  },
  {
   "cell_type": "markdown",
   "metadata": {
    "variables": {
     "float_sn(V, 3)": "4.69 $\\cdot 10^{7}$",
     "float_sn(d, 3)": "2.63 $\\cdot 10^{2}$",
     "float_sn(m, 3)": "4.31 $\\cdot 10^{10}$"
    }
   },
   "source": [
    "De diepte van de ijsblok is {{float_sn(d, 3)}} m. Het totale volume is {{float_sn(V, 3)}} m$^3$. De totale massa is {{float_sn(m, 3)}} kg."
   ]
  },
  {
   "cell_type": "markdown",
   "metadata": {},
   "source": [
    "## Oefening 6"
   ]
  },
  {
   "cell_type": "code",
   "execution_count": 12,
   "metadata": {},
   "outputs": [],
   "source": [
    "d_vl = 4.6 # m\n",
    "sn_d_w = 2 # Number of significant numbers\n",
    "\n",
    "d_w = 5.8 # m\n",
    "sn_d_w = 2 # Number of significant numbers\n",
    "\n",
    "rho_water = 1000 # kg m^{-3}\n",
    "sn_rho_water = 4 # Number of significant numbers"
   ]
  },
  {
   "cell_type": "markdown",
   "metadata": {},
   "source": [
    "Je moet de dichtheid van een onbekende vloeistof bepalen. Je merkt dat wanner een kubus drijft in de vloeistof, 4.6 cm van de zijde is ondergedompeld in de vloeistof. Wanneer diezelfde kubus in water wordt geplaatst, drijft hij met 5.8 cm van de zijde ondergedompeld. Wat is de dichtheid van de onbekende vloeistof?"
   ]
  },
  {
   "cell_type": "code",
   "execution_count": 17,
   "metadata": {},
   "outputs": [],
   "source": [
    "rho_vl = d_w * rho_water/d_vl"
   ]
  },
  {
   "cell_type": "markdown",
   "metadata": {
    "variables": {
     "float_sn(rho_vl, 2)": "1.3 $\\cdot 10^{3}$"
    }
   },
   "source": [
    "De dichtheid van de vloeistof is {{float_sn(rho_vl, 2)}} kg/m$^3$."
   ]
  },
  {
   "cell_type": "code",
   "execution_count": null,
   "metadata": {},
   "outputs": [],
   "source": []
  }
 ],
 "metadata": {
  "kernelspec": {
   "display_name": "Python 3",
   "language": "python",
   "name": "python3"
  },
  "language_info": {
   "codemirror_mode": {
    "name": "ipython",
    "version": 3
   },
   "file_extension": ".py",
   "mimetype": "text/x-python",
   "name": "python",
   "nbconvert_exporter": "python",
   "pygments_lexer": "ipython3",
   "version": "3.6.2"
  }
 },
 "nbformat": 4,
 "nbformat_minor": 2
}
