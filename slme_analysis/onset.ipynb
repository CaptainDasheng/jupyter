{
 "cells": [
  {
   "cell_type": "code",
   "execution_count": 1,
   "metadata": {},
   "outputs": [
    {
     "name": "stdout",
     "output_type": "stream",
     "text": [
      "vasp_bulk_exe /users/knc6/VASP/vasp54/src/vasp.5.4.1Dobby/bin/vasp_std\n",
      "vasp_surf_exe /users/knc6/VASP/vasp54/src/vasp.5.4.1Dobbynoz/bin/vasp_std\n",
      "vasp_nw_exe /users/knc6/VASP/vasp54/src/vasp.5.4.1Dobbynoxy/bin/vasp_ncl\n",
      "vasp_soc_exe /users/knc6/VASP/vasp54/src/vasp.5.4.1Dobby/bin/vasp_ncl\n",
      "vasp_vdw_dat /users/knc6/bin/vdw_kernel.bindat\n",
      "lammps_exec ~/Software/LAMMPS/lammps-master/src/lmp_serial\n",
      "VASP_PSP_DIR /users/knc6/VASP/VASP-POTENTIAL\n",
      "MAPI_KEY ''\n",
      "data_json /users/knc6/bin/all_mp.json\n",
      "ncores 24\n",
      "nnodes 8\n",
      "mem 1500\n",
      "walltime 148:12:00\n",
      "input_nobox /users/knc6/inelast_nobox.mod\n",
      "input_box /users/knc6/inelast.mod\n",
      "mp_cmd mpirun\n"
     ]
    }
   ],
   "source": [
    "# Notebook header for loading packages\n",
    "\n",
    "import os\n",
    "from jarvis.tools.slme import SolarCell"
   ]
  },
  {
   "cell_type": "markdown",
   "metadata": {},
   "source": [
    "# Influence of the onset of the absorption spectrum on the SLME\n",
    "\n",
    "In this notebook, we'll take a quick look a the influence of the onset of the absorption spectrum on the final result for the SLME, as well as the thickness dependence. Of particular interest are the comparison with the shockley-queisser limit, as the small onset can have a significant influence on the SLME as the thickness increases, and as such remove the possibility of crossing the shockley-queisser limit, as we found to be possible in our CuAu-like paper. The basic idea is that because the recombination current is calculated from the combination of the absorptivity and the temperature-dependent blackbody spectrum:\n",
    "\n",
    "$$\n",
    "J_0^r = e \\pi \\int_0^\\infty a(E) \\Phi_{bb} (E, T) dE\n",
    "$$\n",
    "\n",
    "Let's stick to the radiative limit for now, i.e. $J_0=J_0^r$. In case there is an earlier onset of the absorptivity $a(E)$, this will increase the recombination current, which is clear from the integral above. There are several ways to obtain an onset of the absorptivity below the band gap:\n",
    "\n",
    "* Smearing (or smoothening, whatever you want to call it) of the imaginary part of the dielectric function because of the complex integration used in the Kramer-Kronig transformation in VASP. When performing the Kramers-Kronig transformation, the imaginary part of the dielectric function is overwritten by the smeared version. After this step, there is the following piece of code in the `linear_optics.F` file:<br><br>\n",
    "```\n",
    "2244 ! this line overwrites the imaginary part by the original data\n",
    "2245 ! passed to the subroutine\n",
    "2246 ! the option is usually selected if the complex shift is small,\n",
    "2247 ! since in this case the KK transformation above yields inaccurate results\n",
    "2248 ! for the imaginary part\n",
    "2249 ! however, this, option can not be used if the input data is already complex\n",
    "2250 ! values\n",
    "2251       IF (ABS(CSHIFT) < DELTAE .AND. .NOT. LCOPY) THEN\n",
    "2252          LWARN=.TRUE.\n",
    "2253       ENDIF\n",
    "2254       IF (ABS(CSHIFT) < DELTAE .AND. LCOPY) THEN\n",
    "2255          EPS_REAL=CMPLX(REAL(EPS_REAL,q),REAL(EPSDD,q))\n",
    "2256       ENDIF\n",
    "2257 \n",
    "2258       EPSDD=EPS_REAL\n",
    "```\n",
    "<br>\n",
    "Simply put, this piece of code once again overwrites the imaginary part of the dielectric function with the original one calculated from the matrix elements \n",
    "(line 2255), on two conditions: The CSHIFT value is smaller than the spacing of the energy mesh and there are no significant imaginary parts in the original imaginary part of the dielectric function.<br><br>\n",
    "* Using smearing in order to aid the k-point convergence. The influence of this smearing will of course depend on the amount of smearing used.\n",
    "* Interpolation of the energy grid. If the band gap is in between two energy grid points (which is usually the case), and the distance between the grid point is significantly large, the interpolation of the absorptivity can lead to a small but significant onset below the bandgap.\n",
    "\n",
    "Let's take a closer look at the various onset-related errors for the SLME calculation."
   ]
  },
  {
   "cell_type": "markdown",
   "metadata": {},
   "source": [
    "## CSHIFT\n",
    "\n",
    "First let's compare the difference between the \n",
    "\n"
   ]
  },
  {
   "cell_type": "code",
   "execution_count": null,
   "metadata": {},
   "outputs": [],
   "source": []
  },
  {
   "cell_type": "code",
   "execution_count": 2,
   "metadata": {},
   "outputs": [
    {
     "name": "stderr",
     "output_type": "stream",
     "text": [
      "/Users/mbercx/miniconda3/envs/my_jarvis/lib/python3.6/site-packages/pymatgen/io/vasp/outputs.py:155: UserWarning: Float overflow (*******) encountered in vasprun\n",
      "  warnings.warn('Float overflow (*******) encountered in vasprun')\n",
      "/Users/mbercx/miniconda3/envs/my_jarvis/lib/python3.6/site-packages/pymatgen/io/vasp/outputs.py:880: UserWarning: No POTCAR file with matching TITEL fields was found in /Users/mbercx/Dropbox/python/jupyter/slme_analysis/data\n",
      "  \" was found in {}\".format(os.path.abspath(p)))\n"
     ]
    }
   ],
   "source": [
    "cuinse2_lowc_n2000 = SolarCell.from_file(os.path.join(os.getcwd(), \"data\", \"lowc_nedos2000.xml\"))"
   ]
  },
  {
   "cell_type": "code",
   "execution_count": 3,
   "metadata": {},
   "outputs": [
    {
     "data": {
      "image/png": "[encoded data removed]",
      "text/plain": [
       "<Figure size 432x288 with 1 Axes>"
      ]
     },
     "metadata": {
      "needs_background": "light"
     },
     "output_type": "display_data"
    }
   ],
   "source": [
    "cuinse2_lowc_n2000.plot_slme_vs_thickness(temperature=298.15)"
   ]
  },
  {
   "cell_type": "code",
   "execution_count": null,
   "metadata": {},
   "outputs": [],
   "source": []
  }
 ],
 "metadata": {
  "kernelspec": {
   "display_name": "Python 3",
   "language": "python",
   "name": "python3"
  },
  "language_info": {
   "codemirror_mode": {
    "name": "ipython",
    "version": 3
   },
   "file_extension": ".py",
   "mimetype": "text/x-python",
   "name": "python",
   "nbconvert_exporter": "python",
   "pygments_lexer": "ipython3",
   "version": "3.6.7"
  }
 },
 "nbformat": 4,
 "nbformat_minor": 2
}
