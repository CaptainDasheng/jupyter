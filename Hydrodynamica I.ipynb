{
 "cells": [
  {
   "cell_type": "code",
   "execution_count": 1,
   "metadata": {},
   "outputs": [],
   "source": [
    "# Constants\n",
    "\n",
    "import math\n",
    "g = 9.81 # m s^{-2}\n",
    "sn_g = 3 # Number of significant numbers\n",
    "p_0 = 1.013e5 # Pa\n",
    "sn_p_0 = 4 # Number of significant numbers\n",
    "\n",
    "# SO plagiarism\n",
    "\n",
    "import numpy as np\n",
    "\n",
    "def float_nsf(q,n):\n",
    "    \"\"\"\n",
    "    Truncate a float to n significant figures.  May produce overflow in \n",
    "    very last decimal place when q < 1.  This can be removed by an extra \n",
    "    formatted print. \n",
    "    Arguments:\n",
    "      q : a float\n",
    "      n : desired number of significant figures\n",
    "    Returns:\n",
    "    Float with only n s.f. and trailing zeros, but with a possible small overflow.\n",
    "    \"\"\"\n",
    "    sgn = np.sign(q)\n",
    "    q = abs(q)\n",
    "    \n",
    "    if q < 1. :\n",
    "        order = -int(np.ceil(abs(np.log10(q))))\n",
    "    else:\n",
    "        order = int(np.ceil(abs(np.log10(q)))) - 1\n",
    "        \n",
    "    val = q/(10**order)\n",
    "    \n",
    "    if q < 1.:\n",
    "        return sgn*round(val, n - 1)*10.**order\n",
    "    else:\n",
    "        return sgn*round(val, n)*10.**order\n",
    "\n",
    "def float_sn(q,n):\n",
    "    \"\"\"\n",
    "    Write a float in its scientific notation with a specified number \n",
    "    of significant numbers. \n",
    "    \n",
    "    Arguments:\n",
    "      q : a float\n",
    "      n : desired number of significant figures\n",
    "    Returns:\n",
    "    Float with only n s.f. and trailing zeros, but with a possible small overflow.\n",
    "    \"\"\"\n",
    "    sgn = np.sign(q)\n",
    "    q = abs(q)\n",
    "    format = \"{0:.\" + str(n-1) + \"f}\"\n",
    "    \n",
    "    if q == 0:\n",
    "        return str.format(format, sgn*round(q, n))\n",
    "    elif q < 1. :\n",
    "        order = -int(np.ceil(abs(np.log10(q))))\n",
    "    elif q == 1:\n",
    "        return str.format(format, sgn*round(q, n))\n",
    "    else:\n",
    "        order = int(np.ceil(abs(np.log10(q)))) - 1\n",
    "        \n",
    "    val = q/(10**order)\n",
    "    \n",
    "    if q < 1.:\n",
    "        if order == 0:\n",
    "            return str.format(format, sgn*round(val, n - 1))\n",
    "        else:\n",
    "            return str.format(format, sgn*round(val, n - 1)) + \" $\\cdot 10^{\" + str(order) + \"}$\"\n",
    "    else:\n",
    "        if order == 0:\n",
    "            return str.format(format, sgn*round(val, n)) \n",
    "        else:\n",
    "            return str.format(format, sgn*round(val, n)) + \" $\\cdot 10^{\" + str(order) + \"}$\""
   ]
  },
  {
   "cell_type": "markdown",
   "metadata": {},
   "source": [
    "# Hydrostatica I"
   ]
  },
  {
   "cell_type": "markdown",
   "metadata": {},
   "source": [
    "## Oefening 1"
   ]
  },
  {
   "cell_type": "code",
   "execution_count": null,
   "metadata": {},
   "outputs": [],
   "source": []
  },
  {
   "cell_type": "markdown",
   "metadata": {},
   "source": []
  },
  {
   "cell_type": "code",
   "execution_count": null,
   "metadata": {},
   "outputs": [],
   "source": []
  },
  {
   "cell_type": "markdown",
   "metadata": {},
   "source": []
  },
  {
   "cell_type": "markdown",
   "metadata": {},
   "source": [
    "## Oefening 2"
   ]
  },
  {
   "cell_type": "code",
   "execution_count": 25,
   "metadata": {},
   "outputs": [],
   "source": [
    "# Input variables\n",
    "\n",
    "d_s = 2.50e-2 # m\n",
    "\n",
    "V = 30.0 # l\n",
    "t = 60 # s\n",
    "\n",
    "A_k = 0.500 # cm^2"
   ]
  },
  {
   "attachments": {},
   "cell_type": "markdown",
   "metadata": {},
   "source": [
    "Een tuinslang met 2.50 cm diameter wordt gebruikt om een emmer met volume 30.0 l te vullen. De tuinman merkt op dat het 1.00 minuut duurt vooraleer de emmer vol is. Wat is de snelheid van het water in de slang? Er wordt op de tuinslang een sproeikop bevestigd met doorsnede 0.500 cm$^2$. Met welke snelheid komt het water uit de sproeikop indien het volumedebiet hetzelfde is als bij het vullen van de emmer?"
   ]
  },
  {
   "cell_type": "code",
   "execution_count": 26,
   "metadata": {},
   "outputs": [
    {
     "data": {
      "text/plain": [
       "0.5"
      ]
     },
     "execution_count": 26,
     "metadata": {},
     "output_type": "execute_result"
    }
   ],
   "source": [
    "Q = V/t; Q"
   ]
  },
  {
   "cell_type": "code",
   "execution_count": 27,
   "metadata": {},
   "outputs": [
    {
     "data": {
      "text/plain": [
       "1.0185916357881302"
      ]
     },
     "execution_count": 27,
     "metadata": {},
     "output_type": "execute_result"
    }
   ],
   "source": [
    "v_s = Q/1e3/(math.pi*(d_s/2)**2); v_s"
   ]
  },
  {
   "cell_type": "code",
   "execution_count": 28,
   "metadata": {},
   "outputs": [
    {
     "data": {
      "text/plain": [
       "10.0"
      ]
     },
     "execution_count": 28,
     "metadata": {},
     "output_type": "execute_result"
    }
   ],
   "source": [
    "v_k = (math.pi*(d_s/2)**2)/A_k*v_s*1e4; v_k"
   ]
  },
  {
   "cell_type": "markdown",
   "metadata": {},
   "source": [
    "## Oefening 3"
   ]
  },
  {
   "cell_type": "code",
   "execution_count": 24,
   "metadata": {},
   "outputs": [],
   "source": [
    "v_1 = 5 # m/s\n"
   ]
  },
  {
   "cell_type": "markdown",
   "metadata": {},
   "source": [
    "## Oefening 5"
   ]
  },
  {
   "cell_type": "code",
   "execution_count": 30,
   "metadata": {},
   "outputs": [
    {
     "data": {
      "text/plain": [
       "7.672027111526653"
      ]
     },
     "execution_count": 30,
     "metadata": {},
     "output_type": "execute_result"
    }
   ],
   "source": [
    "\n",
    "h = 3\n",
    "v = (2*g*h)**(1/2); v"
   ]
  },
  {
   "cell_type": "code",
   "execution_count": null,
   "metadata": {},
   "outputs": [],
   "source": []
  }
 ],
 "metadata": {
  "kernelspec": {
   "display_name": "Python 3",
   "language": "python",
   "name": "python3"
  },
  "language_info": {
   "codemirror_mode": {
    "name": "ipython",
    "version": 3
   },
   "file_extension": ".py",
   "mimetype": "text/x-python",
   "name": "python",
   "nbconvert_exporter": "python",
   "pygments_lexer": "ipython3",
   "version": "3.6.2"
  }
 },
 "nbformat": 4,
 "nbformat_minor": 2
}
