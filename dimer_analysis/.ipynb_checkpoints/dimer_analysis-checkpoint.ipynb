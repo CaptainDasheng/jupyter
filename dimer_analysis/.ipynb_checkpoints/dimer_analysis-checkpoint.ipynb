{
 "cells": [
  {
   "cell_type": "code",
   "execution_count": 15,
   "metadata": {},
   "outputs": [],
   "source": [
    "import os\n",
    "import math"
   ]
  },
  {
   "cell_type": "markdown",
   "metadata": {},
   "source": [
    "# Battery Dimer Analysis\n",
    "\n",
    "This notebook is a short and schematic summary of the analysis performed for my MRS Advances paper, which discusses and compares the formation of oxygen dimers in Li$_{0.5}$MnO$_3$ and Li$_{0.5}$MnO$_3$."
   ]
  },
  {
   "cell_type": "markdown",
   "metadata": {},
   "source": [
    "## Oxygen Oxidation\n",
    "\n",
    "To start our analysis, we take a look at the magnetic moments of the various elements in both structures. We want to compare the magnetic moments on the Mn, Ir and O atoms for the discharged and 75% charged structure. As we have relaxed all bulk structures with HSE06, we can use these results to discuss the change in oxidation state, by analyzing the change in magnetic moments. Here's how we can extract the magnetic moments from the Outcar using pymatgen's vasp I/O:\n",
    "\n"
   ]
  },
  {
   "cell_type": "code",
   "execution_count": 16,
   "metadata": {},
   "outputs": [
    {
     "data": {
      "text/plain": [
       "({'d': 0.0, 'p': -0.0, 's': -0.0, 'tot': -0.0},\n",
       " {'d': 0.0, 'p': -0.0, 's': -0.0, 'tot': -0.0},\n",
       " {'d': 0.0, 'p': 0.0, 's': 0.0, 'tot': 0.0},\n",
       " {'d': 0.0, 'p': -0.0, 's': -0.0, 'tot': -0.0},\n",
       " {'d': 2.973, 'p': 0.029, 's': 0.013, 'tot': 3.014},\n",
       " {'d': -2.973, 'p': -0.029, 's': -0.013, 'tot': -3.014},\n",
       " {'d': 0.0, 'p': 0.001, 's': 0.0, 'tot': 0.001},\n",
       " {'d': 0.0, 'p': -0.001, 's': -0.0, 'tot': -0.001},\n",
       " {'d': 0.0, 'p': -0.002, 's': -0.0, 'tot': -0.002},\n",
       " {'d': 0.0, 'p': -0.001, 's': -0.0, 'tot': -0.001},\n",
       " {'d': 0.0, 'p': 0.002, 's': 0.0, 'tot': 0.002},\n",
       " {'d': 0.0, 'p': 0.001, 's': 0.0, 'tot': 0.001})"
      ]
     },
     "execution_count": 16,
     "metadata": {},
     "output_type": "execute_result"
    }
   ],
   "source": [
    "from pymatgen.io.vasp.outputs import Outcar\n",
    "\n",
    "out = Outcar(\"./data/oxidation/Li2MnO3_hse_OUTCAR\")\n",
    "out.magnetization"
   ]
  },
  {
   "cell_type": "markdown",
   "metadata": {},
   "source": [
    "We can see that the output of the magnetization is given in terms of the various orbitals and the total for each atom in the structure. Let's extract the total for each element and average the absolute value of the magnetic moment:"
   ]
  },
  {
   "cell_type": "code",
   "execution_count": 29,
   "metadata": {},
   "outputs": [
    {
     "name": "stdout",
     "output_type": "stream",
     "text": [
      "magnetization on Mn = 3.014\n",
      "magnetization on O = 0.001\n"
     ]
    }
   ],
   "source": [
    "total_magnetization = [atom['tot'] for atom in out.magnetization]\n",
    "discharged_li2mno3_magmom = dict()\n",
    "discharged_li2mno3_magmom[\"Mn\"] = (sum([abs(mag) for mag in total_magnetization[4:6]]))/2\n",
    "discharged_li2mno3_magmom[\"O\"] = (sum([abs(mag) for mag in total_magnetization[7:12]]))/6\n",
    "print(\"magnetization on Mn = \" + str(discharged_li2mno3_magmom[\"Mn\"]))\n",
    "print(\"magnetization on O = \" + str(round(discharged_li2mno3_magmom[\"O\"], 3)))"
   ]
  },
  {
   "cell_type": "markdown",
   "metadata": {},
   "source": [
    "This could be done a lot better, really. I could write a little script to just get this automatically. But it'll do for now, considering we have a paper to finish. Let's continue with the other structures:"
   ]
  },
  {
   "cell_type": "code",
   "execution_count": null,
   "metadata": {},
   "outputs": [],
   "source": [
    "total_abs_magnetization = [abs(atom['tot']) for atom in Outcar(\"./data/oxidation/Li2MnO3_hse_OUTCAR\").magnetization]\n",
    "discharged_li2mno3_magmom = dict()\n",
    "discharged_li2mno3_magmom[\"Mn\"] = (sum(total_abs_magnetization[1:3]))/2\n",
    "discharged_li2mno3_magmom[\"O\"] = (sum(total_abs_magnetization[4:10]))/6\n",
    "print(\"magnetization on Mn = \" + str(discharged_li2mno3_magmom[\"Mn\"]))\n",
    "print(\"magnetization on O = \" + str(round(discharged_li2mno3_magmom[\"O\"], 3)))"
   ]
  },
  {
   "cell_type": "markdown",
   "metadata": {},
   "source": [
    "## Fully charged Li$_2$MnO$_3$\n",
    "\n",
    "We started our investigation of the oxygen dimers by testing the dimer formation of various dimers in the"
   ]
  },
  {
   "cell_type": "markdown",
   "metadata": {},
   "source": [
    "## Li configuration analysis\n",
    "\n",
    "In order to study partially charged structures, such as Li$_{0.5}$MnO$_3$ and Li$_{0.5}$IrO$_3$, a choice must be made for the Lithium configuration. Hence, it is important to investigate the optimal lithium configuration, by comparing the formation energies of the various lithium configurations. "
   ]
  },
  {
   "cell_type": "markdown",
   "metadata": {},
   "source": [
    "## Symmetry analysis\n",
    "In this Jupyter notebook, we'll be detailing the dimer analysis we have performed in order to test the stability of the oxygen frameworks for Li$_{0.5}$MnO$_3$ and Li$_{0.5}$IrO$_3$. What we've done for the structures is start with an analysis of the symmetry of the structure in order to find a list of the inequivalent dimers. The dimers themselves are found by analysing the neighbours around each site, using the `pymatgen.chemenv` module. Let's start by loading our in-house developed `pybat` package and loading the 2x2x2 supercell O1-Li$_{0.5}$MnO$_3$ structure with the 1a cation configuration for the Li atoms:"
   ]
  },
  {
   "cell_type": "markdown",
   "metadata": {},
   "source": []
  },
  {
   "cell_type": "code",
   "execution_count": 5,
   "metadata": {},
   "outputs": [],
   "source": [
    "import os\n",
    "import pybat.core as pb\n",
    "\n",
    "structure_filename = os.path.abspath(\"dimer_analysis/data/O1-Li0.5MnO3-1a_222.json\")\n",
    "\n",
    "cat = pb.LiRichCathode.from_file(structure_filename)"
   ]
  },
  {
   "cell_type": "markdown",
   "metadata": {},
   "source": [
    "Let's have a look at our cathode structure:"
   ]
  },
  {
   "cell_type": "code",
   "execution_count": 6,
   "metadata": {
    "scrolled": true
   },
   "outputs": [
    {
     "name": "stdout",
     "output_type": "stream",
     "text": [
      "Full Formula (Li8 Mn16 O48)\n",
      "Reduced Formula: LiMn2O6\n",
      "abc   :   9.996316   9.996316   8.225567\n",
      "angles:  90.000000  90.000000 120.000000\n",
      "Sites (96)\n",
      "  #  #VESTA    SP           a         b          c    magmom\n",
      "---  --------  ----  --------  --------  ---------  --------\n",
      "  0  1         Li    0         0         -0            0.003\n",
      "  1  2         Li    0         0          0.5          0.003\n",
      "  2  3         Li    0         0.5       -0            0.003\n",
      "  3  4         Li    0         0.5        0.5          0.003\n",
      "  4  5         Li    0.5       0         -0            0.003\n",
      "  5  6         Li    0.5       0          0.5          0.003\n",
      "  6  7         Li    0.5       0.5       -0            0.003\n",
      "  7  8         Li    0.5       0.5        0.5          0.003\n",
      "  8  -         Vac   1         0          0.25         0\n",
      "  9  -         Vac   0         0          0.75         0\n",
      " 10  -         Vac   0         0.5        0.25         0\n",
      " 11  -         Vac   0         0.5        0.75         0\n",
      " 12  -         Vac   0.5       0          0.25         0\n",
      " 13  -         Vac   0.5       1          0.75         0\n",
      " 14  -         Vac   0.5       0.5        0.25         0\n",
      " 15  -         Vac   0.5       0.5        0.75         0\n",
      " 16  -         Vac   0.166668  0.333333   0            0\n",
      " 17  -         Vac   0.166668  0.333333   0.5          0\n",
      " 18  -         Vac   0.166668  0.833333   0            0\n",
      " 19  -         Vac   0.166668  0.833333   0.5          0\n",
      " 20  -         Vac   0.666668  0.333333   0            0\n",
      " 21  -         Vac   0.666668  0.333333   0.5          0\n",
      " 22  -         Vac   0.666668  0.833333   0            0\n",
      " 23  -         Vac   0.666668  0.833333   0.5          0\n",
      " 24  -         Vac   0.333332  0.166667   1            0\n",
      " 25  -         Vac   0.333332  0.166667   0.5          0\n",
      " 26  -         Vac   0.333332  0.666667   0            0\n",
      " 27  -         Vac   0.333332  0.666667   0.5          0\n",
      " 28  -         Vac   0.833332  0.166667   1            0\n",
      " 29  -         Vac   0.833332  0.166667   0.5          0\n",
      " 30  -         Vac   0.833332  0.666667   0            0\n",
      " 31  -         Vac   0.833332  0.666667   0.5          0\n",
      " 32  9         Mn    0.166667  0.333333   0.249999     3.049\n",
      " 33  10        Mn    0.166667  0.333333   0.749999     3.049\n",
      " 34  11        Mn    0.166667  0.833333   0.249999     3.049\n",
      " 35  12        Mn    0.166667  0.833333   0.749999     3.049\n",
      " 36  13        Mn    0.666667  0.333333   0.249999     3.049\n",
      " 37  14        Mn    0.666667  0.333333   0.749999     3.049\n",
      " 38  15        Mn    0.666667  0.833333   0.249999     3.049\n",
      " 39  16        Mn    0.666667  0.833333   0.749999     3.049\n",
      " 40  17        Mn    0.333333  0.166667   0.250001     3.049\n",
      " 41  18        Mn    0.333333  0.166667   0.750001     3.049\n",
      " 42  19        Mn    0.333333  0.666667   0.250001     3.049\n",
      " 43  20        Mn    0.333333  0.666667   0.750001     3.049\n",
      " 44  21        Mn    0.833333  0.166667   0.250001     3.049\n",
      " 45  22        Mn    0.833333  0.166667   0.750001     3.049\n",
      " 46  23        Mn    0.833333  0.666667   0.250001     3.049\n",
      " 47  24        Mn    0.833333  0.666667   0.750001     3.049\n",
      " 48  25        O     0.32146   0.32146    0.127135    -0.458\n",
      " 49  26        O     0.32146   0.32146    0.627135    -0.458\n",
      " 50  27        O     0.32146   0.82146    0.127135    -0.458\n",
      " 51  28        O     0.32146   0.82146    0.627135    -0.458\n",
      " 52  29        O     0.82146   0.32146    0.127135    -0.458\n",
      " 53  30        O     0.82146   0.32146    0.627135    -0.458\n",
      " 54  31        O     0.82146   0.82146    0.127135    -0.458\n",
      " 55  32        O     0.82146   0.82146    0.627135    -0.458\n",
      " 56  33        O     0.17854   1          0.127135    -0.456\n",
      " 57  34        O     0.17854   1          0.627135    -0.456\n",
      " 58  35        O     0.17854   0.5        0.127135    -0.456\n",
      " 59  36        O     0.17854   0.5        0.627135    -0.456\n",
      " 60  37        O     0.67854   1          0.127135    -0.456\n",
      " 61  38        O     0.67854   1          0.627135    -0.456\n",
      " 62  39        O     0.67854   0.5        0.127135    -0.456\n",
      " 63  40        O     0.67854   0.5        0.627135    -0.456\n",
      " 64  41        O     0         0.17854    0.127135    -0.46\n",
      " 65  42        O     0         0.17854    0.627135    -0.46\n",
      " 66  43        O     0         0.67854    0.127135    -0.46\n",
      " 67  44        O     0         0.67854    0.627135    -0.46\n",
      " 68  45        O     0.5       0.17854    0.127135    -0.46\n",
      " 69  46        O     0.5       0.17854    0.627135    -0.46\n",
      " 70  47        O     0.5       0.67854    0.127135    -0.46\n",
      " 71  48        O     0.5       0.67854    0.627135    -0.46\n",
      " 72  49        O     0.32146   0          0.372865    -0.456\n",
      " 73  50        O     0.32146   0          0.872865    -0.456\n",
      " 74  51        O     0.32146   0.5        0.372865    -0.456\n",
      " 75  52        O     0.32146   0.5        0.872865    -0.456\n",
      " 76  53        O     0.82146   0          0.372865    -0.456\n",
      " 77  54        O     0.82146   0          0.872865    -0.456\n",
      " 78  55        O     0.82146   0.5        0.372865    -0.456\n",
      " 79  56        O     0.82146   0.5        0.872865    -0.456\n",
      " 80  57        O     0.17854   0.17854    0.372865    -0.458\n",
      " 81  58        O     0.17854   0.17854    0.872865    -0.458\n",
      " 82  59        O     0.17854   0.67854    0.372865    -0.458\n",
      " 83  60        O     0.17854   0.67854    0.872865    -0.458\n",
      " 84  61        O     0.67854   0.17854    0.372865    -0.458\n",
      " 85  62        O     0.67854   0.17854    0.872865    -0.458\n",
      " 86  63        O     0.67854   0.67854    0.372865    -0.458\n",
      " 87  64        O     0.67854   0.67854    0.872865    -0.458\n",
      " 88  65        O     1         0.32146    0.372865    -0.46\n",
      " 89  66        O     1         0.32146    0.872865    -0.46\n",
      " 90  67        O     1         0.82146    0.372865    -0.46\n",
      " 91  68        O     1         0.82146    0.872865    -0.46\n",
      " 92  69        O     0.5       0.32146    0.372865    -0.46\n",
      " 93  70        O     0.5       0.32146    0.872865    -0.46\n",
      " 94  71        O     0.5       0.82146    0.372865    -0.46\n",
      " 95  72        O     0.5       0.82146    0.872865    -0.46\n"
     ]
    }
   ],
   "source": [
    "print(cat)"
   ]
  },
  {
   "cell_type": "markdown",
   "metadata": {},
   "source": [
    "Note that the structure also keeps track of the vacancies. These are kept in the structure in order for the Voronoi decomposition of the `chemenv` package to keep functioning properly, as well as making it easier to define a migration of the transition metals. Let's first take a look at how many potential dimers there are in the 2x2x2 unit cell of the structure:"
   ]
  },
  {
   "cell_type": "code",
   "execution_count": 7,
   "metadata": {},
   "outputs": [
    {
     "data": {
      "text/plain": [
       "438"
      ]
     },
     "execution_count": 7,
     "metadata": {},
     "output_type": "execute_result"
    }
   ],
   "source": [
    "len(cat.find_oxygen_dimers())"
   ]
  },
  {
   "cell_type": "markdown",
   "metadata": {},
   "source": [
    "This takes a little longer, because setting up the Voronoi decomposition for the structure using the `pymatgen.analysis.chemenv` package takes some time. It would take quite some time to calculate the formation energy for all of these potential dimers. Fortunately, we've also developed a method for finding the inequivalent dimers in a structure:"
   ]
  },
  {
   "cell_type": "code",
   "execution_count": 8,
   "metadata": {},
   "outputs": [
    {
     "data": {
      "text/plain": [
       "[(64, 54), (64, 77), (54, 76), (81, 48), (81, 89), (88, 64)]"
      ]
     },
     "execution_count": 8,
     "metadata": {},
     "output_type": "execute_result"
    }
   ],
   "source": [
    "cat.find_noneq_dimers()"
   ]
  },
  {
   "cell_type": "markdown",
   "metadata": {},
   "source": [
    "You can see that of all the dimers in the structure, there are only 6 inequivalent ones. This makes the analysis of the stability of the oxygen framework somewhat easier. I've built upon this method in combination with the `fireworks` package in order to set up a workflow that immediately calculates the formation energy for all the non-equivalent dimers. I won't be executing this here, as it sends these workflows to the pybat server on mLab (Soon to be Mongo DB Atlas.)."
   ]
  },
  {
   "cell_type": "markdown",
   "metadata": {},
   "source": [
    "## Results\n",
    "\n"
   ]
  }
 ],
 "metadata": {
  "kernelspec": {
   "display_name": "Python 3",
   "language": "python",
   "name": "python3"
  },
  "language_info": {
   "codemirror_mode": {
    "name": "ipython",
    "version": 3
   },
   "file_extension": ".py",
   "mimetype": "text/x-python",
   "name": "python",
   "nbconvert_exporter": "python",
   "pygments_lexer": "ipython3",
   "version": "3.6.2"
  }
 },
 "nbformat": 4,
 "nbformat_minor": 2
}
