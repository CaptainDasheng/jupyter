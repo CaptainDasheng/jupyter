{
 "cells": [
  {
   "cell_type": "code",
   "execution_count": 1,
   "metadata": {},
   "outputs": [],
   "source": [
    "import os\n",
    "import math\n",
    "import numpy as np"
   ]
  },
  {
   "cell_type": "markdown",
   "metadata": {},
   "source": [
    "# MRS Advances: Analysis\n",
    "\n",
    "This notebook is a short and schematic summary of the analysis performed for my MRS Advances paper, which discusses and compares the formation of oxygen dimers in Li$_{0.5}$MnO$_3$ and Li$_{0.5}$IrO$_3$. Here's a little TODO list I added for myself:\n",
    "\n",
    "* [ ] Add the setup of the calculations in more detail. You could add input files, or simply refer the readers to the workflow scripts used.  "
   ]
  },
  {
   "cell_type": "markdown",
   "metadata": {},
   "source": [
    "## Oxygen Oxidation\n",
    "\n",
    "To start our analysis, we take a look at the magnetic moments of the various elements in both structures. We want to compare the magnetic moments on the Mn, Ir and O atoms for the discharged and 75% charged structure. As we have relaxed all bulk structures with HSE06, we can use these results to discuss the change in oxidation state, by analyzing the change in magnetic moments. Here's how we can extract the magnetic moments from the Outcar using pymatgen's vasp I/O:\n",
    "\n"
   ]
  },
  {
   "cell_type": "code",
   "execution_count": 2,
   "metadata": {
    "scrolled": true
   },
   "outputs": [
    {
     "data": {
      "text/plain": [
       "({'d': 0.0, 'p': -0.0, 's': -0.0, 'tot': -0.0},\n",
       " {'d': 0.0, 'p': -0.0, 's': -0.0, 'tot': -0.0},\n",
       " {'d': 0.0, 'p': 0.0, 's': 0.0, 'tot': 0.0},\n",
       " {'d': 0.0, 'p': -0.0, 's': -0.0, 'tot': -0.0},\n",
       " {'d': 2.973, 'p': 0.029, 's': 0.013, 'tot': 3.014},\n",
       " {'d': -2.973, 'p': -0.029, 's': -0.013, 'tot': -3.014},\n",
       " {'d': 0.0, 'p': 0.001, 's': 0.0, 'tot': 0.001},\n",
       " {'d': 0.0, 'p': -0.001, 's': -0.0, 'tot': -0.001},\n",
       " {'d': 0.0, 'p': -0.002, 's': -0.0, 'tot': -0.002},\n",
       " {'d': 0.0, 'p': -0.001, 's': -0.0, 'tot': -0.001},\n",
       " {'d': 0.0, 'p': 0.002, 's': 0.0, 'tot': 0.002},\n",
       " {'d': 0.0, 'p': 0.001, 's': 0.0, 'tot': 0.001})"
      ]
     },
     "execution_count": 2,
     "metadata": {},
     "output_type": "execute_result"
    }
   ],
   "source": [
    "from pymatgen.io.vasp.outputs import Outcar\n",
    "\n",
    "pybat_data_dir = \"/Users/mbercx/Dropbox/Phd/projects/batteries/data\"\n",
    "\n",
    "li2mno3_out = Outcar(os.path.join(pybat_data_dir, \"Li2MnO3/discharged/o3-abc_afm/bulk/hse/scf_pv/OUTCAR\"))\n",
    "li2mno3_out.magnetization"
   ]
  },
  {
   "cell_type": "markdown",
   "metadata": {},
   "source": [
    "We can see that the output of the magnetization is given in terms of the various orbitals and the total for each atom in the structure. Let's extract the total for each element and average the absolute value of the magnetic moment:"
   ]
  },
  {
   "cell_type": "code",
   "execution_count": 3,
   "metadata": {},
   "outputs": [
    {
     "name": "stdout",
     "output_type": "stream",
     "text": [
      "Li2MnO3: magnetization on Mn = 3.014\n",
      "Li2MnO3: magnetization on O = 0.001\n"
     ]
    }
   ],
   "source": [
    "total_magnetization = [atom['tot'] for atom in li2mno3_out.magnetization]\n",
    "li2mno3_magmom = dict()\n",
    "li2mno3_magmom[\"Mn\"] = (sum([abs(mag) for mag in total_magnetization[4:6]]))/2\n",
    "li2mno3_magmom[\"O\"] = (sum([abs(mag) for mag in total_magnetization[6:]]))/6\n",
    "print(\"Li2MnO3: magnetization on Mn = \" + str(li2mno3_magmom[\"Mn\"]))\n",
    "print(\"Li2MnO3: magnetization on O = \" + str(round(li2mno3_magmom[\"O\"], 3)))"
   ]
  },
  {
   "cell_type": "markdown",
   "metadata": {},
   "source": [
    "This could be done a lot better, really. I could write a little script to just get this automatically. But it'll do for now, considering we have a paper to finish. Let's continue with the other structures:"
   ]
  },
  {
   "cell_type": "code",
   "execution_count": 4,
   "metadata": {},
   "outputs": [
    {
     "name": "stdout",
     "output_type": "stream",
     "text": [
      "Li0.5MnO3: magnetization on Mn = 2.963\n",
      "Li0.5MnO3: magnetization on O = 0.45\n"
     ]
    }
   ],
   "source": [
    "li05mno3_out = Outcar(os.path.join(pybat_data_dir, \"Li2MnO3/0.5/O1-1a/bulk/hse_relax/OUTCAR\"))\n",
    "total_abs_magnetization = [abs(atom['tot']) for atom in li05mno3_out.magnetization]\n",
    "li05mno3_magmom = dict()\n",
    "li05mno3_magmom[\"Mn\"] = (sum(total_abs_magnetization[1:3]))/2\n",
    "li05mno3_magmom[\"O\"] = (sum(total_abs_magnetization[3:]))/6\n",
    "print(\"Li0.5MnO3: magnetization on Mn = \" + str(li05mno3_magmom[\"Mn\"]))\n",
    "print(\"Li0.5MnO3: magnetization on O = \" + str(round(li05mno3_magmom[\"O\"], 3)))"
   ]
  },
  {
   "cell_type": "code",
   "execution_count": 5,
   "metadata": {},
   "outputs": [
    {
     "name": "stdout",
     "output_type": "stream",
     "text": [
      "Li2IrO3: magnetization on Ir = 0.7315\n",
      "Li2IrO3: magnetization on O = 0.076\n"
     ]
    }
   ],
   "source": [
    "li2iro3_out = Outcar(os.path.join(pybat_data_dir, \"Li2IrO3/discharged/o3-abc/bulk/hse_relax/OUTCAR\"))\n",
    "total_abs_magnetization = [abs(atom['tot']) for atom in li2iro3_out.magnetization]\n",
    "li2iro3_magmom = dict()\n",
    "li2iro3_magmom[\"Ir\"] = (sum(total_abs_magnetization[4:6]))/2\n",
    "li2iro3_magmom[\"O\"] = (sum(total_abs_magnetization[6:]))/6\n",
    "print(\"Li2IrO3: magnetization on Ir = \" + str(li2iro3_magmom[\"Ir\"]))\n",
    "print(\"Li2IrO3: magnetization on O = \" + str(round(li2iro3_magmom[\"O\"], 3)))"
   ]
  },
  {
   "cell_type": "code",
   "execution_count": 6,
   "metadata": {},
   "outputs": [
    {
     "name": "stdout",
     "output_type": "stream",
     "text": [
      "Li0.5MnO3: magnetization on Ir = 1.165\n",
      "Li0.5MnO3: magnetization on O = 0.371\n"
     ]
    }
   ],
   "source": [
    "li05iro3_out = Outcar(os.path.join(pybat_data_dir, \"Li2IrO3/0.5/o1-1a/bulk/hse_relax/OUTCAR\"))\n",
    "total_abs_magnetization = [abs(atom['tot']) for atom in li05iro3_out.magnetization]\n",
    "li05iro3_magmom = dict()\n",
    "li05iro3_magmom[\"Ir\"] = (sum(total_abs_magnetization[1:3]))/2\n",
    "li05iro3_magmom[\"O\"] = (sum(total_abs_magnetization[3:]))/6\n",
    "print(\"Li0.5MnO3: magnetization on Ir = \" + str(li05iro3_magmom[\"Ir\"]))\n",
    "print(\"Li0.5MnO3: magnetization on O = \" + str(round(li05iro3_magmom[\"O\"], 3)))"
   ]
  },
  {
   "cell_type": "markdown",
   "metadata": {},
   "source": [
    "This was probably not the most efficient way of doing this. This task could have been more easily performed by just copying the values into MATLAB and making the figure. But it could serve as a tutorial in the future. Also, if I now decide to change de data file, it's easy peasy."
   ]
  },
  {
   "cell_type": "markdown",
   "metadata": {},
   "source": [
    "## Oxygen Lattice framework distortion\n",
    "\n",
    "Next we'll take a look at the distances between the oxygen atoms. One way to do this would be to open the structure files in VESTA, and then click a lot. But clicking is for people that don't know Python. We've already written a script that uses the voronoi decomposition of the structure in order to find the neighbors, and then reconstruct the potential oxygen dimers around a specific site. So let's do that. Starting by loading the fully discharged and 75% charged structures of Li$_2$MnO$_3$:"
   ]
  },
  {
   "cell_type": "code",
   "execution_count": 7,
   "metadata": {
    "scrolled": true
   },
   "outputs": [
    {
     "name": "stdout",
     "output_type": "stream",
     "text": [
      "Full Formula (Li4 Mn2 O6)\n",
      "Reduced Formula: Li2MnO3\n",
      "abc   :   4.979788   4.979788   5.073692\n",
      "angles:  80.383533  80.383531 119.882393\n",
      "Sites (12)\n",
      "  #    #VESTA  SP            a          b          c    magmom\n",
      "---  --------  ----  ---------  ---------  ---------  --------\n",
      "  0         1  Li     0.5        0.5        0            0\n",
      "  1         2  Li    -0         -0          0.5          0\n",
      "  2         3  Li     0.661809   0.338191   0.5          0\n",
      "  3         4  Li     0.338191   0.661809   0.5         -0\n",
      "  4         5  Mn     0.167033   0.832967   0            3.041\n",
      "  5         6  Mn     0.832967   0.167033  -0           -3.041\n",
      "  6         7  O      0.781049   0.781049   0.228685    -0\n",
      "  7         8  O      0.218951   0.218951   0.771315     0\n",
      "  8         9  O      0.066414   0.42414    0.224551    -0.002\n",
      "  9        10  O      0.57586    0.933586   0.775449    -0.002\n",
      " 10        11  O      0.933586   0.57586    0.775449     0.002\n",
      " 11        12  O      0.42414    0.066414   0.224551     0.002\n",
      "\n",
      "Full Formula (Li1 Mn2 O6)\n",
      "Reduced Formula: LiMn2O6\n",
      "abc   :   4.955805   4.955809   3.900244\n",
      "angles:  90.000479  90.000990 120.000731\n",
      "Sites (12)\n",
      "  #  #VESTA    SP           a          b         c    magmom\n",
      "---  --------  ----  --------  ---------  --------  --------\n",
      "  0  1         Li    0         -0         0            0.006\n",
      "  1  -         Vac   0          0         0.5          0\n",
      "  2  -         Vac   0.333337   0.666666  0            0\n",
      "  3  -         Vac   0.666663   0.333334  0            0\n",
      "  4  2         Mn    0.333331   0.666663  0.5          2.963\n",
      "  5  3         Mn    0.666669   0.333337  0.5          2.963\n",
      "  6  4         O     0.634564   0.634563  0.242171    -0.45\n",
      "  7  5         O     0.365408   0.999995  0.242191    -0.45\n",
      "  8  6         O     0.999996   0.365413  0.242188    -0.45\n",
      "  9  7         O     0.634592   5e-06     0.757809    -0.45\n",
      " 10  8         O     0.365436   0.365437  0.757829    -0.45\n",
      " 11  9         O     4e-06      0.634587  0.757812    -0.45\n"
     ]
    }
   ],
   "source": [
    "from pybat.core import Cathode, LiRichCathode\n",
    "\n",
    "li2mno3_cat = LiRichCathode.from_file(\n",
    "    os.path.join(pybat_data_dir, \"Li2MnO3/discharged/o3-abc_afm/bulk/dftu_relax/final_cathode.json\") # DFTU data for now, while HSE relaxation finishes.\n",
    ")\n",
    "li05mno3_cat = LiRichCathode.from_file(\n",
    "    os.path.join(pybat_data_dir, \"Li2MnO3/0.5/o1-1a/bulk/hse_relax/final_cathode.json\")\n",
    ")\n",
    "print(li2mno3_cat)\n",
    "print()\n",
    "print(li05mno3_cat)"
   ]
  },
  {
   "cell_type": "markdown",
   "metadata": {},
   "source": [
    "These have been fully optimized and re-optimized in order to avoid [Pulay stresses.](http://cms.mpi.univie.ac.at/vasp/guide/node161.html) (Notice how you can add links to the markdown. Easy and useful.) Next, we use some Python magic to find all of the distances for both structures and put then in a nice and sorted `List`:"
   ]
  },
  {
   "cell_type": "code",
   "execution_count": 8,
   "metadata": {},
   "outputs": [
    {
     "data": {
      "text/plain": [
       "[2.574242106443846,\n",
       " 2.574242123892187,\n",
       " 2.6030370413569446,\n",
       " 2.7745158036884083,\n",
       " 2.7745158036884083,\n",
       " 2.7745158226175515,\n",
       " 2.774515822617552,\n",
       " 2.7795183447383067,\n",
       " 2.7795183447383067,\n",
       " 2.790746672654144,\n",
       " 2.8078407335807345,\n",
       " 2.807840789092908]"
      ]
     },
     "execution_count": 8,
     "metadata": {},
     "output_type": "execute_result"
    }
   ],
   "source": [
    "li2mno3_distances = [li2mno3_cat.distance_matrix[indices] for indices in li2mno3_cat.find_oxygen_dimers(4)]\n",
    "li2mno3_distances.sort(); li2mno3_distances"
   ]
  },
  {
   "cell_type": "code",
   "execution_count": 9,
   "metadata": {},
   "outputs": [
    {
     "data": {
      "text/plain": [
       "[2.3124041152433468,\n",
       " 2.3126853042936895,\n",
       " 2.3127356919283955,\n",
       " 2.6168898525079354,\n",
       " 2.616974501342241,\n",
       " 2.6169763523391047,\n",
       " 2.7338833507734783,\n",
       " 2.7338833507734788,\n",
       " 2.7338846758823503,\n",
       " 2.733884675882352,\n",
       " 2.7339333369247534,\n",
       " 2.7339333369247543]"
      ]
     },
     "execution_count": 9,
     "metadata": {},
     "output_type": "execute_result"
    }
   ],
   "source": [
    "li05mno3_distances = [li05mno3_cat.distance_matrix[indices] for indices in li05mno3_cat.find_oxygen_dimers(4)]\n",
    "li05mno3_distances.sort(); li05mno3_distances"
   ]
  },
  {
   "cell_type": "markdown",
   "metadata": {},
   "source": [
    "We can immediately see that the discharged structure has a long and short distance (within a certain margin of error). For the charged structure, the short distance has shortened by about 0.1 angstrom (Oh, yeah, the distances are expressed in angstrom, FYI). Three of the long distances have shortened as well, and I have a suspicion that it are the ones that are slightly longer in the original structure. "
   ]
  },
  {
   "cell_type": "markdown",
   "metadata": {},
   "source": [
    "Below you can find an incorrect analysis I've left in for reminding myself later.\n",
    "\n",
    "```\n",
    "Hmm, some of the distances increase! Either the `find_oxygen_dimers` method somehow does not find two lists that correspond for the two structures, or the distortion is more interesting than just a reduction in the distances for the oxygen pairs. That could be possible, and maybe dependent on the lithium configuration. Let's look into this later. For now we'll just mention that the shorter distances get shorter, whereas most of the longer ones stay the same, which leads to a deformation. The shorter distances getting shorter corresponds to the formation of dimers in the view of Artem's science article. Note: Maybe the oxygen pairs don't correspond, because of course the O3->O1 transformation changes the octaheders quite a bit. Might be worth looking into and discussing in the paper.\n",
    "```"
   ]
  },
  {
   "cell_type": "markdown",
   "metadata": {},
   "source": [
    "Confirmed pretty much that the oxygen dimers do not correspond. I.e. substracting the two oxygen dimer distances lists does not make sense. The distances found in the matrix above were compared with those found in VESTA (Yeah, by clicking), and the following are the three different oxygen pair variants:\n",
    "\n",
    "- The shortest distance corresponds to oxygens that have two Mn neighbors.\n",
    "- The longest distance in the discharged structure turns into a medium distance (~2.80 -> 2.69)\n",
    "- The 2.77 A distance, which remains largely unchanged, corresponds to the 'in oxygen plane' distances. There are six, three in the top triangle of the octahedron, three in the bottom."
   ]
  },
  {
   "cell_type": "markdown",
   "metadata": {},
   "source": [
    "Let's do a similar analysis for Li2IrO3"
   ]
  },
  {
   "cell_type": "code",
   "execution_count": 12,
   "metadata": {},
   "outputs": [
    {
     "data": {
      "text/plain": [
       "[2.707754894055229,\n",
       " 2.707754894055229,\n",
       " 2.8318495525791834,\n",
       " 2.8450479619952835,\n",
       " 2.8618431276485006,\n",
       " 2.861843127648501,\n",
       " 2.8618431276485015,\n",
       " 2.8618431276485015,\n",
       " 2.8818142687693142,\n",
       " 2.881814268769315,\n",
       " 2.9170118029520604,\n",
       " 2.9170118029520604]"
      ]
     },
     "execution_count": 12,
     "metadata": {},
     "output_type": "execute_result"
    }
   ],
   "source": [
    "li2iro3_cat = LiRichCathode.from_file(\n",
    "    os.path.join(pybat_data_dir, \"Li2IrO3/discharged/o3-abc/bulk/hse_relax/final_cathode.json\")\n",
    ")\n",
    "li05iro3_cat = LiRichCathode.from_file(\n",
    "    os.path.join(pybat_data_dir, \"Li2IrO3/0.5/o1-1a/bulk/hse_relax/final_cathode.json\")\n",
    ")\n",
    "\n",
    "li2iro3_distances = [li2iro3_cat.distance_matrix[indices] for indices in li2iro3_cat.find_oxygen_dimers(4)]\n",
    "li2iro3_distances.sort(); li2iro3_distances"
   ]
  },
  {
   "cell_type": "code",
   "execution_count": 13,
   "metadata": {},
   "outputs": [
    {
     "data": {
      "text/plain": [
       "[2.5119716420717397,\n",
       " 2.5119716420717397,\n",
       " 2.511971734211075,\n",
       " 2.7404189142432127,\n",
       " 2.7404189142432136,\n",
       " 2.7404190438686347,\n",
       " 2.8833198321281537,\n",
       " 2.8833198321281537,\n",
       " 2.883319832128154,\n",
       " 2.883319832128154,\n",
       " 2.8833201542243625,\n",
       " 2.883320154224363]"
      ]
     },
     "execution_count": 13,
     "metadata": {},
     "output_type": "execute_result"
    }
   ],
   "source": [
    "li05iro3_distances = [li05iro3_cat.distance_matrix[indices] for indices in li05iro3_cat.find_oxygen_dimers(4)]\n",
    "li05iro3_distances.sort(); li05iro3_distances"
   ]
  },
  {
   "cell_type": "markdown",
   "metadata": {},
   "source": [
    "## Li configuration analysis\n",
    "\n",
    "In order to study partially charged structures, such as Li$_{0.5}$MnO$_3$ and Li$_{0.5}$IrO$_3$, a choice must be made for the Lithium configuration. Hence, it is important to investigate the optimal lithium configuration, by comparing the formation energies of the various lithium configurations. We will not add this discussion to the paper extensively though, as this has been investigated before. We'll just mention that our results correspond to the ones in the literature. Which is accurate. I might add the actual analysis later to show how we checked this. For now, you'll have to [trust me](https://media1.tenor.com/images/7d64c9003647a2e846eede7ffef1a63a/tenor.gif?itemid=5698466)."
   ]
  },
  {
   "cell_type": "markdown",
   "metadata": {},
   "source": [
    "## Oxygen dimer analysis\n",
    "\n",
    "Alright, we've convinced ourselves that the oxygen oxidated in both structures as we remove the lithium. We've also noted that the oxygen framework is distored slightly by this removal. However, what we are really interested in is to see whether this all leads to the formation of proper oxygen dimers, i.e. oxygen pairs which are bonded convalently, sharing electrons and in such a way replenishing their p-orbitals to remove their magnetic moments. To investigate the formation of dimers, we need to check which pairs of oxygen that are connected in the octahedral environment of a cation site can form a dimer. The basic step of seeing whether such a dimer can be formed, is just pushing the oxygen pair closer together, and optimizing the structure. If the new structure is optimized and forms a stable dimer, we compare the total energy with that of the original pre-dimer structure. If the energy lower, there is a thermodynamic argument to be made that the structure wants to form such dimers. The next question is whether this is kinetically possible, but we'll answer that later."
   ]
  },
  {
   "cell_type": "markdown",
   "metadata": {},
   "source": [
    "### Symmetry analysis\n",
    "Of course, we need to study the dimer formation in a sufficiently large supercell of the original structure, or we'll be investigating more of a phase transformation than the formation of a defect, which is how we interpret the local formation of a dimer. We don't want to just pick a few oxygen pairs in the structure, however, and check whether they form a dimer. Instead, we want to be complete, i.e. study all non-equivalent oxygen pairs with the potential to form a dimer. What we've done for the structures is start with an analysis of the symmetry of the structure in order to find a list of the inequivalent dimers. The dimers themselves are found by analysing the neighbours around each site, using the `pymatgen.chemenv` module. Let's start by loading our in-house developed `pybat` package and loading the 2x2x2 supercell O1-Li$_{0.5}$MnO$_3$ structure with the 1a cation configuration for the Li atoms:"
   ]
  },
  {
   "cell_type": "code",
   "execution_count": 14,
   "metadata": {},
   "outputs": [],
   "source": [
    "import pybat.core as pb\n",
    "\n",
    "cat = pb.LiRichCathode.from_file(\n",
    "    os.path.join(pybat_data_dir, \"Li2MnO3/0.5/O1-1a/2x2x2/dftu_relax/final_cathode.json\")\n",
    ")"
   ]
  },
  {
   "cell_type": "markdown",
   "metadata": {},
   "source": [
    "Note that this strucure has been constructed from the optimized primitive unit cell, and optimized in turn. Let's have a look at our final cathode structure:"
   ]
  },
  {
   "cell_type": "code",
   "execution_count": 15,
   "metadata": {
    "scrolled": true
   },
   "outputs": [
    {
     "name": "stdout",
     "output_type": "stream",
     "text": [
      "Full Formula (Li8 Mn16 O48)\n",
      "Reduced Formula: LiMn2O6\n",
      "abc   :   9.996316   9.996316   8.225567\n",
      "angles:  90.000000  90.000000 120.000000\n",
      "Sites (96)\n",
      "  #  #VESTA    SP           a         b          c    magmom\n",
      "---  --------  ----  --------  --------  ---------  --------\n",
      "  0  1         Li    0         0         -0            0.003\n",
      "  1  2         Li    0         0          0.5          0.003\n",
      "  2  3         Li    0         0.5       -0            0.003\n",
      "  3  4         Li    0         0.5        0.5          0.003\n",
      "  4  5         Li    0.5       0         -0            0.003\n",
      "  5  6         Li    0.5       0          0.5          0.003\n",
      "  6  7         Li    0.5       0.5       -0            0.003\n",
      "  7  8         Li    0.5       0.5        0.5          0.003\n",
      "  8  -         Vac   1         0          0.25         0\n",
      "  9  -         Vac   0         0          0.75         0\n",
      " 10  -         Vac   0         0.5        0.25         0\n",
      " 11  -         Vac   0         0.5        0.75         0\n",
      " 12  -         Vac   0.5       0          0.25         0\n",
      " 13  -         Vac   0.5       1          0.75         0\n",
      " 14  -         Vac   0.5       0.5        0.25         0\n",
      " 15  -         Vac   0.5       0.5        0.75         0\n",
      " 16  -         Vac   0.166668  0.333333   0            0\n",
      " 17  -         Vac   0.166668  0.333333   0.5          0\n",
      " 18  -         Vac   0.166668  0.833333   0            0\n",
      " 19  -         Vac   0.166668  0.833333   0.5          0\n",
      " 20  -         Vac   0.666668  0.333333   0            0\n",
      " 21  -         Vac   0.666668  0.333333   0.5          0\n",
      " 22  -         Vac   0.666668  0.833333   0            0\n",
      " 23  -         Vac   0.666668  0.833333   0.5          0\n",
      " 24  -         Vac   0.333332  0.166667   1            0\n",
      " 25  -         Vac   0.333332  0.166667   0.5          0\n",
      " 26  -         Vac   0.333332  0.666667   0            0\n",
      " 27  -         Vac   0.333332  0.666667   0.5          0\n",
      " 28  -         Vac   0.833332  0.166667   1            0\n",
      " 29  -         Vac   0.833332  0.166667   0.5          0\n",
      " 30  -         Vac   0.833332  0.666667   0            0\n",
      " 31  -         Vac   0.833332  0.666667   0.5          0\n",
      " 32  9         Mn    0.166667  0.333333   0.249999     3.049\n",
      " 33  10        Mn    0.166667  0.333333   0.749999     3.049\n",
      " 34  11        Mn    0.166667  0.833333   0.249999     3.049\n",
      " 35  12        Mn    0.166667  0.833333   0.749999     3.049\n",
      " 36  13        Mn    0.666667  0.333333   0.249999     3.049\n",
      " 37  14        Mn    0.666667  0.333333   0.749999     3.049\n",
      " 38  15        Mn    0.666667  0.833333   0.249999     3.049\n",
      " 39  16        Mn    0.666667  0.833333   0.749999     3.049\n",
      " 40  17        Mn    0.333333  0.166667   0.250001     3.049\n",
      " 41  18        Mn    0.333333  0.166667   0.750001     3.049\n",
      " 42  19        Mn    0.333333  0.666667   0.250001     3.049\n",
      " 43  20        Mn    0.333333  0.666667   0.750001     3.049\n",
      " 44  21        Mn    0.833333  0.166667   0.250001     3.049\n",
      " 45  22        Mn    0.833333  0.166667   0.750001     3.049\n",
      " 46  23        Mn    0.833333  0.666667   0.250001     3.049\n",
      " 47  24        Mn    0.833333  0.666667   0.750001     3.049\n",
      " 48  25        O     0.32146   0.32146    0.127135    -0.458\n",
      " 49  26        O     0.32146   0.32146    0.627135    -0.458\n",
      " 50  27        O     0.32146   0.82146    0.127135    -0.458\n",
      " 51  28        O     0.32146   0.82146    0.627135    -0.458\n",
      " 52  29        O     0.82146   0.32146    0.127135    -0.458\n",
      " 53  30        O     0.82146   0.32146    0.627135    -0.458\n",
      " 54  31        O     0.82146   0.82146    0.127135    -0.458\n",
      " 55  32        O     0.82146   0.82146    0.627135    -0.458\n",
      " 56  33        O     0.17854   1          0.127135    -0.456\n",
      " 57  34        O     0.17854   1          0.627135    -0.456\n",
      " 58  35        O     0.17854   0.5        0.127135    -0.456\n",
      " 59  36        O     0.17854   0.5        0.627135    -0.456\n",
      " 60  37        O     0.67854   1          0.127135    -0.456\n",
      " 61  38        O     0.67854   1          0.627135    -0.456\n",
      " 62  39        O     0.67854   0.5        0.127135    -0.456\n",
      " 63  40        O     0.67854   0.5        0.627135    -0.456\n",
      " 64  41        O     0         0.17854    0.127135    -0.46\n",
      " 65  42        O     0         0.17854    0.627135    -0.46\n",
      " 66  43        O     0         0.67854    0.127135    -0.46\n",
      " 67  44        O     0         0.67854    0.627135    -0.46\n",
      " 68  45        O     0.5       0.17854    0.127135    -0.46\n",
      " 69  46        O     0.5       0.17854    0.627135    -0.46\n",
      " 70  47        O     0.5       0.67854    0.127135    -0.46\n",
      " 71  48        O     0.5       0.67854    0.627135    -0.46\n",
      " 72  49        O     0.32146   0          0.372865    -0.456\n",
      " 73  50        O     0.32146   0          0.872865    -0.456\n",
      " 74  51        O     0.32146   0.5        0.372865    -0.456\n",
      " 75  52        O     0.32146   0.5        0.872865    -0.456\n",
      " 76  53        O     0.82146   0          0.372865    -0.456\n",
      " 77  54        O     0.82146   0          0.872865    -0.456\n",
      " 78  55        O     0.82146   0.5        0.372865    -0.456\n",
      " 79  56        O     0.82146   0.5        0.872865    -0.456\n",
      " 80  57        O     0.17854   0.17854    0.372865    -0.458\n",
      " 81  58        O     0.17854   0.17854    0.872865    -0.458\n",
      " 82  59        O     0.17854   0.67854    0.372865    -0.458\n",
      " 83  60        O     0.17854   0.67854    0.872865    -0.458\n",
      " 84  61        O     0.67854   0.17854    0.372865    -0.458\n",
      " 85  62        O     0.67854   0.17854    0.872865    -0.458\n",
      " 86  63        O     0.67854   0.67854    0.372865    -0.458\n",
      " 87  64        O     0.67854   0.67854    0.872865    -0.458\n",
      " 88  65        O     1         0.32146    0.372865    -0.46\n",
      " 89  66        O     1         0.32146    0.872865    -0.46\n",
      " 90  67        O     1         0.82146    0.372865    -0.46\n",
      " 91  68        O     1         0.82146    0.872865    -0.46\n",
      " 92  69        O     0.5       0.32146    0.372865    -0.46\n",
      " 93  70        O     0.5       0.32146    0.872865    -0.46\n",
      " 94  71        O     0.5       0.82146    0.372865    -0.46\n",
      " 95  72        O     0.5       0.82146    0.872865    -0.46\n"
     ]
    }
   ],
   "source": [
    "print(cat)"
   ]
  },
  {
   "cell_type": "markdown",
   "metadata": {},
   "source": [
    "Note that the structure also keeps track of the vacancies. These are kept in the structure in order for the Voronoi decomposition of the `chemenv` package to keep functioning properly, as well as making it easier to define a migration of the transition metals. The #VESTA column in the printed string is just to figure out the corresponding atom when opening the corresponding POSCAR or .cif file in VESTA. Let's first take a look at how many potential dimers there are in the 2x2x2 unit cell of the structure:"
   ]
  },
  {
   "cell_type": "code",
   "execution_count": 16,
   "metadata": {},
   "outputs": [
    {
     "data": {
      "text/plain": [
       "438"
      ]
     },
     "execution_count": 16,
     "metadata": {},
     "output_type": "execute_result"
    }
   ],
   "source": [
    "len(cat.find_oxygen_dimers())"
   ]
  },
  {
   "cell_type": "markdown",
   "metadata": {},
   "source": [
    "This takes a little longer, because setting up the Voronoi decomposition for the structure using the `pymatgen.analysis.chemenv` package takes some time. It would take quite some time to calculate the formation energy for all of these potential dimers. Fortunately, we've also implemented a method for finding the inequivalent dimers in a structure:"
   ]
  },
  {
   "cell_type": "code",
   "execution_count": 17,
   "metadata": {},
   "outputs": [
    {
     "data": {
      "text/plain": [
       "[(64, 54), (64, 77), (54, 76), (81, 48), (81, 89), (88, 64)]"
      ]
     },
     "execution_count": 17,
     "metadata": {},
     "output_type": "execute_result"
    }
   ],
   "source": [
    "cat.find_noneq_dimers()"
   ]
  },
  {
   "cell_type": "markdown",
   "metadata": {},
   "source": [
    "You can see that of all the dimers in the structure, there are only 6 inequivalent ones. This makes the analysis of the stability of the oxygen framework somewhat easier. I've built upon this method in combination with the `fireworks` package in order to set up a workflow that immediately calculates the formation energy for all the non-equivalent dimers. I won't be executing this here, as it sends these workflows to the pybat server on mLab (Soon to be Mongo DB Atlas.). \n",
    "\n",
    "The OUTCAR's of the scf calculation on the optimized structures are put in `data/dimer_thermo/`. I've only added the ones of the dimers for which the energy actually decreases. The full analysis will have to be done later.\n",
    "\n",
    "Just as a clarification: The above dimers' indices for do not correspond to the ones that were chosen be the workflow script. That script actually finds the dimers that are the closest to the center of the unit cell, for easy visualisation purposes. However, the dimer combinations that I actually have analyzed all have an equivalent dimer in the list above. To check this, here you can find the lists of equivalent dimers for the list on inequivalent dimers (if that makes sense to you)."
   ]
  },
  {
   "cell_type": "code",
   "execution_count": 18,
   "metadata": {},
   "outputs": [],
   "source": [
    "dimer_lists = cat.list_noneq_dimers()"
   ]
  },
  {
   "cell_type": "markdown",
   "metadata": {},
   "source": [
    "That probably took a while. It's most likely not the most efficient implementation, but it's fine for our purposes. To convince you that the dimers I analyze below correspond to one of the dimers in the list above, you can use the following little piece of code to find the dimer it corresponds to."
   ]
  },
  {
   "cell_type": "code",
   "execution_count": 19,
   "metadata": {},
   "outputs": [
    {
     "name": "stdout",
     "output_type": "stream",
     "text": [
      "Found requested dimer in list of (81, 48)\n"
     ]
    },
    {
     "data": {
      "text/plain": [
       "True"
      ]
     },
     "execution_count": 19,
     "metadata": {},
     "output_type": "execute_result"
    }
   ],
   "source": [
    "dimer_search = (80, 49)\n",
    "\n",
    "for list in dimer_lists:\n",
    "    if dimer_search in list:\n",
    "        equivalent_dimer = list[0]\n",
    "        print(\"Found requested dimer in list of \" + str(equivalent_dimer))\n",
    "\n",
    "# Let's check it\n",
    "from pymatgen.symmetry.analyzer import SpacegroupAnalyzer\n",
    "symmops = SpacegroupAnalyzer(cat).get_space_group_operations()\n",
    "symmops.are_symmetrically_equivalent(\n",
    "    [cat.sites[index] for index in dimer_search],\n",
    "    [cat.sites[index] for index in equivalent_dimer]\n",
    ")\n"
   ]
  },
  {
   "cell_type": "markdown",
   "metadata": {},
   "source": [
    "This should show one of the dimers in the above list, and say True. If it doesn't, please contact me, because then I really have to start writing some units tests."
   ]
  },
  {
   "cell_type": "markdown",
   "metadata": {},
   "source": [
    "### Thermodynamics\n",
    "\n",
    "So let's take a look at the energies of the dimer structures and compare them with that of the original charged structure. First, we'll load the output data from the OUTCAR files of the SCF calculations, performed after the geometric optimizations:"
   ]
  },
  {
   "cell_type": "code",
   "execution_count": 23,
   "metadata": {},
   "outputs": [],
   "source": [
    "out_original = Outcar(\n",
    "    os.path.join(pybat_data_dir, \"Li2MnO3/0.5/O1-1a/2x2x2/dftu_scf/OUTCAR\")\n",
    ")\n",
    "out_48_92 = Outcar(\n",
    "    os.path.join(pybat_data_dir, \"Li2MnO3/0.5/O1-1a/2x2x2/dftu_dimers/dimer_48_92/final/dftu_scf/OUTCAR\")\n",
    ")\n",
    "out_80_49 = Outcar(\n",
    "    os.path.join(pybat_data_dir, \"Li2MnO3/0.5/O1-1a/2x2x2/dftu_dimers/dimer_80_49/final/dftu_scf/OUTCAR\")\n",
    ")"
   ]
  },
  {
   "cell_type": "markdown",
   "metadata": {},
   "source": [
    "Parsing the Outcar files can take some time, especially for long geometric optimization runs. (Another reason why I should be working on a post-processing script... Parsing through this huge file for just extracting the total energy is absurd.) Note how I've used the final energy of an SCF calculation, performed on top of the geometry optimization. Especially for comparing these large supercells, the energy between the geometry optimization and the consequent SCF calculation can differ quite a bit. Extracting the final energies from the outcar object is fairly easy. It simply has a final energy property:"
   ]
  },
  {
   "cell_type": "code",
   "execution_count": 24,
   "metadata": {},
   "outputs": [
    {
     "data": {
      "text/plain": [
       "-442.49177984"
      ]
     },
     "execution_count": 24,
     "metadata": {},
     "output_type": "execute_result"
    }
   ],
   "source": [
    "out_original.final_energy"
   ]
  },
  {
   "cell_type": "markdown",
   "metadata": {},
   "source": [
    "So, let's use that to calculate the energy differences:"
   ]
  },
  {
   "cell_type": "code",
   "execution_count": 25,
   "metadata": {},
   "outputs": [
    {
     "name": "stdout",
     "output_type": "stream",
     "text": [
      "The energy difference for dimer 48-92 is: -0.083 eV\n",
      "The energy difference for dimer 80-49 is: -0.553 eV\n"
     ]
    }
   ],
   "source": [
    "print(\"The energy difference for dimer 48-92 is: \" \n",
    "      + str(round(out_48_92.final_energy - out_original.final_energy,3)) + \" eV\")\n",
    "print(\"The energy difference for dimer 80-49 is: \"\n",
    "      + str(round(out_80_49.final_energy - out_original.final_energy, 3)) + \" eV\")"
   ]
  },
  {
   "cell_type": "markdown",
   "metadata": {},
   "source": [
    "So, if everything worked out, this should say that both dimers have a lower energy than the original structure, i.e. a negative energy difference. That's pretty much all there is to analyzing the thermodynamics of the dimer formation. "
   ]
  },
  {
   "cell_type": "markdown",
   "metadata": {},
   "source": [
    "### Oxidation\n",
    "\n",
    "However, let's also take a look at the oxidation states of the oxygen atoms in the final geometry. However, to actually check the corresponding indices, we need to use the Cathode object. So, let's load the `Cathode` of the 80-49 dimer structure:"
   ]
  },
  {
   "cell_type": "code",
   "execution_count": 26,
   "metadata": {},
   "outputs": [
    {
     "name": "stdout",
     "output_type": "stream",
     "text": [
      "Full Formula (Li8 Mn16 O48)\n",
      "Reduced Formula: LiMn2O6\n",
      "abc   :   9.996316   9.996316   8.225567\n",
      "angles:  90.000004  90.000000 119.999998\n",
      "Sites (96)\n",
      "  #  #VESTA    SP           a         b         c    magmom\n",
      "---  --------  ----  --------  --------  --------  --------\n",
      "  0  1         Li    0.004931  0.004915  0.000383     0.003\n",
      "  1  2         Li    0.989013  0.989044  0.506886     0.003\n",
      "  2  3         Li    1.7e-05   0.500071  9e-06        0.003\n",
      "  3  4         Li    0.998331  0.501484  0.499964     0.003\n",
      "  4  5         Li    0.499983  0.999929  0.999991     0.003\n",
      "  5  6         Li    0.501669  0.998516  0.500036     0.003\n",
      "  6  7         Li    0.495069  0.495085  0.999617     0.003\n",
      "  7  8         Li    0.510987  0.510956  0.493114     0.003\n",
      "  8  -         Vac   1         0         0.25         0\n",
      "  9  -         Vac   0         0         0.75         0\n",
      " 10  -         Vac   0         0.5       0.25         0\n",
      " 11  -         Vac   0         0.5       0.75         0\n",
      " 12  -         Vac   0.5       0         0.25         0\n",
      " 13  -         Vac   0.5       1         0.75         0\n",
      " 14  -         Vac   0.5       0.5       0.25         0\n",
      " 15  -         Vac   0.5       0.5       0.75         0\n",
      " 16  -         Vac   0.166668  0.333333  0            0\n",
      " 17  -         Vac   0.166668  0.333333  0.5          0\n",
      " 18  -         Vac   0.166668  0.833333  0            0\n",
      " 19  -         Vac   0.166668  0.833333  0.5          0\n",
      " 20  -         Vac   0.666668  0.333333  0            0\n",
      " 21  -         Vac   0.666668  0.333333  0.5          0\n",
      " 22  -         Vac   0.666668  0.833333  0            0\n",
      " 23  -         Vac   0.666668  0.833333  0.5          0\n",
      " 24  -         Vac   0.333332  0.166667  1            0\n",
      " 25  -         Vac   0.333332  0.166667  0.5          0\n",
      " 26  -         Vac   0.333332  0.666667  0            0\n",
      " 27  -         Vac   0.333332  0.666667  0.5          0\n",
      " 28  -         Vac   0.833332  0.166667  1            0\n",
      " 29  -         Vac   0.833332  0.166667  0.5          0\n",
      " 30  -         Vac   0.833332  0.666667  0            0\n",
      " 31  -         Vac   0.833332  0.666667  0.5          0\n",
      " 32  9         Mn    0.170392  0.344654  0.25873      3.072\n",
      " 33  10        Mn    0.155293  0.329643  0.741298     3.071\n",
      " 34  11        Mn    0.166275  0.837153  0.250771     3.064\n",
      " 35  12        Mn    0.164653  0.82582   0.751521     3.045\n",
      " 36  13        Mn    0.674204  0.33534   0.248399     3.044\n",
      " 37  14        Mn    0.662833  0.333755  0.749361     3.065\n",
      " 38  15        Mn    0.66739   0.833849  0.243282     3.047\n",
      " 39  16        Mn    0.666206  0.832595  0.756715     3.048\n",
      " 40  17        Mn    0.344707  0.170357  0.258702     3.071\n",
      " 41  18        Mn    0.329608  0.155346  0.74127      3.072\n",
      " 42  19        Mn    0.335347  0.67418   0.248479     3.045\n",
      " 43  20        Mn    0.333725  0.662847  0.749229     3.064\n",
      " 44  21        Mn    0.837167  0.166245  0.250639     3.065\n",
      " 45  22        Mn    0.825796  0.16466   0.751601     3.044\n",
      " 46  23        Mn    0.833794  0.667405  0.243285     3.048\n",
      " 47  24        Mn    0.83261   0.666151  0.756718     3.047\n",
      " 48  25        O     0.325432  0.325384  0.145982    -0.426\n",
      " 49  26        O     0.292085  0.292182  0.570274    -0.142\n",
      " 50  27        O     0.320914  0.8268    0.125634    -0.438\n",
      " 51  28        O     0.321713  0.818182  0.628755    -0.452\n",
      " 52  29        O     0.826865  0.320983  0.125539    -0.438\n",
      " 53  30        O     0.818012  0.321619  0.628763    -0.451\n",
      " 54  31        O     0.819278  0.81927   0.117939    -0.457\n",
      " 55  32        O     0.822106  0.822105  0.635212    -0.431\n",
      " 56  33        O     0.178477  0.011945  0.141845    -0.423\n",
      " 57  34        O     0.173247  0.98802   0.623842    -0.446\n",
      " 58  35        O     0.178202  0.500385  0.131519    -0.398\n",
      " 59  36        O     0.177566  0.501021  0.621601    -0.433\n",
      " 60  37        O     0.684795  0.003437  0.121526    -0.452\n",
      " 61  38        O     0.673019  0.996618  0.632759    -0.432\n",
      " 62  39        O     0.68128   0.497552  0.120525    -0.459\n",
      " 63  40        O     0.676113  0.503117  0.631428    -0.447\n",
      " 64  41        O     0.011995  0.178584  0.141618    -0.424\n",
      " 65  42        O     0.988014  0.173351  0.62393     -0.446\n",
      " 66  43        O     0.003494  0.684835  0.121728    -0.452\n",
      " 67  44        O     0.996482  0.672922  0.632676    -0.432\n",
      " 68  45        O     0.5003    0.178219  0.131447    -0.397\n",
      " 69  46        O     0.500999  0.177853  0.621562    -0.432\n",
      " 70  47        O     0.497589  0.681255  0.12066     -0.459\n",
      " 71  48        O     0.503065  0.676146  0.631395    -0.448\n",
      " 72  49        O     0.322434  0.998979  0.378399    -0.433\n",
      " 73  50        O     0.321798  0.999615  0.868481    -0.398\n",
      " 74  51        O     0.326753  0.51198   0.376158    -0.446\n",
      " 75  52        O     0.321523  0.488055  0.858155    -0.423\n",
      " 76  53        O     0.823887  0.996883  0.368572    -0.447\n",
      " 77  54        O     0.81872   0.002448  0.879475    -0.459\n",
      " 78  55        O     0.826981  0.503382  0.367241    -0.432\n",
      " 79  56        O     0.815205  0.496563  0.878474    -0.452\n",
      " 80  57        O     0.207915  0.207818  0.429726    -0.142\n",
      " 81  58        O     0.174568  0.174616  0.854018    -0.426\n",
      " 82  59        O     0.178287  0.681818  0.371245    -0.452\n",
      " 83  60        O     0.179086  0.6732    0.874366    -0.438\n",
      " 84  61        O     0.681988  0.178381  0.371237    -0.451\n",
      " 85  62        O     0.673135  0.179017  0.874461    -0.438\n",
      " 86  63        O     0.677894  0.677895  0.364788    -0.431\n",
      " 87  64        O     0.680722  0.68073   0.882061    -0.457\n",
      " 88  65        O     0.999001  0.322147  0.378438    -0.432\n",
      " 89  66        O     0.9997    0.321781  0.868553    -0.397\n",
      " 90  67        O     0.996935  0.823854  0.368605    -0.448\n",
      " 91  68        O     0.002411  0.818745  0.87934     -0.459\n",
      " 92  69        O     0.511986  0.326649  0.37607     -0.446\n",
      " 93  70        O     0.488005  0.321416  0.858382    -0.424\n",
      " 94  71        O     0.503518  0.827078  0.367324    -0.432\n",
      " 95  72        O     0.496506  0.815165  0.878272    -0.452\n"
     ]
    }
   ],
   "source": [
    "cat_80_49 = Cathode.from_file(\n",
    "    os.path.join(pybat_data_dir, \"Li2MnO3/0.5/O1-1a/2x2x2/dftu_dimers/dimer_80_49/final/dftu_scf/final_cathode.json\")\n",
    ")\n",
    "print(cat_80_49)"
   ]
  },
  {
   "cell_type": "code",
   "execution_count": 27,
   "metadata": {},
   "outputs": [
    {
     "name": "stdout",
     "output_type": "stream",
     "text": [
      "The total magnetic moment of oxygen(80) is: -0.142\n",
      "The total magnetic moment of oxygen(49) is: -0.142\n"
     ]
    }
   ],
   "source": [
    "print(\"The total magnetic moment of oxygen(80) is: \" + str(cat_80_49.site_properties[\"magmom\"][80]))\n",
    "print(\"The total magnetic moment of oxygen(49) is: \" + str(cat_80_49.site_properties[\"magmom\"][49]))"
   ]
  },
  {
   "cell_type": "markdown",
   "metadata": {},
   "source": [
    "We can see that the magnetic moment on both oxygens has been reduced significantly to its magnetic moment before the dimer formation. The other oxygens in the structure still have a much larger magnetic moment. This indicates that the oxygens which have a dimer have actually reduced their oxidation state close to -2 by forming a dimer. In order to find the average magnetic moments of the other oxygen atoms, we use a little python magic:"
   ]
  },
  {
   "cell_type": "code",
   "execution_count": 28,
   "metadata": {},
   "outputs": [
    {
     "name": "stdout",
     "output_type": "stream",
     "text": [
      "The average of the magnetic moment of the non-dimer oxygen atoms is: -0.438\n"
     ]
    }
   ],
   "source": [
    "magmoms = [cat_80_49.site_properties[\"magmom\"][index] for index in range(len(cat_80_49))\n",
    "           if cat.sites[index].species_string is \"O\" and index not in [80, 49]]\n",
    "print(\"The average of the magnetic moment of the non-dimer oxygen atoms is: \" +\n",
    "      str(round(np.mean(magmoms), 3)))"
   ]
  },
  {
   "cell_type": "markdown",
   "metadata": {},
   "source": [
    "Easy peasy! Let's do the same analysis for the other dimer:"
   ]
  },
  {
   "cell_type": "code",
   "execution_count": 32,
   "metadata": {},
   "outputs": [
    {
     "name": "stdout",
     "output_type": "stream",
     "text": [
      "The total magnetic moment of oxygen(48) is: -0.127\n",
      "The total magnetic moment of oxygen(92) is: -0.127\n",
      "The average of the magnetic moment of the non-dimer oxygen atoms is: -0.439\n"
     ]
    }
   ],
   "source": [
    "cat_48_92 = Cathode.from_file(\n",
    "    os.path.join(pybat_data_dir, \"Li2MnO3/0.5/O1-1a/2x2x2/dftu_dimers/dimer_48_92/final/dftu_scf/final_cathode.json\")\n",
    ")\n",
    "print(\"The total magnetic moment of oxygen(48) is: \" + str(cat_48_92.site_properties[\"magmom\"][48]))\n",
    "print(\"The total magnetic moment of oxygen(92) is: \" + str(cat_48_92.site_properties[\"magmom\"][92]))\n",
    "magmoms = [cat_48_92.site_properties[\"magmom\"][index] for index in range(len(cat_48_92))\n",
    "           if cat.sites[index].species_string is \"O\" and index not in [48, 92]]\n",
    "print(\"The average of the magnetic moment of the non-dimer oxygen atoms is: \" +\n",
    "      str(round(np.mean(magmoms), 3)))"
   ]
  },
  {
   "cell_type": "markdown",
   "metadata": {},
   "source": [
    "We can see a similar result as for the first dimer: The oxygen atoms that participate in the dimer formation have a severely reduced magnetic momentum, whereas the other oxygens have a similar average magnetic momentum as for the first dimer."
   ]
  },
  {
   "cell_type": "markdown",
   "metadata": {},
   "source": [
    "### NEB Analysis\n",
    "\n",
    "Finally, in order to study the kinematics of the dimer transitions, we have performed a Nudged Elastic Band calculation. We'll first use the built in method for making figures from `pymatgen`. This is a very slow method, though, so you'll have to be a little patient (if you're running the notebook)."
   ]
  },
  {
   "cell_type": "code",
   "execution_count": 34,
   "metadata": {},
   "outputs": [],
   "source": [
    "from pymatgen.analysis.transition_state import NEBAnalysis\n",
    "\n",
    "neb_80_49 = NEBAnalysis.from_dir(\n",
    "    os.path.join(pybat_data_dir, \"Li2MnO3/0.5/O1-1a/2x2x2/dftu_dimers/dimer_80_49_vtst/\")\n",
    ")"
   ]
  },
  {
   "cell_type": "code",
   "execution_count": 37,
   "metadata": {},
   "outputs": [
    {
     "data": {
      "image/png": "[encoded data removed]",
      "text/plain": [
       "<matplotlib.figure.Figure at 0x10b063b70>"
      ]
     },
     "metadata": {},
     "output_type": "display_data"
    }
   ],
   "source": [
    "fig = neb_80_49.get_plot()\n",
    "fig.show()"
   ]
  },
  {
   "cell_type": "code",
   "execution_count": 41,
   "metadata": {},
   "outputs": [
    {
     "data": {
      "image/png": "[encoded data removed]",
      "text/plain": [
       "<matplotlib.figure.Figure at 0x10b119978>"
      ]
     },
     "metadata": {},
     "output_type": "display_data"
    }
   ],
   "source": [
    "neb_48_92 = NEBAnalysis.from_dir(\n",
    "    os.path.join(pybat_data_dir, \"Li2MnO3/0.5/O1-1a/2x2x2/dftu_dimers/dimer_48_92_vtst/\")\n",
    ")\n",
    "neb_48_92.get_plot().show()"
   ]
  },
  {
   "cell_type": "code",
   "execution_count": null,
   "metadata": {},
   "outputs": [],
   "source": []
  },
  {
   "cell_type": "markdown",
   "metadata": {},
   "source": [
    "## Various\n",
    "### Figure help\n",
    "\n",
    "This is just a place where I can do some tests to see which dimers correspond to which for the figures."
   ]
  },
  {
   "cell_type": "code",
   "execution_count": 78,
   "metadata": {},
   "outputs": [
    {
     "name": "stdout",
     "output_type": "stream",
     "text": [
      "Found requested dimer 1 in list of (64, 54)\n",
      "Found requested dimer 2 in list of (64, 54)\n"
     ]
    },
    {
     "data": {
      "text/plain": [
       "True"
      ]
     },
     "execution_count": 78,
     "metadata": {},
     "output_type": "execute_result"
    }
   ],
   "source": [
    "dimer_search_1 = (74, 92)\n",
    "dimer_search_2 = (64, 56)\n",
    "\n",
    "for list in dimer_lists:\n",
    "    if dimer_search_1 in list:\n",
    "        equivalent_dimer = list[0]\n",
    "        print(\"Found requested dimer 1 in list of \" + str(equivalent_dimer))\n",
    "    if dimer_search_2 in list:\n",
    "        equivalent_dimer = list[0]\n",
    "        print(\"Found requested dimer 2 in list of \" + str(equivalent_dimer))\n",
    "\n",
    "# Let's check it\n",
    "from pymatgen.symmetry.analyzer import SpacegroupAnalyzer\n",
    "symmops = SpacegroupAnalyzer(cat).get_space_group_operations()\n",
    "symmops.are_symmetrically_equivalent(\n",
    "    [cat.sites[index] for index in dimer_search_1],\n",
    "    [cat.sites[index] for index in dimer_search_2]\n",
    ")"
   ]
  },
  {
   "cell_type": "code",
   "execution_count": null,
   "metadata": {},
   "outputs": [],
   "source": []
  }
 ],
 "metadata": {
  "kernelspec": {
   "display_name": "Python 3",
   "language": "python",
   "name": "python3"
  },
  "language_info": {
   "codemirror_mode": {
    "name": "ipython",
    "version": 3
   },
   "file_extension": ".py",
   "mimetype": "text/x-python",
   "name": "python",
   "nbconvert_exporter": "python",
   "pygments_lexer": "ipython3",
   "version": "3.6.2"
  }
 },
 "nbformat": 4,
 "nbformat_minor": 2
}
