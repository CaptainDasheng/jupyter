{
 "cells": [
  {
   "cell_type": "code",
   "execution_count": 1,
   "metadata": {},
   "outputs": [],
   "source": [
    "import os\n",
    "import math"
   ]
  },
  {
   "cell_type": "markdown",
   "metadata": {},
   "source": [
    "# Battery Dimer Analysis\n",
    "\n",
    "This notebook is a short and schematic summary of the analysis performed for my MRS Advances paper, which discusses and compares the formation of oxygen dimers in Li$_{0.5}$MnO$_3$ and Li$_{0.5}$MnO$_3$."
   ]
  },
  {
   "cell_type": "markdown",
   "metadata": {},
   "source": [
    "## Oxygen Oxidation\n",
    "\n",
    "To start our analysis, we take a look at the magnetic moments of the various elements in both structures. We want to compare the magnetic moments on the Mn, Ir and O atoms for the discharged and 75% charged structure. As we have relaxed all bulk structures with HSE06, we can use these results to discuss the change in oxidation state, by analyzing the change in magnetic moments. Here's how we can extract the magnetic moments from the Outcar using pymatgen's vasp I/O:\n",
    "\n"
   ]
  },
  {
   "cell_type": "code",
   "execution_count": 2,
   "metadata": {
    "scrolled": true
   },
   "outputs": [
    {
     "data": {
      "text/plain": [
       "({'d': 0.0, 'p': -0.0, 's': -0.0, 'tot': -0.0},\n",
       " {'d': 0.0, 'p': -0.0, 's': -0.0, 'tot': -0.0},\n",
       " {'d': 0.0, 'p': 0.0, 's': 0.0, 'tot': 0.0},\n",
       " {'d': 0.0, 'p': -0.0, 's': -0.0, 'tot': -0.0},\n",
       " {'d': 2.973, 'p': 0.029, 's': 0.013, 'tot': 3.014},\n",
       " {'d': -2.973, 'p': -0.029, 's': -0.013, 'tot': -3.014},\n",
       " {'d': 0.0, 'p': 0.001, 's': 0.0, 'tot': 0.001},\n",
       " {'d': 0.0, 'p': -0.001, 's': -0.0, 'tot': -0.001},\n",
       " {'d': 0.0, 'p': -0.002, 's': -0.0, 'tot': -0.002},\n",
       " {'d': 0.0, 'p': -0.001, 's': -0.0, 'tot': -0.001},\n",
       " {'d': 0.0, 'p': 0.002, 's': 0.0, 'tot': 0.002},\n",
       " {'d': 0.0, 'p': 0.001, 's': 0.0, 'tot': 0.001})"
      ]
     },
     "execution_count": 2,
     "metadata": {},
     "output_type": "execute_result"
    }
   ],
   "source": [
    "from pymatgen.io.vasp.outputs import Outcar\n",
    "\n",
    "out = Outcar(\"./data/oxidation/Li2MnO3_hse_OUTCAR\")\n",
    "out.magnetization"
   ]
  },
  {
   "cell_type": "markdown",
   "metadata": {},
   "source": [
    "We can see that the output of the magnetization is given in terms of the various orbitals and the total for each atom in the structure. Let's extract the total for each element and average the absolute value of the magnetic moment:"
   ]
  },
  {
   "cell_type": "code",
   "execution_count": 3,
   "metadata": {},
   "outputs": [
    {
     "name": "stdout",
     "output_type": "stream",
     "text": [
      "Li2MnO3: magnetization on Mn = 3.014\n",
      "Li2MnO3: magnetization on O = 0.001\n"
     ]
    }
   ],
   "source": [
    "total_magnetization = [atom['tot'] for atom in out.magnetization]\n",
    "li2mno3_magmom = dict()\n",
    "li2mno3_magmom[\"Mn\"] = (sum([abs(mag) for mag in total_magnetization[4:6]]))/2\n",
    "li2mno3_magmom[\"O\"] = (sum([abs(mag) for mag in total_magnetization[6:]]))/6\n",
    "print(\"Li2MnO3: magnetization on Mn = \" + str(li2mno3_magmom[\"Mn\"]))\n",
    "print(\"Li2MnO3: magnetization on O = \" + str(round(li2mno3_magmom[\"O\"], 3)))"
   ]
  },
  {
   "cell_type": "markdown",
   "metadata": {},
   "source": [
    "This could be done a lot better, really. I could write a little script to just get this automatically. But it'll do for now, considering we have a paper to finish. Let's continue with the other structures:"
   ]
  },
  {
   "cell_type": "code",
   "execution_count": 4,
   "metadata": {},
   "outputs": [
    {
     "name": "stdout",
     "output_type": "stream",
     "text": [
      "Li0.5MnO3: magnetization on Mn = 2.963\n",
      "Li0.5MnO3: magnetization on O = 0.45\n"
     ]
    }
   ],
   "source": [
    "total_abs_magnetization = [abs(atom['tot']) for atom in Outcar(\"./data/oxidation/Li0.5MnO3_hse_OUTCAR\").magnetization]\n",
    "li05mno3_magmom = dict()\n",
    "li05mno3_magmom[\"Mn\"] = (sum(total_abs_magnetization[1:3]))/2\n",
    "li05mno3_magmom[\"O\"] = (sum(total_abs_magnetization[3:]))/6\n",
    "print(\"Li0.5MnO3: magnetization on Mn = \" + str(li05mno3_magmom[\"Mn\"]))\n",
    "print(\"Li0.5MnO3: magnetization on O = \" + str(round(li05mno3_magmom[\"O\"], 3)))"
   ]
  },
  {
   "cell_type": "code",
   "execution_count": 5,
   "metadata": {},
   "outputs": [
    {
     "name": "stdout",
     "output_type": "stream",
     "text": [
      "Li2IrO3: magnetization on Ir = 0.738\n",
      "Li2IrO3: magnetization on O = 0.076\n"
     ]
    }
   ],
   "source": [
    "total_abs_magnetization = [abs(atom['tot']) for atom in Outcar(\"./data/oxidation/Li2IrO3_hse_OUTCAR\").magnetization]\n",
    "li2iro3_magmom = dict()\n",
    "li2iro3_magmom[\"Ir\"] = (sum(total_abs_magnetization[4:6]))/2\n",
    "li2iro3_magmom[\"O\"] = (sum(total_abs_magnetization[6:]))/6\n",
    "print(\"Li2IrO3: magnetization on Ir = \" + str(li2iro3_magmom[\"Ir\"]))\n",
    "print(\"Li2IrO3: magnetization on O = \" + str(round(li2iro3_magmom[\"O\"], 3)))"
   ]
  },
  {
   "cell_type": "code",
   "execution_count": 6,
   "metadata": {},
   "outputs": [
    {
     "name": "stdout",
     "output_type": "stream",
     "text": [
      "Li0.5MnO3: magnetization on Ir = 1.165\n",
      "Li0.5MnO3: magnetization on O = 0.371\n"
     ]
    }
   ],
   "source": [
    "total_abs_magnetization = [abs(atom['tot']) for atom in Outcar(\"./data/oxidation/Li0.5IrO3_hse_OUTCAR\").magnetization]\n",
    "li05iro3_magmom = dict()\n",
    "li05iro3_magmom[\"Ir\"] = (sum(total_abs_magnetization[1:3]))/2\n",
    "li05iro3_magmom[\"O\"] = (sum(total_abs_magnetization[3:]))/6\n",
    "print(\"Li0.5MnO3: magnetization on Ir = \" + str(li05iro3_magmom[\"Ir\"]))\n",
    "print(\"Li0.5MnO3: magnetization on O = \" + str(round(li05iro3_magmom[\"O\"], 3)))"
   ]
  },
  {
   "cell_type": "markdown",
   "metadata": {},
   "source": [
    "This was probably not the most efficient way of doing this. This task could have been more easily performed by just copying the values into MATLAB and making the figure. But it could serve as a tutorial in the future."
   ]
  },
  {
   "cell_type": "markdown",
   "metadata": {},
   "source": [
    "## Oxygen Lattice framework distortion\n",
    "\n",
    "Next we'll take a look at the distances between the oxygen atoms. One way to do this would be to open the structure files in VESTA, and then click a lot. But clicking is for people that don't know Python. We've already written a script that uses the voronoi decomposition of the structure in order to find the neighbors, and then reconstruct the potential oxygen dimers around a specific site. So let's do that. Starting by loading the fully discharged and 75% charged structures of Li$_2$MnO$_3$:"
   ]
  },
  {
   "cell_type": "code",
   "execution_count": 7,
   "metadata": {
    "scrolled": true
   },
   "outputs": [
    {
     "name": "stdout",
     "output_type": "stream",
     "text": [
      "Full Formula (Li4 Mn2 O6)\n",
      "Reduced Formula: Li2MnO3\n",
      "abc   :   4.979788   4.979788   5.073692\n",
      "angles:  80.383533  80.383531 119.882393\n",
      "Sites (12)\n",
      "  #    #VESTA  SP            a          b          c    magmom\n",
      "---  --------  ----  ---------  ---------  ---------  --------\n",
      "  0         1  Li     0.5        0.5        0            0\n",
      "  1         2  Li    -0         -0          0.5          0\n",
      "  2         3  Li     0.661809   0.338191   0.5          0\n",
      "  3         4  Li     0.338191   0.661809   0.5         -0\n",
      "  4         5  Mn     0.167033   0.832967   0            3.041\n",
      "  5         6  Mn     0.832967   0.167033  -0           -3.041\n",
      "  6         7  O      0.781049   0.781049   0.228685    -0\n",
      "  7         8  O      0.218951   0.218951   0.771315     0\n",
      "  8         9  O      0.066414   0.42414    0.224551    -0.002\n",
      "  9        10  O      0.57586    0.933586   0.775449    -0.002\n",
      " 10        11  O      0.933586   0.57586    0.775449     0.002\n",
      " 11        12  O      0.42414    0.066414   0.224551     0.002\n",
      "\n",
      "Full Formula (Li1 Mn2 O6)\n",
      "Reduced Formula: LiMn2O6\n",
      "abc   :   4.998598   4.998563   4.115161\n",
      "angles:  89.999665  90.001539 120.001613\n",
      "Sites (12)\n",
      "  #  #VESTA    SP           a         b         c    magmom\n",
      "---  --------  ----  --------  --------  --------  --------\n",
      "  0  1         Li    0         0         0            0.003\n",
      "  1  -         Vac   0         0         0.5          0\n",
      "  2  -         Vac   0.333337  0.666666  0            0\n",
      "  3  -         Vac   0.666663  0.333334  0            0\n",
      "  4  2         Mn    0.333337  0.666666  0.499998     3.078\n",
      "  5  3         Mn    0.666663  0.333334  0.500002     3.078\n",
      "  6  4         O     0.64288   0.642877  0.254189    -0.467\n",
      "  7  5         O     0.357115  0         0.254191    -0.467\n",
      "  8  6         O     5e-06     0.357118  0.254189    -0.467\n",
      "  9  7         O     0.642885  1         0.745809    -0.467\n",
      " 10  8         O     0.35712   0.357123  0.745811    -0.467\n",
      " 11  9         O     0.999995  0.642882  0.745811    -0.467\n"
     ]
    }
   ],
   "source": [
    "from pybat.core import LiRichCathode\n",
    "\n",
    "li2mno3_cat = LiRichCathode.from_file(\"./data/oxygen_distortion/o3-li2mno3.json\")\n",
    "li05mno3_cat = LiRichCathode.from_file(\"./data/oxygen_distortion/o1-li0.5mno3.json\")\n",
    "print(li2mno3_cat)\n",
    "print()\n",
    "print(li05mno3_cat)"
   ]
  },
  {
   "cell_type": "markdown",
   "metadata": {},
   "source": [
    "These have been fully optimized and re-optimized in order to avoid [Pulay stresses.](http://cms.mpi.univie.ac.at/vasp/guide/node161.html) (Notice how you can add links to the markdown. Easy and useful.) Next, we use some Python magic to find all of the distances for both structures and put then in a nice and sorted `List`:"
   ]
  },
  {
   "cell_type": "code",
   "execution_count": 8,
   "metadata": {},
   "outputs": [
    {
     "data": {
      "text/plain": [
       "[2.574242106443846,\n",
       " 2.574242123892187,\n",
       " 2.6030370413569446,\n",
       " 2.7745158036884083,\n",
       " 2.7745158036884083,\n",
       " 2.7745158226175515,\n",
       " 2.774515822617552,\n",
       " 2.7795183447383067,\n",
       " 2.7795183447383067,\n",
       " 2.790746672654144,\n",
       " 2.8078407335807345,\n",
       " 2.807840789092908]"
      ]
     },
     "execution_count": 8,
     "metadata": {},
     "output_type": "execute_result"
    }
   ],
   "source": [
    "li2mno3_distances = [li2mno3_cat.distance_matrix[indices] for indices in li2mno3_cat.find_oxygen_dimers(4)]\n",
    "li2mno3_distances.sort(); li2mno3_distances"
   ]
  },
  {
   "cell_type": "code",
   "execution_count": 9,
   "metadata": {},
   "outputs": [
    {
     "data": {
      "text/plain": [
       "[2.4765280123668454,\n",
       " 2.47653474005797,\n",
       " 2.4765773655518086,\n",
       " 2.6979991457600354,\n",
       " 2.6980480180966064,\n",
       " 2.698055437620388,\n",
       " 2.7886016981628314,\n",
       " 2.788601698162832,\n",
       " 2.78861561199193,\n",
       " 2.788615611991931,\n",
       " 2.7886205882155957,\n",
       " 2.788620588215596]"
      ]
     },
     "execution_count": 9,
     "metadata": {},
     "output_type": "execute_result"
    }
   ],
   "source": [
    "li05mno3_distances = [li05mno3_cat.distance_matrix[indices] for indices in li05mno3_cat.find_oxygen_dimers(4)]\n",
    "li05mno3_distances.sort(); li05mno3_distances"
   ]
  },
  {
   "cell_type": "markdown",
   "metadata": {},
   "source": [
    "We can immediately see that the discharged structure has a long and short distance (within a certain margin of error). For the charged structure, the short distance has shortened by about 0.1 angstrom (Oh, yeah, the distances are expressed in angstrom, FYI). Three of the long distances have shortened as well, and I have a suspicion that it are the ones that are slightly longer in the original structure. Let's check this by comparing the distances before I foolishly sorted them:"
   ]
  },
  {
   "cell_type": "code",
   "execution_count": 10,
   "metadata": {},
   "outputs": [
    {
     "data": {
      "text/plain": [
       "[2.790746672654144,\n",
       " 2.7745158036884083,\n",
       " 2.7795183447383067,\n",
       " 2.574242123892187,\n",
       " 2.7745158226175515,\n",
       " 2.6030370413569446,\n",
       " 2.807840789092908,\n",
       " 2.7745158036884083,\n",
       " 2.574242106443846,\n",
       " 2.7795183447383067,\n",
       " 2.774515822617552,\n",
       " 2.8078407335807345]"
      ]
     },
     "execution_count": 10,
     "metadata": {},
     "output_type": "execute_result"
    }
   ],
   "source": [
    "li2mno3_distances = [li2mno3_cat.distance_matrix[indices] for indices in li2mno3_cat.find_oxygen_dimers(4)]\n",
    "li05mno3_distances = [li05mno3_cat.distance_matrix[indices] for indices in li05mno3_cat.find_oxygen_dimers(4)]\n",
    "li2mno3_distances"
   ]
  },
  {
   "cell_type": "code",
   "execution_count": 11,
   "metadata": {},
   "outputs": [
    {
     "data": {
      "text/plain": [
       "[-0.002126084438548226,\n",
       " -0.0764677855918019,\n",
       " 0.009083353424525153,\n",
       " -0.09771411152534171,\n",
       " -0.29793845706574285,\n",
       " 0.09496210440309083,\n",
       " -0.01922517710097793,\n",
       " 0.014099808303522643,\n",
       " 0.21437848177175,\n",
       " -0.3029836046803367,\n",
       " 0.014085875545279514,\n",
       " -0.10978529596034647]"
      ]
     },
     "execution_count": 11,
     "metadata": {},
     "output_type": "execute_result"
    }
   ],
   "source": [
    "[dis1 - dis2 for dis1, dis2 in zip(li05mno3_distances, li2mno3_distances)]"
   ]
  },
  {
   "cell_type": "markdown",
   "metadata": {},
   "source": [
    "Hmm, some of the distances increase! Either the `find_oxygen_dimers` method somehow does not find two lists that correspond for the two structures, or the distortion is more interesting than just a reduction in the distances for the oxygen pairs. That could be possible, and maybe dependent on the lithium configuration. Let's look into this later. For now we'll just mention that the shorter distances get shorter, whereas most of the longer ones stay the same, which leads to a deformation. The shorter distances getting shorter corresponds to the formation of dimers in the view of Artem's science article.\n",
    "\n",
    "`Note: Maybe the oxygen pairs don't correspond, because of course the O3->O1 transformation changes the octaheders quite a bit. Might be worth looking into and discussing in the paper.`"
   ]
  },
  {
   "cell_type": "markdown",
   "metadata": {},
   "source": [
    "## Li configuration analysis\n",
    "\n",
    "In order to study partially charged structures, such as Li$_{0.5}$MnO$_3$ and Li$_{0.5}$IrO$_3$, a choice must be made for the Lithium configuration. Hence, it is important to investigate the optimal lithium configuration, by comparing the formation energies of the various lithium configurations. We will not add this discussion to the paper extensively though, as this has been investigated before. We'll just mention that our results correspond to the ones in the literature. Which is accurate. I might add the actual analysis later to show how we checked this. For now, you'll have to [trust me](https://media1.tenor.com/images/7d64c9003647a2e846eede7ffef1a63a/tenor.gif?itemid=5698466)."
   ]
  },
  {
   "cell_type": "markdown",
   "metadata": {},
   "source": [
    "## Oxygen dimer analysis\n",
    "\n",
    "Alright, we've convinced ourselves that the oxygen oxidated in both structures as we remove the lithium. We've also noted that the oxygen framework is distored slightly by this removal. However, what we are really interested in is to see whether this all leads to the formation of proper oxygen dimers, i.e. oxygen pairs which are bonded convalently, sharing electrons and in such a way replenishing their p-orbitals to remove their magnetic moments. To investigate the formation of dimers, we need to check which pairs of oxygen that are connected in the octahedral environment of a cation site can form a dimer. The basic step of seeing whether such a dimer can be formed, is just pushing the oxygen pair closer together, and optimizing the structure. If the new structure is optimized and forms a stable dimer, we compare the total energy with that of the original pre-dimer structure. If the energy lower, there is a thermodynamic argument to be made that the structure wants to form such dimers. The next question is whether this is kinetically possible, but we'll answer that later."
   ]
  },
  {
   "cell_type": "markdown",
   "metadata": {},
   "source": [
    "## Symmetry analysis\n",
    "Of course, we need to study the dimer formation in a sufficiently large supercell of the original structure, or we'll be investigating more of a phase transformation than the formation of a defect, which is how we interpret the local formation of a dimer. We don't want to just pick a few oxygen pairs in the structure, however, and check whether they form a dimer. Instead, we want to be complete, i.e. study all non-equivalent oxygen pairs with the potential to form a dimer. What we've done for the structures is start with an analysis of the symmetry of the structure in order to find a list of the inequivalent dimers. The dimers themselves are found by analysing the neighbours around each site, using the `pymatgen.chemenv` module. Let's start by loading our in-house developed `pybat` package and loading the 2x2x2 supercell O1-Li$_{0.5}$MnO$_3$ structure with the 1a cation configuration for the Li atoms:"
   ]
  },
  {
   "cell_type": "code",
   "execution_count": 12,
   "metadata": {},
   "outputs": [],
   "source": [
    "import os\n",
    "import pybat.core as pb\n",
    "\n",
    "structure_filename = os.path.abspath(\"./data/dimer_symmetry/O1-1a_Li0.5MnO3_222.json\")\n",
    "\n",
    "cat = pb.LiRichCathode.from_file(structure_filename)"
   ]
  },
  {
   "cell_type": "markdown",
   "metadata": {},
   "source": [
    "Note that this strucure has been constructed from the optimized primitive unit cell, and optimized in turn. Let's have a look at our final cathode structure:"
   ]
  },
  {
   "cell_type": "code",
   "execution_count": 13,
   "metadata": {
    "scrolled": true
   },
   "outputs": [
    {
     "name": "stdout",
     "output_type": "stream",
     "text": [
      "Full Formula (Li8 Mn16 O48)\n",
      "Reduced Formula: LiMn2O6\n",
      "abc   :   9.996316   9.996316   8.225567\n",
      "angles:  90.000000  90.000000 120.000000\n",
      "Sites (96)\n",
      "  #  #VESTA    SP           a         b          c    magmom\n",
      "---  --------  ----  --------  --------  ---------  --------\n",
      "  0  1         Li    0         0         -0            0.003\n",
      "  1  2         Li    0         0          0.5          0.003\n",
      "  2  3         Li    0         0.5       -0            0.003\n",
      "  3  4         Li    0         0.5        0.5          0.003\n",
      "  4  5         Li    0.5       0         -0            0.003\n",
      "  5  6         Li    0.5       0          0.5          0.003\n",
      "  6  7         Li    0.5       0.5       -0            0.003\n",
      "  7  8         Li    0.5       0.5        0.5          0.003\n",
      "  8  -         Vac   1         0          0.25         0\n",
      "  9  -         Vac   0         0          0.75         0\n",
      " 10  -         Vac   0         0.5        0.25         0\n",
      " 11  -         Vac   0         0.5        0.75         0\n",
      " 12  -         Vac   0.5       0          0.25         0\n",
      " 13  -         Vac   0.5       1          0.75         0\n",
      " 14  -         Vac   0.5       0.5        0.25         0\n",
      " 15  -         Vac   0.5       0.5        0.75         0\n",
      " 16  -         Vac   0.166668  0.333333   0            0\n",
      " 17  -         Vac   0.166668  0.333333   0.5          0\n",
      " 18  -         Vac   0.166668  0.833333   0            0\n",
      " 19  -         Vac   0.166668  0.833333   0.5          0\n",
      " 20  -         Vac   0.666668  0.333333   0            0\n",
      " 21  -         Vac   0.666668  0.333333   0.5          0\n",
      " 22  -         Vac   0.666668  0.833333   0            0\n",
      " 23  -         Vac   0.666668  0.833333   0.5          0\n",
      " 24  -         Vac   0.333332  0.166667   1            0\n",
      " 25  -         Vac   0.333332  0.166667   0.5          0\n",
      " 26  -         Vac   0.333332  0.666667   0            0\n",
      " 27  -         Vac   0.333332  0.666667   0.5          0\n",
      " 28  -         Vac   0.833332  0.166667   1            0\n",
      " 29  -         Vac   0.833332  0.166667   0.5          0\n",
      " 30  -         Vac   0.833332  0.666667   0            0\n",
      " 31  -         Vac   0.833332  0.666667   0.5          0\n",
      " 32  9         Mn    0.166667  0.333333   0.249999     3.049\n",
      " 33  10        Mn    0.166667  0.333333   0.749999     3.049\n",
      " 34  11        Mn    0.166667  0.833333   0.249999     3.049\n",
      " 35  12        Mn    0.166667  0.833333   0.749999     3.049\n",
      " 36  13        Mn    0.666667  0.333333   0.249999     3.049\n",
      " 37  14        Mn    0.666667  0.333333   0.749999     3.049\n",
      " 38  15        Mn    0.666667  0.833333   0.249999     3.049\n",
      " 39  16        Mn    0.666667  0.833333   0.749999     3.049\n",
      " 40  17        Mn    0.333333  0.166667   0.250001     3.049\n",
      " 41  18        Mn    0.333333  0.166667   0.750001     3.049\n",
      " 42  19        Mn    0.333333  0.666667   0.250001     3.049\n",
      " 43  20        Mn    0.333333  0.666667   0.750001     3.049\n",
      " 44  21        Mn    0.833333  0.166667   0.250001     3.049\n",
      " 45  22        Mn    0.833333  0.166667   0.750001     3.049\n",
      " 46  23        Mn    0.833333  0.666667   0.250001     3.049\n",
      " 47  24        Mn    0.833333  0.666667   0.750001     3.049\n",
      " 48  25        O     0.32146   0.32146    0.127135    -0.458\n",
      " 49  26        O     0.32146   0.32146    0.627135    -0.458\n",
      " 50  27        O     0.32146   0.82146    0.127135    -0.458\n",
      " 51  28        O     0.32146   0.82146    0.627135    -0.458\n",
      " 52  29        O     0.82146   0.32146    0.127135    -0.458\n",
      " 53  30        O     0.82146   0.32146    0.627135    -0.458\n",
      " 54  31        O     0.82146   0.82146    0.127135    -0.458\n",
      " 55  32        O     0.82146   0.82146    0.627135    -0.458\n",
      " 56  33        O     0.17854   1          0.127135    -0.456\n",
      " 57  34        O     0.17854   1          0.627135    -0.456\n",
      " 58  35        O     0.17854   0.5        0.127135    -0.456\n",
      " 59  36        O     0.17854   0.5        0.627135    -0.456\n",
      " 60  37        O     0.67854   1          0.127135    -0.456\n",
      " 61  38        O     0.67854   1          0.627135    -0.456\n",
      " 62  39        O     0.67854   0.5        0.127135    -0.456\n",
      " 63  40        O     0.67854   0.5        0.627135    -0.456\n",
      " 64  41        O     0         0.17854    0.127135    -0.46\n",
      " 65  42        O     0         0.17854    0.627135    -0.46\n",
      " 66  43        O     0         0.67854    0.127135    -0.46\n",
      " 67  44        O     0         0.67854    0.627135    -0.46\n",
      " 68  45        O     0.5       0.17854    0.127135    -0.46\n",
      " 69  46        O     0.5       0.17854    0.627135    -0.46\n",
      " 70  47        O     0.5       0.67854    0.127135    -0.46\n",
      " 71  48        O     0.5       0.67854    0.627135    -0.46\n",
      " 72  49        O     0.32146   0          0.372865    -0.456\n",
      " 73  50        O     0.32146   0          0.872865    -0.456\n",
      " 74  51        O     0.32146   0.5        0.372865    -0.456\n",
      " 75  52        O     0.32146   0.5        0.872865    -0.456\n",
      " 76  53        O     0.82146   0          0.372865    -0.456\n",
      " 77  54        O     0.82146   0          0.872865    -0.456\n",
      " 78  55        O     0.82146   0.5        0.372865    -0.456\n",
      " 79  56        O     0.82146   0.5        0.872865    -0.456\n",
      " 80  57        O     0.17854   0.17854    0.372865    -0.458\n",
      " 81  58        O     0.17854   0.17854    0.872865    -0.458\n",
      " 82  59        O     0.17854   0.67854    0.372865    -0.458\n",
      " 83  60        O     0.17854   0.67854    0.872865    -0.458\n",
      " 84  61        O     0.67854   0.17854    0.372865    -0.458\n",
      " 85  62        O     0.67854   0.17854    0.872865    -0.458\n",
      " 86  63        O     0.67854   0.67854    0.372865    -0.458\n",
      " 87  64        O     0.67854   0.67854    0.872865    -0.458\n",
      " 88  65        O     1         0.32146    0.372865    -0.46\n",
      " 89  66        O     1         0.32146    0.872865    -0.46\n",
      " 90  67        O     1         0.82146    0.372865    -0.46\n",
      " 91  68        O     1         0.82146    0.872865    -0.46\n",
      " 92  69        O     0.5       0.32146    0.372865    -0.46\n",
      " 93  70        O     0.5       0.32146    0.872865    -0.46\n",
      " 94  71        O     0.5       0.82146    0.372865    -0.46\n",
      " 95  72        O     0.5       0.82146    0.872865    -0.46\n"
     ]
    }
   ],
   "source": [
    "print(cat)"
   ]
  },
  {
   "cell_type": "markdown",
   "metadata": {},
   "source": [
    "Note that the structure also keeps track of the vacancies. These are kept in the structure in order for the Voronoi decomposition of the `chemenv` package to keep functioning properly, as well as making it easier to define a migration of the transition metals. The #VESTA column in the printed string is just to figure out the corresponding atom when opening the corresponding POSCAR or .cif file in VESTA. Let's first take a look at how many potential dimers there are in the 2x2x2 unit cell of the structure:"
   ]
  },
  {
   "cell_type": "code",
   "execution_count": 14,
   "metadata": {},
   "outputs": [
    {
     "data": {
      "text/plain": [
       "438"
      ]
     },
     "execution_count": 14,
     "metadata": {},
     "output_type": "execute_result"
    }
   ],
   "source": [
    "len(cat.find_oxygen_dimers())"
   ]
  },
  {
   "cell_type": "markdown",
   "metadata": {},
   "source": [
    "This takes a little longer, because setting up the Voronoi decomposition for the structure using the `pymatgen.analysis.chemenv` package takes some time. It would take quite some time to calculate the formation energy for all of these potential dimers. Fortunately, we've also developed a method for finding the inequivalent dimers in a structure:"
   ]
  },
  {
   "cell_type": "code",
   "execution_count": 15,
   "metadata": {},
   "outputs": [
    {
     "data": {
      "text/plain": [
       "[(64, 54), (64, 77), (54, 76), (81, 48), (81, 89), (88, 64)]"
      ]
     },
     "execution_count": 15,
     "metadata": {},
     "output_type": "execute_result"
    }
   ],
   "source": [
    "cat.find_noneq_dimers()"
   ]
  },
  {
   "cell_type": "markdown",
   "metadata": {},
   "source": [
    "You can see that of all the dimers in the structure, there are only 6 inequivalent ones. This makes the analysis of the stability of the oxygen framework somewhat easier. I've built upon this method in combination with the `fireworks` package in order to set up a workflow that immediately calculates the formation energy for all the non-equivalent dimers. I won't be executing this here, as it sends these workflows to the pybat server on mLab (Soon to be Mongo DB Atlas.). \n",
    "\n",
    "The OUTCAR's of the scf calculation on the optimized structures are put in `data/dimer_thermo/`. I've only added the ones of the dimers for which the energy actually decreases. The full analysis will have to be done later.\n",
    "\n",
    "Just as a clarification: The above dimers' indices for do not correspond to the ones that were chosen be the workflow script. That script actually finds the dimers that are the closest tot the center of the unit cell, for easy visualisation purposes. However, the dimer combinations that I actually have analyzed all have an equivalent dimer in the list above. To check this, here you can find the lists of equivalent dimers for the list on inequivalent dimers (if that makes sense to you)."
   ]
  },
  {
   "cell_type": "code",
   "execution_count": 16,
   "metadata": {},
   "outputs": [],
   "source": [
    "dimer_lists = cat.list_noneq_dimers()"
   ]
  },
  {
   "cell_type": "markdown",
   "metadata": {},
   "source": [
    "That probably took a while. It's most likely not the most efficient implementation, but it's fine for our purposes. To convince you that the dimers I analyze below correspond to one of the dimers in the list above, you can use the following little piece of code to find the dimer it corresponds to."
   ]
  },
  {
   "cell_type": "code",
   "execution_count": 17,
   "metadata": {},
   "outputs": [
    {
     "name": "stdout",
     "output_type": "stream",
     "text": [
      "Found requested dimer in list of (54, 76)\n"
     ]
    },
    {
     "data": {
      "text/plain": [
       "True"
      ]
     },
     "execution_count": 17,
     "metadata": {},
     "output_type": "execute_result"
    }
   ],
   "source": [
    "dimer_search = (48, 92)\n",
    "\n",
    "for list in dimer_lists:\n",
    "    if dimer_search in list:\n",
    "        equivalent_dimer = list[0]\n",
    "        print(\"Found requested dimer in list of \" + str(equivalent_dimer))\n",
    "\n",
    "# Let's check it\n",
    "from pymatgen.symmetry.analyzer import SpacegroupAnalyzer\n",
    "symmops = SpacegroupAnalyzer(cat).get_space_group_operations()\n",
    "symmops.are_symmetrically_equivalent(\n",
    "    [cat.sites[index] for index in dimer_search],\n",
    "    [cat.sites[index] for index in equivalent_dimer]\n",
    ")\n"
   ]
  },
  {
   "cell_type": "markdown",
   "metadata": {},
   "source": [
    "This should show one of the dimers in the above list, and say True. If it doesn't, please contact me, because then I really have to start writing some units tests."
   ]
  },
  {
   "cell_type": "markdown",
   "metadata": {},
   "source": [
    "### Thermodynamics\n",
    "\n",
    "So let's take a look at the energies of the dimer structures and compaer t"
   ]
  },
  {
   "cell_type": "markdown",
   "metadata": {},
   "source": [
    "## NEB Analysis\n",
    "\n",
    "Once we've discussed the change in total energy for the various dimers, we will also add the kinetic barriers here."
   ]
  },
  {
   "cell_type": "code",
   "execution_count": null,
   "metadata": {},
   "outputs": [],
   "source": []
  },
  {
   "cell_type": "code",
   "execution_count": null,
   "metadata": {},
   "outputs": [],
   "source": []
  }
 ],
 "metadata": {
  "kernelspec": {
   "display_name": "Python 3",
   "language": "python",
   "name": "python3"
  },
  "language_info": {
   "codemirror_mode": {
    "name": "ipython",
    "version": 3
   },
   "file_extension": ".py",
   "mimetype": "text/x-python",
   "name": "python",
   "nbconvert_exporter": "python",
   "pygments_lexer": "ipython3",
   "version": "3.6.2"
  }
 },
 "nbformat": 4,
 "nbformat_minor": 2
}
