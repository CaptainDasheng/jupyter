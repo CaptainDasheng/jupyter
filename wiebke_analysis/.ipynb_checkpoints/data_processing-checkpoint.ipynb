{
 "cells": [
  {
   "cell_type": "markdown",
   "metadata": {},
   "source": [
    "# Gold-Palladium Dielectric Function Analysis\n",
    "\n",
    "Hey Wiebke! I figured it'd be nice to actually use one of these Jupyter notebooks to do the entire data processing of the dielectric function of the AuPd alloys. This way you can see the whole thing, and comment where needed. And, I must admit, I'm a little giddy about starting these Jupyter notebooks a.t.m. :)\n",
    "\n",
    "Let me start by describing the process that I followed to set up the calculations. As the DFT software package that I use only allows for periodic structures, I have tried to simulate the random positions of the Au-Pd alloy by generating a bunch of randomized structures. I actually wrote a little Python method for this:\n",
    "\n",
    "```python\n",
    "\n",
    "import os\n",
    "from numpy.random import choice\n",
    "from pymatgen.core import Structure\n",
    "\n",
    "def generate_alloy(root_structure_file, alloy_element, mixing_ratio,\n",
    "                   number_random):\n",
    "    \"\"\"\n",
    "\n",
    "    Args:\n",
    "        root_structure:\n",
    "        alloy_element:\n",
    "        mixing_ratio:\n",
    "        number_random:\n",
    "\n",
    "    Returns:\n",
    "\n",
    "    \"\"\"\n",
    "\n",
    "    alloy = Structure.from_file(root_structure_file)\n",
    "\n",
    "    random_list = []\n",
    "\n",
    "    # Make a list of random combinations of site indices\n",
    "    while len(random_list) < number_random:\n",
    "\n",
    "        random_indices = list(choice(\n",
    "            list(range(len(alloy))), round(len(alloy) * mixing_ratio), False\n",
    "        ))\n",
    "\n",
    "        if random_indices not in random_list:\n",
    "            random_list.append(random_indices)\n",
    "\n",
    "    # Get the current working directory\n",
    "    directory = os.getcwd()\n",
    "\n",
    "    # Set up the list of random structures\n",
    "    for i, index_list in zip(range(len(random_list)), random_list):\n",
    "\n",
    "        random_structure = alloy.copy()\n",
    "\n",
    "        for site_index in index_list:\n",
    "            random_structure.replace(site_index, alloy_element)\n",
    "\n",
    "        filename = os.path.basename(root_structure_file).strip(\n",
    "            \".json\").strip(\".cif\") + \"_rand\" + str(i) + \".cif\"\n",
    "\n",
    "        random_structure.sort()\n",
    "        random_structure.to(\n",
    "            fmt=\"cif\", filename=os.path.join(directory, filename)\n",
    "        )\n",
    "```\n",
    "\n",
    "Please don't judge my lazy docstring. :P Basically, I give this script a supercell of Au, make Pd the `alloy_element`, and generate 10 (`number_random`) random structures for each %Pd (`mixing_ratio`). For each of these structures, I calculate the optical properties using DFT.\n",
    "\n",
    "So far, I've just added an example output file (`test_diel.xml`) to the github repo to try and load it into this jupyter notebook. First step is to load the Vasprun object, that allows me to load the VASP output file that contains the dielectric function data."
   ]
  },
  {
   "cell_type": "code",
   "execution_count": 1,
   "metadata": {},
   "outputs": [],
   "source": [
    "from pymatgen.io.vasp.outputs import Vasprun"
   ]
  },
  {
   "cell_type": "markdown",
   "metadata": {},
   "source": [
    "Pymatgen is an amazing python package with a lot of useful tools for material science. I've not tried ASE, but I'd be surprised if it has more to offer than pymatgen! Now, let's see if we can load the example .xml file:"
   ]
  },
  {
   "cell_type": "code",
   "execution_count": 2,
   "metadata": {},
   "outputs": [
    {
     "name": "stderr",
     "output_type": "stream",
     "text": [
      "/Users/mbercx/Dropbox/python/envs/pymatgen/lib/python3.6/site-packages/pymatgen/io/vasp/outputs.py:877: UserWarning: No POTCAR file with matching TITEL fields was found in /Users/mbercx/Dropbox/python/jupyter/wiebke_analysis\n",
      "  \" was found in {}\".format(os.path.abspath(p)))\n"
     ]
    }
   ],
   "source": [
    "output = Vasprun(\"test_diel.xml\")"
   ]
  },
  {
   "cell_type": "markdown",
   "metadata": {},
   "source": [
    "[Ew!](https://www.youtube.com/watch?v=FSNasZ5W_8A) A warning. All that red on my screen is making me sad. Let me see if I can fix this..."
   ]
  },
  {
   "cell_type": "code",
   "execution_count": null,
   "metadata": {},
   "outputs": [],
   "source": [
    "output = Vasprun(\"test_diel.xml\", parse_potcar_file=False)"
   ]
  }
 ],
 "metadata": {
  "kernelspec": {
   "display_name": "Python 3",
   "language": "python",
   "name": "python3"
  },
  "language_info": {
   "codemirror_mode": {
    "name": "ipython",
    "version": 3
   },
   "file_extension": ".py",
   "mimetype": "text/x-python",
   "name": "python",
   "nbconvert_exporter": "python",
   "pygments_lexer": "ipython3",
   "version": "3.6.2"
  }
 },
 "nbformat": 4,
 "nbformat_minor": 2
}
