{
 "cells": [
  {
   "cell_type": "code",
   "execution_count": 1,
   "metadata": {},
   "outputs": [],
   "source": [
    "# Preamble\n",
    "\n",
    "import os\n",
    "import re\n",
    "import cmath\n",
    "\n",
    "import numpy as np\n",
    "import matplotlib.pyplot as plt\n",
    "\n",
    "from pymatgen.io.vasp.outputs import Vasprun, Outcar\n",
    "from ipywidgets import interact, fixed, IntSlider, FloatText\n",
    "\n",
    "alloy_data_dir = \"/Users/mbercx/Dropbox/Phd/projects/side_projects/Wiebke_alloy/data/\""
   ]
  },
  {
   "cell_type": "markdown",
   "metadata": {},
   "source": [
    "# Gold-Palladium Dielectric Function Analysis\n",
    "\n",
    "<style>\n",
    ".nbviewer div.output_area {\n",
    "  overflow-y: auto;\n",
    "  max-height: 500px; /* or value of your choosing */\n",
    "}\n",
    "</style>\n",
    "\n",
    "Hey Wiebke! I figured it'd be nice to actually use one of these Jupyter notebooks to do the entire data processing of the dielectric function of the AuPd alloys. This way you can see the whole thing, and comment where needed. And, I must admit, I'm a little giddy about starting these Jupyter notebooks a.t.m. :)\n",
    "\n",
    "Let me start by describing the process that I followed to set up the calculations. As the DFT software package that I use only allows for periodic structures, I have tried to simulate the random positions of the Au-Pd alloy by generating a bunch of randomized structures. I actually wrote a little Python method for this:\n",
    "\n",
    "```python\n",
    "\n",
    "import os\n",
    "from numpy.random import choice\n",
    "from pymatgen.core import Structure\n",
    "\n",
    "def generate_alloy(root_structure_file, alloy_element, mixing_ratio,\n",
    "                   number_random):\n",
    "    \"\"\"\n",
    "\n",
    "    Args:\n",
    "        root_structure:\n",
    "        alloy_element:\n",
    "        mixing_ratio:\n",
    "        number_random:\n",
    "\n",
    "    Returns:\n",
    "\n",
    "    \"\"\"\n",
    "\n",
    "    alloy = Structure.from_file(root_structure_file)\n",
    "\n",
    "    random_list = []\n",
    "\n",
    "    # Make a list of random combinations of site indices\n",
    "    while len(random_list) < number_random:\n",
    "\n",
    "        random_indices = list(choice(\n",
    "            list(range(len(alloy))), round(len(alloy) * mixing_ratio), False\n",
    "        ))\n",
    "\n",
    "        if random_indices not in random_list:\n",
    "            random_list.append(random_indices)\n",
    "\n",
    "    # Get the current working directory\n",
    "    directory = os.getcwd()\n",
    "\n",
    "    # Set up the list of random structures\n",
    "    for i, index_list in zip(range(len(random_list)), random_list):\n",
    "\n",
    "        random_structure = alloy.copy()\n",
    "\n",
    "        for site_index in index_list:\n",
    "            random_structure.replace(site_index, alloy_element)\n",
    "\n",
    "        filename = os.path.basename(root_structure_file).strip(\n",
    "            \".json\").strip(\".cif\") + \"_rand\" + str(i) + \".cif\"\n",
    "\n",
    "        random_structure.sort()\n",
    "        random_structure.to(\n",
    "            fmt=\"cif\", filename=os.path.join(directory, filename)\n",
    "        )\n",
    "```\n",
    "\n",
    "Please don't judge my lazy docstring. :P Basically, I give this script a supercell of Au, make Pd the `alloy_element`, and generate 10 (`number_random`) random structures for each %Pd (`mixing_ratio`). For each of these structures, I calculate the optical properties using DFT.\n",
    "\n",
    "So far, I've just added an example output file (`test_diel.xml`) to the github repo to try and load it into this jupyter notebook. First step is to load the Vasprun object, that allows me to load the VASP output file that contains the dielectric function data."
   ]
  },
  {
   "cell_type": "code",
   "execution_count": 2,
   "metadata": {},
   "outputs": [],
   "source": [
    "from pymatgen.io.vasp.outputs import Vasprun"
   ]
  },
  {
   "cell_type": "markdown",
   "metadata": {},
   "source": [
    "Pymatgen is an amazing python package with a lot of useful tools for material science. I've not tried ASE, but I'd be surprised if it has more to offer than pymatgen! Now, let's see if we can load the example .xml file:"
   ]
  },
  {
   "cell_type": "code",
   "execution_count": 3,
   "metadata": {},
   "outputs": [
    {
     "name": "stderr",
     "output_type": "stream",
     "text": [
      "/Users/mbercx/Dropbox/python/envs/pymatgen/lib/python3.6/site-packages/pymatgen/io/vasp/outputs.py:880: UserWarning: No POTCAR file with matching TITEL fields was found in /Users/mbercx/Dropbox/python/jupyter/wiebke_analysis\n",
      "  \" was found in {}\".format(os.path.abspath(p)))\n"
     ]
    }
   ],
   "source": [
    "output = Vasprun(\"test_diel.xml\")"
   ]
  },
  {
   "cell_type": "markdown",
   "metadata": {},
   "source": [
    "[Ew!](https://www.youtube.com/watch?v=FSNasZ5W_8A) A warning. All that red on my screen is making me sad. Let me see if I can fix this..."
   ]
  },
  {
   "cell_type": "code",
   "execution_count": 4,
   "metadata": {},
   "outputs": [],
   "source": [
    "output = Vasprun(\"test_diel.xml\", parse_potcar_file=False)"
   ]
  },
  {
   "cell_type": "markdown",
   "metadata": {},
   "source": [
    "Much better! Now, let's see if we can get some dielectric function data from this baby."
   ]
  },
  {
   "cell_type": "code",
   "execution_count": 5,
   "metadata": {},
   "outputs": [
    {
     "name": "stdout",
     "output_type": "stream",
     "text": [
      "\n",
      "Energies\n",
      "\n",
      "[0.0, 0.0301, 0.0603, 0.0904, 0.1205, 0.1506, 0.1808, 0.2109, 0.241, 0.2712]\n",
      "\n",
      "Dielectric Tensor\n",
      "\n",
      "[[277.1177, 268.8355, 277.9747, -15.3716, 0.0, 0.0], [274.1432, 266.1223, 274.5375, -12.903, 0.0, 0.0], [265.3816, 258.121, 264.425, -7.5609, 0.0, 0.0], [251.3046, 245.2361, 248.2168, -2.4342, 0.0, 0.0], [232.6511, 228.1035, 226.8204, 1.2368, 0.0, 0.0], [210.3641, 207.5389, 201.392, 3.4867, 0.0, 0.0], [185.5119, 184.4739, 173.2386, 4.6793, 0.0, 0.0], [159.2048, 159.8869, 143.7137, 5.1537, 0.0, 0.0], [132.5155, 134.7361, 114.1175, 5.1619, 0.0, 0.0], [106.4112, 109.9013, 85.6117, 4.8805, 0.0, 0.0]]\n"
     ]
    }
   ],
   "source": [
    "print(\"\\nEnergies\\n\"); print(output.dielectric[0][0:10])\n",
    "print(\"\\nDielectric Tensor\\n\"); print(output.dielectric[1][0:10])"
   ]
  },
  {
   "cell_type": "markdown",
   "metadata": {},
   "source": [
    "That sure is a lot of numbers! As you can tell by looking at this little excerpt from the data, every energy value corresponds to 6 dielectric function data elements, i.e. the `XX YY ZZ XY XZ YZ` components of the dielectric tensor. You can even see there is a little non-diagonal part of the dielectric tensor. In order to turn this into a function, we'll average the diagonal elements (and ignore the non-diagonal part). To do this, we need our trusty pal numpy!"
   ]
  },
  {
   "cell_type": "code",
   "execution_count": 6,
   "metadata": {},
   "outputs": [],
   "source": [
    "energy = np.array(output.dielectric[0])\n",
    "diel_real = np.sum( np.array(output.dielectric[1])[:, 0:3], 1)\n",
    "diel_imag = np.sum( np.array(output.dielectric[2])[:, 0:3], 1)"
   ]
  },
  {
   "cell_type": "markdown",
   "metadata": {},
   "source": [
    "Numpy never lets you down! Now let's see if we can plot the dielectric function (Or, at least the interband part):"
   ]
  },
  {
   "cell_type": "code",
   "execution_count": 7,
   "metadata": {},
   "outputs": [
    {
     "data": {
      "image/png": "[encoded data removed]",
      "text/plain": [
       "<matplotlib.figure.Figure at 0x11430b9e8>"
      ]
     },
     "metadata": {
      "needs_background": "light"
     },
     "output_type": "display_data"
    }
   ],
   "source": [
    "fig, ax = plt.subplots()\n",
    "ax.plot(energy, diel_real)\n",
    "\n",
    "ax.set(xlabel='Energy (eV)', ylabel='$\\epsilon_1$',\n",
    "       title='The real part of the dielectric function')\n",
    "ax.grid()\n",
    "ax.set_xlim(0, 2.5)\n",
    "ax.set_ylim(-200, 800)\n",
    "plt.show()"
   ]
  },
  {
   "cell_type": "markdown",
   "metadata": {},
   "source": [
    "Not bad, not bad... *Looks at clock* AAHHHHH! I have to go to sleep. But I'll continue this later! These jupyter notebooks are pretty cool!"
   ]
  },
  {
   "cell_type": "markdown",
   "metadata": {},
   "source": [
    "## Let's go to extremes: pure Au and Pd\n",
    "\n",
    "Let's begin the real deal of our analysis by looking at the pure Au and Pd cases. The piece of code below load the dielectric function data for the vasprun.xml, the plasmon frequencies from the OUTCAR file, and averages over their respective diagonals."
   ]
  },
  {
   "cell_type": "code",
   "execution_count": 128,
   "metadata": {},
   "outputs": [],
   "source": [
    "# Some constants that will help with converting from energy to wavelength\n",
    "c = 299792458 # m/s\n",
    "h = 6.626068e-34 # m^2 kg / s\n",
    "h_eV = 4.135667662e-15 # eV s\n",
    "e = 1.6021766208e-19 # C\n",
    "\n",
    "# Patterns for parsing the OUTCAR file\n",
    "header_pattern = r\"plasma frequency squared\\s\\(from intraband transitions\\)\\s\\(eV\\^2\\)\\n\" \\\n",
    "                 r\"  --------------------------------------------------------------------------------------\\n\"\n",
    "row_pattern = r\"\\s+\".join([r\"([\\.\\-\\d]+)\"] * 3)\n",
    "footer_pattern = r\" electrical conductivity sigma \\(Mega S m-1\\) \\(frequency dependency in vasprun.xml\\)\"\n",
    "\n",
    "def load_diel_data(directory, name=None):\n",
    "\n",
    "    # Load the vasprun.xml file, in order to obtain the full frequency dependent dielectric tensor\n",
    "    vasprun = Vasprun(\n",
    "        os.path.join(directory, \"vasprun.xml\"), \n",
    "        parse_potcar_file=False\n",
    "    )\n",
    "\n",
    "    # Average over the diagonal values of the dielectric tensor\n",
    "    energy = np.array(vasprun.dielectric[0][1:])\n",
    "    inter_real = np.sum( np.array(vasprun.dielectric[1][1:])[:, 0:3], 1)\n",
    "    inter_imag = np.sum( np.array(vasprun.dielectric[2])[1:][:, 0:3], 1)\n",
    "    inter_diel = inter_real + inter_imag*1j\n",
    "    \n",
    "    # Load the OUTCAR file, in order to obtain the plasmon frequencies\n",
    "    outcar = Outcar(os.path.join(directory, \"OUTCAR\"))\n",
    "    \n",
    "    # Load the plasmon frequency tensor from the OUTCAR\n",
    "    plas_tensor = np.array(\n",
    "        outcar.read_table_pattern(header_pattern, row_pattern, footer_pattern, last_one_only=True)\n",
    "    )\n",
    "\n",
    "    # Extract diagonal and cast as float\n",
    "    plas_diag = np.diag(plas_tensor).astype(float)\n",
    "    plas_freq = (np.sum(plas_diag)/3)**(1/2)\n",
    "    \n",
    "    data_dict = dict()\n",
    "    if name is not None:\n",
    "        data_dict[\"name\"] = name\n",
    "    else:\n",
    "        data_dict[\"name\"] = \"Unnamed_dataset\"\n",
    "    data_dict[\"energy\"] = energy\n",
    "    data_dict[\"inter_diel\"] = inter_diel\n",
    "    data_dict[\"plas_freq\"] = plas_freq\n",
    "    \n",
    "    return data_dict"
   ]
  },
  {
   "cell_type": "markdown",
   "metadata": {},
   "source": [
    "Next, we want to be able to plot the dielectric function. This method will do that:"
   ]
  },
  {
   "cell_type": "code",
   "execution_count": 136,
   "metadata": {},
   "outputs": [
    {
     "data": {
      "text/plain": [
       "-1.2729276976711725e-21"
      ]
     },
     "execution_count": 136,
     "metadata": {},
     "output_type": "execute_result"
    }
   ],
   "source": []
  },
  {
   "cell_type": "code",
   "execution_count": 209,
   "metadata": {},
   "outputs": [],
   "source": [
    "def plot_diel(data, wavelength=False, diel_choice=\"total\",\n",
    "              damping=0.025, xmin=200, xmax= 1500, ymin=-20, ymax=40):\n",
    "    \n",
    "    energy = data[\"energy\"]\n",
    "    inter_diel = data[\"inter_diel\"]\n",
    "    plas_freq = data[\"plas_freq\"]\n",
    "    \n",
    "    # Set up the intraband dielectric function, using the Drude model:\n",
    "    drude_damping = damping*1j\n",
    "    intra_diel = 1 - plas_freq**2/(energy**2 + drude_damping*energy)\n",
    "\n",
    "    if diel_choice == \"total\":\n",
    "        total_diel = inter_diel + intra_diel\n",
    "    elif diel_choice == \"inter\":\n",
    "        total_diel = inter_diel\n",
    "    elif diel_choice == \"intra\":\n",
    "        total_diel = intra_diel\n",
    "    else:\n",
    "        raise IOError\n",
    "        \n",
    "    import matplotlib.pyplot as plt\n",
    "    # Plot the ...\n",
    "    f, (ax1, ax2) = plt.subplots(1, 2)\n",
    "    \n",
    "    if wavelength:\n",
    "        \n",
    "        wave = np.flip(h_eV*c/energy*1e9, 0)\n",
    "        \n",
    "        ax1.plot(wave, np.flip(total_diel.real, 0))\n",
    "        ax2.plot(wave, np.flip(total_diel.imag, 0))\n",
    "\n",
    "        ax1.set(xlabel='Wavelength (nm)', ylabel='$\\epsilon_1$',\n",
    "               title='The real part.')\n",
    "        ax2.set(xlabel='Wavelength (nm)', ylabel='$\\epsilon_2$',\n",
    "               title='The imaginary part.')\n",
    "\n",
    "        ax1.grid()\n",
    "        ax2.grid()\n",
    "\n",
    "        ax1.set_xlim(xmin, xmax)\n",
    "        ax1.set_ylim(ymin, ymax)\n",
    "        ax2.set_xlim(xmin, xmax)\n",
    "        ax2.set_ylim(ymin, ymax)\n",
    "    else:\n",
    "        ax1.plot(energy, total_diel.real)\n",
    "        ax2.plot(energy, total_diel.imag)\n",
    "\n",
    "        ax1.set(xlabel='Energy (eV)', ylabel='$\\epsilon_1$',\n",
    "               title='The real part')\n",
    "        ax2.set(xlabel='Energy (eV)', ylabel='$\\epsilon_2$',\n",
    "               title='The imaginary part')\n",
    "\n",
    "        ax1.grid()\n",
    "        ax2.grid()\n",
    "\n",
    "        ax1.set_xlim(xmin, xmax)\n",
    "        ax1.set_ylim(ymin, ymax)\n",
    "        ax2.set_xlim(xmin, xmax)\n",
    "        ax2.set_ylim(ymin, ymax)\n",
    "    \n",
    "    plt.legend([data[\"name\"],])\n",
    "    plt.subplots_adjust(wspace=0.5)\n",
    "    plt.show()"
   ]
  },
  {
   "cell_type": "markdown",
   "metadata": {},
   "source": [
    "The definitions below are just to make some `widgets` that allow us to change the plot settings interactively."
   ]
  },
  {
   "cell_type": "code",
   "execution_count": 210,
   "metadata": {},
   "outputs": [],
   "source": [
    "damping_widget = FloatText(\n",
    "    value=0.03,\n",
    "    description='Damping:',\n",
    "    disabled=False\n",
    ")\n",
    "xmin_widget = FloatText(\n",
    "    value=0,\n",
    "    description='x$_{min}$:',\n",
    "    disabled=False\n",
    ")\n",
    "xmax_widget = FloatText(\n",
    "    value=1500,\n",
    "    description='x$_{max}$:',\n",
    "    disabled=False\n",
    ")\n",
    "ymin_widget = FloatText(\n",
    "    value=-20,\n",
    "    description='y$_{min}$:',\n",
    "    disabled=False\n",
    ")\n",
    "ymax_widget = FloatText(\n",
    "    value=40,\n",
    "    description='y$_{max}$:',\n",
    "    disabled=False\n",
    ")\n",
    "\n",
    "def interactive_plot(data):\n",
    "    interact(plot_diel, data=fixed(data), wavelength=True, diel_choice=[\"total\", \"inter\", \"intra\"],\n",
    "             damping=damping_widget, xmin=xmin_widget, xmax= xmax_widget, ymin=ymin_widget, ymax=ymax_widget)"
   ]
  },
  {
   "cell_type": "markdown",
   "metadata": {},
   "source": [
    "Now let's put these methods to good use by loading the dielectric function data for gold and plotting them:"
   ]
  },
  {
   "cell_type": "code",
   "execution_count": 200,
   "metadata": {},
   "outputs": [],
   "source": [
    "gold_24k_data = load_diel_data(os.path.join(alloy_data_dir, \"Au/bulk/dftu_24k_optics\"), name=\"Au_24k\")"
   ]
  },
  {
   "cell_type": "code",
   "execution_count": 206,
   "metadata": {},
   "outputs": [
    {
     "data": {
      "text/plain": [
       "{'energy': array([3.04000e-02, 6.07000e-02, 9.11000e-02, ..., 6.06180e+01,\n",
       "        6.06484e+01, 6.06787e+01]),\n",
       " 'inter_diel': array([26.4684+0.0117j, 26.4738+0.0237j, 26.4828+0.0354j, ...,\n",
       "         1.9266+0.0054j,  1.9284+0.0054j,  1.9299+0.0054j]),\n",
       " 'name': 'Au_24k',\n",
       " 'plas_freq': 7.784022096577065}"
      ]
     },
     "execution_count": 206,
     "metadata": {},
     "output_type": "execute_result"
    }
   ],
   "source": [
    "gold_24k_data"
   ]
  },
  {
   "cell_type": "code",
   "execution_count": 207,
   "metadata": {},
   "outputs": [
    {
     "data": {
      "application/vnd.jupyter.widget-view+json": {
       "model_id": "fd2bd18bf86d4bc2ad60f246af11d2e3",
       "version_major": 2,
       "version_minor": 0
      },
      "text/plain": [
       "interactive(children=(Checkbox(value=True, description='wavelength'), Dropdown(description='diel_choice', opti…"
      ]
     },
     "metadata": {},
     "output_type": "display_data"
    }
   ],
   "source": [
    "interactive_plot(gold_24k_data)"
   ]
  },
  {
   "cell_type": "markdown",
   "metadata": {},
   "source": [
    "### Convergence: Au"
   ]
  },
  {
   "cell_type": "markdown",
   "metadata": {},
   "source": [
    "In order to check the convergence, and later also compare the various datasets for different Pd content, we'll also set up a little method to plot the dielectric function of several datasets, as well as an extended interactive version:"
   ]
  },
  {
   "cell_type": "code",
   "execution_count": 212,
   "metadata": {},
   "outputs": [],
   "source": [
    "def plot_diel_multi(datasets, wavelength=False, diel_choice=\"total\",\n",
    "                    damping=0.025, xmin=200, xmax= 1500, ymin=-20, ymax=40):\n",
    "    \n",
    "    total_diel_set = []\n",
    "    \n",
    "    for data in datasets:\n",
    "        \n",
    "        energy = data[\"energy\"]\n",
    "        inter_diel = data[\"inter_diel\"]\n",
    "        plas_freq = data[\"plas_freq\"]\n",
    "\n",
    "        # Set up the intraband dielectric function, using the Drude model:\n",
    "        drude_damping = damping*1j\n",
    "        intra_diel = 1 - plas_freq**2/(energy**2 + drude_damping*energy)\n",
    "\n",
    "        if diel_choice == \"total\":\n",
    "            total_diel = inter_diel + intra_diel\n",
    "        elif diel_choice == \"inter\":\n",
    "            total_diel = inter_diel\n",
    "        elif diel_choice == \"intra\":\n",
    "            total_diel = intra_diel\n",
    "        else:\n",
    "            raise IOError\n",
    "            \n",
    "        total_diel_set.append((energy, total_diel))\n",
    "    \n",
    "    import matplotlib.pyplot as plt\n",
    "    # Plot the \n",
    "    f, (ax1, ax2) = plt.subplots(1, 2)\n",
    "    \n",
    "    if wavelength:\n",
    "        \n",
    "        for diel_set in total_diel_set:\n",
    "            \n",
    "            wave = np.flip(h*c/diel_set[0]*1e9, 0)\n",
    "\n",
    "            ax1.plot(wave, np.flip(diel_set[1].real, 0))\n",
    "            ax2.plot(wave, np.flip(diel_set[1].imag, 0))\n",
    "\n",
    "        ax1.set(xlabel='Wavelength (nm)', ylabel='$\\epsilon_1$',\n",
    "               title='The real part.')\n",
    "        ax2.set(xlabel='Wavelength (nm)', ylabel='$\\epsilon_2$',\n",
    "               title='The imaginary part.')\n",
    "        \n",
    "    else:\n",
    "        \n",
    "        for diel_set in total_diel_set:\n",
    "            \n",
    "            ax1.plot(diel_set[0], diel_set[1].real)\n",
    "            ax2.plot(diel_set[0], diel_set[1].imag)\n",
    "\n",
    "        ax1.set(xlabel='Energy (eV)', ylabel='$\\epsilon_1$',\n",
    "               title='The real part')\n",
    "        ax2.set(xlabel='Energy (eV)', ylabel='$\\epsilon_2$',\n",
    "               title='The imaginary part')\n",
    "\n",
    "    ax1.grid()\n",
    "    ax2.grid()\n",
    "\n",
    "    ax1.set_xlim(xmin, xmax)\n",
    "    ax1.set_ylim(ymin, ymax)\n",
    "    ax2.set_xlim(xmin, xmax)\n",
    "    ax2.set_ylim(ymin, ymax)\n",
    "    \n",
    "    plt.legend([dat[\"name\"] for dat in datasets])\n",
    "    \n",
    "    plt.subplots_adjust(wspace=0.5)\n",
    "    plt.show()\n",
    "    \n",
    "    return None\n",
    "\n",
    "def interactive_multi_plot(datasets):\n",
    "    \n",
    "    interact(plot_diel_multi, datasets=fixed(datasets), wavelength=True, diel_choice=[\"total\", \"inter\", \"intra\"],\n",
    "         damping=damping_widget, xmin=xmin_widget, xmax= xmax_widget, ymin=ymin_widget, ymax=ymax_widget)"
   ]
  },
  {
   "cell_type": "markdown",
   "metadata": {},
   "source": [
    "Now we can load the data for the slightly more dense k-mesh (26x26x26 versus 24x24x24):"
   ]
  },
  {
   "cell_type": "code",
   "execution_count": 187,
   "metadata": {},
   "outputs": [],
   "source": [
    "gold_26k_data = load_diel_data(os.path.join(alloy_data_dir, \"Au/bulk/dftu_26k_optics\"), name=\"Au_26k\")\n",
    "datasets = [gold_24k_data, gold_26k_data]"
   ]
  },
  {
   "cell_type": "code",
   "execution_count": 188,
   "metadata": {
    "scrolled": false
   },
   "outputs": [
    {
     "data": {
      "application/vnd.jupyter.widget-view+json": {
       "model_id": "c695cb18cf244578a82dfd93a1a9eeba",
       "version_major": 2,
       "version_minor": 0
      },
      "text/plain": [
       "interactive(children=(Checkbox(value=True, description='wavelength'), Dropdown(description='diel_choice', opti…"
      ]
     },
     "metadata": {},
     "output_type": "display_data"
    }
   ],
   "source": [
    "interactive_multi_plot(datasets)"
   ]
  },
  {
   "cell_type": "markdown",
   "metadata": {},
   "source": [
    "You might not notice that there are two functions being drawn here. That's because the convergence is pretty good. Try zooming in a little by playing with the x and y limits. \n",
    "\n",
    "TODO's:\n",
    "\n",
    "* [ ] Add ability to tweak x and y limits seperately for the real and imaginary part. "
   ]
  },
  {
   "cell_type": "markdown",
   "metadata": {},
   "source": [
    "## Pd concentrations\n",
    "\n",
    "Now lets take a look at the change in dielectric function versus the Pd concentration. First we'll define a little utility function to load the dielectric data for the randomized structures and average it:"
   ]
  },
  {
   "cell_type": "code",
   "execution_count": 189,
   "metadata": {},
   "outputs": [],
   "source": [
    "def load_averaged_diel_data(directory, name=None):\n",
    "    \n",
    "    inter_diel_all = []\n",
    "    plas_freq_all = []\n",
    "    \n",
    "    rand_dirs = [d for d in os.listdir(os.path.join(alloy_data_dir, directory))\n",
    "                 if \"rand\" in d and os.path.isdir(os.path.join(alloy_data_dir, directory, d))]\n",
    "    \n",
    "    for d in rand_dirs:\n",
    "\n",
    "        outcar = Outcar(os.path.join(directory, d + \"/bulk/dftu_optics/OUTCAR\"))\n",
    " \n",
    "        plas_tensor = np.array(\n",
    "            outcar.read_table_pattern(header_pattern, row_pattern, footer_pattern, last_one_only=True)\n",
    "        )\n",
    "        plas_freq = (np.sum(np.diag(plas_tensor).astype(float))/3)**(1/2)\n",
    "\n",
    "        vasprun = Vasprun(\n",
    "            os.path.join(os.path.join(directory, d + \"/bulk/dftu_optics/vasprun.xml\")), \n",
    "            parse_potcar_file=False\n",
    "        )\n",
    "\n",
    "        # Average over the diagonal values of the dielectric tensor\n",
    "        energy = np.array(vasprun.dielectric[0][1:])\n",
    "        inter_real = np.sum( np.array(vasprun.dielectric[1][1:])[:, 0:3], 1)\n",
    "        inter_imag = np.sum( np.array(vasprun.dielectric[2])[1:][:, 0:3], 1)\n",
    "        inter_diel = inter_real + inter_imag*1j\n",
    "\n",
    "        inter_diel_all.append(inter_diel)\n",
    "        plas_freq_all.append(plas_freq)\n",
    "    \n",
    "    data_dict = dict()\n",
    "    \n",
    "    if name is not None:\n",
    "        data_dict[\"name\"] = name\n",
    "    else:\n",
    "        data_dict[\"name\"] = \"Unnamed_dataset\"\n",
    "        \n",
    "    try:\n",
    "        data_dict[\"energy\"] = energy\n",
    "    except UnboundLocalError:\n",
    "        if len(rand_dirs) == 0:\n",
    "            raise IOError(\"No properly named directories found in directory provided by user.\")\n",
    "        else:\n",
    "            raise UnboundLocalError(\"Unknown error raised. Contact maintainer.\")\n",
    "    \n",
    "    data_dict[\"inter_diel\"] = sum(inter_diel_all)/len(rand_dirs)\n",
    "    data_dict[\"plas_freq\"] = sum(plas_freq_all)/len(rand_dirs)\n",
    "    \n",
    "    return data_dict"
   ]
  },
  {
   "cell_type": "markdown",
   "metadata": {},
   "source": [
    "Let's now apply this function to the 5x5x5 k-mesh calculation of 18.75% Pd:"
   ]
  },
  {
   "cell_type": "code",
   "execution_count": 190,
   "metadata": {},
   "outputs": [],
   "source": [
    "Pd18_5k_data = load_averaged_diel_data(os.path.join(alloy_data_dir, \"18.75/555\"), name=\"Pd18_5k\")"
   ]
  },
  {
   "cell_type": "code",
   "execution_count": 191,
   "metadata": {},
   "outputs": [
    {
     "data": {
      "application/vnd.jupyter.widget-view+json": {
       "model_id": "9e0105b90e0741c0ace708a97f41515b",
       "version_major": 2,
       "version_minor": 0
      },
      "text/plain": [
       "interactive(children=(Checkbox(value=True, description='wavelength'), Dropdown(description='diel_choice', opti…"
      ]
     },
     "metadata": {},
     "output_type": "display_data"
    }
   ],
   "source": [
    "interactive_plot(Pd18_5k_data)"
   ]
  },
  {
   "cell_type": "markdown",
   "metadata": {},
   "source": [
    "### Pd 18.75%: Convergence\n",
    "\n",
    "Now we're ready to check the convergence of the averaged alloy dielectric function"
   ]
  },
  {
   "cell_type": "code",
   "execution_count": 192,
   "metadata": {},
   "outputs": [],
   "source": [
    "Pd18_7k_data = load_averaged_diel_data(os.path.join(alloy_data_dir, \"18.75/777\"), name=\"Pd18_7k\")\n",
    "\n",
    "datasets = [Pd18_5k_data, Pd18_7k_data]"
   ]
  },
  {
   "cell_type": "code",
   "execution_count": 193,
   "metadata": {},
   "outputs": [
    {
     "data": {
      "application/vnd.jupyter.widget-view+json": {
       "model_id": "2a6c30338aec4672b9f8b2e19689958e",
       "version_major": 2,
       "version_minor": 0
      },
      "text/plain": [
       "interactive(children=(Checkbox(value=True, description='wavelength'), Dropdown(description='diel_choice', opti…"
      ]
     },
     "metadata": {},
     "output_type": "display_data"
    }
   ],
   "source": [
    "interactive_multi_plot(datasets)"
   ]
  },
  {
   "cell_type": "markdown",
   "metadata": {},
   "source": [
    "The convergence does not look terrible, but I'd still try to increase the density of the k-point mesh a little further. We're pushing the memory of the cluster's nodes quite a bit though, so I'm not sure how much further we can go."
   ]
  },
  {
   "cell_type": "markdown",
   "metadata": {},
   "source": [
    "## Finding the middle ground: Comparing various Pd concentrations\n",
    "\n",
    "It's time to use our handy methods to compare the various Pd concentrations dielectric functions. With our new methods, it's easy to load the various data"
   ]
  },
  {
   "cell_type": "code",
   "execution_count": 194,
   "metadata": {},
   "outputs": [],
   "source": [
    "concentration_dirs = [\"6.25\", \"12.5\", \"18.75/555\", \"25\"]\n",
    "\n",
    "dataset = []\n",
    "\n",
    "for concentration_dir in concentration_dirs:\n",
    "    \n",
    "    # Load and average all random structures for that alloy\n",
    "    dataset.append(load_averaged_diel_data(os.path.join(alloy_data_dir, concentration_dir), name=concentration_dir))"
   ]
  },
  {
   "cell_type": "code",
   "execution_count": 195,
   "metadata": {},
   "outputs": [
    {
     "data": {
      "application/vnd.jupyter.widget-view+json": {
       "model_id": "7235bc9c92b94bbc8ab079f626ea9a06",
       "version_major": 2,
       "version_minor": 0
      },
      "text/plain": [
       "interactive(children=(Checkbox(value=True, description='wavelength'), Dropdown(description='diel_choice', opti…"
      ]
     },
     "metadata": {},
     "output_type": "display_data"
    }
   ],
   "source": [
    "interactive_multi_plot(dataset)"
   ]
  },
  {
   "cell_type": "code",
   "execution_count": 229,
   "metadata": {},
   "outputs": [],
   "source": [
    "def plot_abs(data, versus=\"energy\", plas_check=1, damping=0.03, diel_choice=\"total\",\n",
    "            xmin=0, xmax=5, ymin=0, ymax=2e6):\n",
    "    \n",
    "    energy = data[\"energy\"]\n",
    "    inter_diel = data[\"inter_diel\"]\n",
    "    plas_freq = data[\"plas_freq\"]\n",
    "    \n",
    "    # Set up the intraband dielectric function, using the Drude model:\n",
    "    drude_damping = damping*1j\n",
    "    intra_diel = 1 - plas_freq**2/(energy**2 + drude_damping*energy)\n",
    "\n",
    "    if diel_choice == \"total\":\n",
    "        total_diel = inter_diel + intra_diel\n",
    "    elif diel_choice == \"inter\":\n",
    "        total_diel = inter_diel\n",
    "    elif diel_choice == \"intra\":\n",
    "        total_diel = intra_diel\n",
    "    else:\n",
    "        raise IOError\n",
    "    \n",
    "    extCoeff = ((abs(total_diel) - total_diel.real)/2)**(1/2)\n",
    "    absCoeff = 4*cmath.pi*(energy*extCoeff)/(h_eV*c)/1e2 # expressed in (cm)^{-1}\n",
    "    \n",
    "    import matplotlib.pyplot as plt\n",
    "    \n",
    "    if versus == \"wavelength\":\n",
    "        \n",
    "        wave = np.flip(h_eV*c/energy*1e9, 0)\n",
    "        plt.plot(wave, np.flip(absCoeff, 0))\n",
    "        \n",
    "    else:\n",
    "        \n",
    "        plt.plot(energy, absCoeff)\n",
    "\n",
    "    plt.yscale('log')\n",
    "    plt.xlim(xmin, xmax)\n",
    "    plt.ylim(ymin, ymax)\n",
    "    plt.legend([data[\"name\"],])\n",
    "    plt.grid(True)\n",
    "    plt.show()\n",
    "    \n",
    "def interactive_abs_plot(data):\n",
    "    interact(plot_abs, data=fixed(data), versus=[\"energy\", \"wavelength\"], damping=damping_widget,\n",
    "             diel_choice=[\"total\", \"inter\", \"intra\"],\n",
    "             xmin=xmin_widget, xmax=xmax_widget, ymin=ymin_widget, ymax=ymax_widget)"
   ]
  },
  {
   "cell_type": "code",
   "execution_count": 230,
   "metadata": {},
   "outputs": [
    {
     "data": {
      "application/vnd.jupyter.widget-view+json": {
       "model_id": "dea918861d924a76957c45e70f78fea3",
       "version_major": 2,
       "version_minor": 0
      },
      "text/plain": [
       "interactive(children=(Dropdown(description='versus', options=('energy', 'wavelength'), value='energy'), IntSli…"
      ]
     },
     "metadata": {},
     "output_type": "display_data"
    }
   ],
   "source": [
    "interactive_abs_plot(dataset[0])"
   ]
  },
  {
   "cell_type": "code",
   "execution_count": null,
   "metadata": {},
   "outputs": [],
   "source": []
  },
  {
   "cell_type": "code",
   "execution_count": 235,
   "metadata": {},
   "outputs": [],
   "source": [
    "def plot_abs_multi(datasets, versus=\"wavelength\", diel_choice=\"total\",\n",
    "                    damping=0.025, xmin=200, xmax= 1500, ymin=-20, ymax=40):\n",
    "    \n",
    "    total_diel_set = []\n",
    "    \n",
    "    for data in datasets:\n",
    "        \n",
    "        energy = data[\"energy\"]\n",
    "        inter_diel = data[\"inter_diel\"]\n",
    "        plas_freq = data[\"plas_freq\"]\n",
    "\n",
    "        # Set up the intraband dielectric function, using the Drude model:\n",
    "        drude_damping = damping*1j\n",
    "        intra_diel = 1 - plas_freq**2/(energy**2 + drude_damping*energy)\n",
    "\n",
    "        if diel_choice == \"total\":\n",
    "            total_diel = inter_diel + intra_diel\n",
    "        elif diel_choice == \"inter\":\n",
    "            total_diel = inter_diel\n",
    "        elif diel_choice == \"intra\":\n",
    "            total_diel = intra_diel\n",
    "        else:\n",
    "            raise IOError\n",
    "            \n",
    "        total_diel_set.append((energy, total_diel))\n",
    "    \n",
    "    import matplotlib.pyplot as plt\n",
    "    \n",
    "    for diel_set in total_diel_set:\n",
    "        \n",
    "        extCoeff = ((abs(diel_set[1]) - diel_set[1].real)/2)**(1/2)\n",
    "        absCoeff = 4*cmath.pi*(diel_set[0]*extCoeff)/(h_eV*c)/1e2 # expressed in (cm)^{-1}\n",
    "    \n",
    "        if versus == \"wavelength\":\n",
    "            \n",
    "            wave = np.flip(h_eV*c/energy*1e9, 0)\n",
    "            plt.plot(wave, np.flip(absCoeff, 0))\n",
    "        \n",
    "        else:\n",
    "        \n",
    "            plt.plot(energy, absCoeff)\n",
    "\n",
    "    plt.yscale('log')\n",
    "    plt.xlim(xmin, xmax)\n",
    "    plt.ylim(ymin, ymax)\n",
    "    plt.legend([data[\"name\"],])\n",
    "    plt.grid(True)\n",
    "    plt.show()\n",
    "    \n",
    "    return None\n",
    "\n",
    "def interactive_multi_abs_plot(datasets):\n",
    "    \n",
    "    interact(plot_abs_multi, datasets=fixed(datasets), versus=[\"energy\", \"wavelength\"],\n",
    "             diel_choice=[\"total\", \"inter\", \"intra\"], damping=damping_widget,\n",
    "             xmin=xmin_widget, xmax= xmax_widget, ymin=ymin_widget, ymax=ymax_widget)"
   ]
  },
  {
   "cell_type": "code",
   "execution_count": 236,
   "metadata": {},
   "outputs": [
    {
     "data": {
      "application/vnd.jupyter.widget-view+json": {
       "model_id": "b702b7058a144c0088a3a58fdcca6be4",
       "version_major": 2,
       "version_minor": 0
      },
      "text/plain": [
       "interactive(children=(Dropdown(description='versus', index=1, options=('energy', 'wavelength'), value='wavelen…"
      ]
     },
     "metadata": {},
     "output_type": "display_data"
    }
   ],
   "source": [
    "interactive_multi_abs_plot(dataset)"
   ]
  },
  {
   "cell_type": "code",
   "execution_count": null,
   "metadata": {},
   "outputs": [],
   "source": []
  }
 ],
 "metadata": {
  "kernelspec": {
   "display_name": "Python 3",
   "language": "python",
   "name": "python3"
  },
  "language_info": {
   "codemirror_mode": {
    "name": "ipython",
    "version": 3
   },
   "file_extension": ".py",
   "mimetype": "text/x-python",
   "name": "python",
   "nbconvert_exporter": "python",
   "pygments_lexer": "ipython3",
   "version": "3.6.2"
  }
 },
 "nbformat": 4,
 "nbformat_minor": 2
}
