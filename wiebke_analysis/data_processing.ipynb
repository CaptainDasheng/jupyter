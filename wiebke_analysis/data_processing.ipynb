{
 "cells": [
  {
   "cell_type": "markdown",
   "metadata": {},
   "source": [
    "# Gold-Palladium Dielectric Function Analysis\n",
    "\n",
    "<style>\n",
    ".nbviewer div.output_area {\n",
    "  overflow-y: auto;\n",
    "  max-height: 500px; /* or value of your choosing */\n",
    "}\n",
    "</style>\n",
    "\n",
    "Hey Wiebke! I figured it'd be nice to actually use one of these Jupyter notebooks to do the entire data processing of the dielectric function of the AuPd alloys. This way you can see the whole thing, and comment where needed. And, I must admit, I'm a little giddy about starting these Jupyter notebooks a.t.m. :)\n",
    "\n",
    "Let me start by describing the process that I followed to set up the calculations. As the DFT software package that I use only allows for periodic structures, I have tried to simulate the random positions of the Au-Pd alloy by generating a bunch of randomized structures. I actually wrote a little Python method for this:\n",
    "\n",
    "```python\n",
    "\n",
    "import os\n",
    "from numpy.random import choice\n",
    "from pymatgen.core import Structure\n",
    "\n",
    "def generate_alloy(root_structure_file, alloy_element, mixing_ratio,\n",
    "                   number_random):\n",
    "    \"\"\"\n",
    "\n",
    "    Args:\n",
    "        root_structure:\n",
    "        alloy_element:\n",
    "        mixing_ratio:\n",
    "        number_random:\n",
    "\n",
    "    Returns:\n",
    "\n",
    "    \"\"\"\n",
    "\n",
    "    alloy = Structure.from_file(root_structure_file)\n",
    "\n",
    "    random_list = []\n",
    "\n",
    "    # Make a list of random combinations of site indices\n",
    "    while len(random_list) < number_random:\n",
    "\n",
    "        random_indices = list(choice(\n",
    "            list(range(len(alloy))), round(len(alloy) * mixing_ratio), False\n",
    "        ))\n",
    "\n",
    "        if random_indices not in random_list:\n",
    "            random_list.append(random_indices)\n",
    "\n",
    "    # Get the current working directory\n",
    "    directory = os.getcwd()\n",
    "\n",
    "    # Set up the list of random structures\n",
    "    for i, index_list in zip(range(len(random_list)), random_list):\n",
    "\n",
    "        random_structure = alloy.copy()\n",
    "\n",
    "        for site_index in index_list:\n",
    "            random_structure.replace(site_index, alloy_element)\n",
    "\n",
    "        filename = os.path.basename(root_structure_file).strip(\n",
    "            \".json\").strip(\".cif\") + \"_rand\" + str(i) + \".cif\"\n",
    "\n",
    "        random_structure.sort()\n",
    "        random_structure.to(\n",
    "            fmt=\"cif\", filename=os.path.join(directory, filename)\n",
    "        )\n",
    "```\n",
    "\n",
    "Please don't judge my lazy docstring. :P Basically, I give this script a supercell of Au, make Pd the `alloy_element`, and generate 10 (`number_random`) random structures for each %Pd (`mixing_ratio`). For each of these structures, I calculate the optical properties using DFT.\n",
    "\n",
    "So far, I've just added an example output file (`test_diel.xml`) to the github repo to try and load it into this jupyter notebook. First step is to load the Vasprun object, that allows me to load the VASP output file that contains the dielectric function data."
   ]
  },
  {
   "cell_type": "code",
   "execution_count": 1,
   "metadata": {},
   "outputs": [],
   "source": [
    "from pymatgen.io.vasp.outputs import Vasprun"
   ]
  },
  {
   "cell_type": "markdown",
   "metadata": {},
   "source": [
    "Pymatgen is an amazing python package with a lot of useful tools for material science. I've not tried ASE, but I'd be surprised if it has more to offer than pymatgen! Now, let's see if we can load the example .xml file:"
   ]
  },
  {
   "cell_type": "code",
   "execution_count": 2,
   "metadata": {},
   "outputs": [
    {
     "name": "stderr",
     "output_type": "stream",
     "text": [
      "/Users/mbercx/Dropbox/python/envs/pymatgen/lib/python3.6/site-packages/pymatgen/io/vasp/outputs.py:877: UserWarning: No POTCAR file with matching TITEL fields was found in /Users/mbercx/Dropbox/python/jupyter/wiebke_analysis\n",
      "  \" was found in {}\".format(os.path.abspath(p)))\n"
     ]
    }
   ],
   "source": [
    "output = Vasprun(\"test_diel.xml\")"
   ]
  },
  {
   "cell_type": "markdown",
   "metadata": {},
   "source": [
    "[Ew!](https://www.youtube.com/watch?v=FSNasZ5W_8A) A warning. All that red on my screen is making me sad. Let me see if I can fix this..."
   ]
  },
  {
   "cell_type": "code",
   "execution_count": 3,
   "metadata": {},
   "outputs": [],
   "source": [
    "output = Vasprun(\"test_diel.xml\", parse_potcar_file=False)"
   ]
  },
  {
   "cell_type": "markdown",
   "metadata": {},
   "source": [
    "Much better! Now, let's see if we can get some dielectric function data from this baby."
   ]
  },
  {
   "cell_type": "code",
   "execution_count": 4,
   "metadata": {},
   "outputs": [
    {
     "name": "stdout",
     "output_type": "stream",
     "text": [
      "\n",
      "Energies\n",
      "\n",
      "[0.0, 0.0301, 0.0603, 0.0904, 0.1205, 0.1506, 0.1808, 0.2109, 0.241, 0.2712]\n",
      "\n",
      "Dielectric Tensor\n",
      "\n",
      "[[277.1177, 268.8355, 277.9747, -15.3716, 0.0, 0.0], [274.1432, 266.1223, 274.5375, -12.903, 0.0, 0.0], [265.3816, 258.121, 264.425, -7.5609, 0.0, 0.0], [251.3046, 245.2361, 248.2168, -2.4342, 0.0, 0.0], [232.6511, 228.1035, 226.8204, 1.2368, 0.0, 0.0], [210.3641, 207.5389, 201.392, 3.4867, 0.0, 0.0], [185.5119, 184.4739, 173.2386, 4.6793, 0.0, 0.0], [159.2048, 159.8869, 143.7137, 5.1537, 0.0, 0.0], [132.5155, 134.7361, 114.1175, 5.1619, 0.0, 0.0], [106.4112, 109.9013, 85.6117, 4.8805, 0.0, 0.0]]\n"
     ]
    }
   ],
   "source": [
    "print(\"\\nEnergies\\n\"); print(output.dielectric[0][0:10])\n",
    "print(\"\\nDielectric Tensor\\n\"); print(output.dielectric[1][0:10])"
   ]
  },
  {
   "cell_type": "markdown",
   "metadata": {},
   "source": [
    "That sure is a lot of numbers! As you can tell by looking at  every energy value corresponds to 6 dielectric function data elements, i.e. the `XX YY ZZ XY XZ YZ` components of the dielectric tensor. You can even see there is a little non-diagonal part of the dielectric tensor. In order to turn this into a function, we'll average the diagonal elements (and ignore the non-diagonal part). To do this, we need our trusty pal numpy!"
   ]
  },
  {
   "cell_type": "code",
   "execution_count": 5,
   "metadata": {},
   "outputs": [],
   "source": [
    "import numpy as np\n",
    "energy = np.array(output.dielectric[0])\n",
    "diel_real = np.sum( np.array(output.dielectric[1])[:, 0:3], 1)\n",
    "diel_imag = np.sum( np.array(output.dielectric[2])[:, 0:3], 1)"
   ]
  },
  {
   "cell_type": "markdown",
   "metadata": {},
   "source": [
    "Numpy never lets you down! Now let's see if we can plot the dielectric function (Or, at least the interband part):"
   ]
  },
  {
   "cell_type": "code",
   "execution_count": 6,
   "metadata": {},
   "outputs": [
    {
     "data": {
      "text/plain": [
       "<matplotlib.figure.Figure at 0x113fb80b8>"
      ]
     },
     "metadata": {},
     "output_type": "display_data"
    }
   ],
   "source": [
    "import matplotlib.pyplot as plt\n",
    "fig, ax = plt.subplots()\n",
    "ax.plot(energy, diel_real)\n",
    "\n",
    "ax.set(xlabel='Energy (eV)', ylabel='$\\epsilon_1$',\n",
    "       title='The real part of the dielectric function')\n",
    "ax.grid()\n",
    "ax.set_xlim(0, 2.5)\n",
    "ax.set_ylim(-200, 800)\n",
    "plt.show()"
   ]
  },
  {
   "cell_type": "markdown",
   "metadata": {},
   "source": [
    "Not bad, not bad... *Looks at clock* AAHHHHH! I have to go to sleep. But I'll continue this later! These jupyter notebooks are pretty cool!"
   ]
  }
 ],
 "metadata": {
  "kernelspec": {
   "display_name": "Python 3",
   "language": "python",
   "name": "python3"
  },
  "language_info": {
   "codemirror_mode": {
    "name": "ipython",
    "version": 3
   },
   "file_extension": ".py",
   "mimetype": "text/x-python",
   "name": "python",
   "nbconvert_exporter": "python",
   "pygments_lexer": "ipython3",
   "version": "3.6.2"
  }
 },
 "nbformat": 4,
 "nbformat_minor": 2
}
