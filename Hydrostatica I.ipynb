{
 "cells": [
  {
   "cell_type": "code",
   "execution_count": 17,
   "metadata": {},
   "outputs": [],
   "source": [
    "# Constants\n",
    "\n",
    "g = 9.81 # m s^{-2}\n",
    "sn_g = 3 # Number of significant numbers\n",
    "p_0 = 1.013e5 # Pa\n",
    "sn_p_0 = 4 # Number of significant numbers\n",
    "\n",
    "# SO plagiarism\n",
    "\n",
    "import numpy as np\n",
    "\n",
    "def float_nsf(q,n):\n",
    "    \"\"\"\n",
    "    Truncate a float to n significant figures.  May produce overflow in \n",
    "    very last decimal place when q < 1.  This can be removed by an extra \n",
    "    formatted print. \n",
    "    Arguments:\n",
    "      q : a float\n",
    "      n : desired number of significant figures\n",
    "    Returns:\n",
    "    Float with only n s.f. and trailing zeros, but with a possible small overflow.\n",
    "    \"\"\"\n",
    "    sgn = np.sign(q)\n",
    "    q = abs(q)\n",
    "    \n",
    "    if q < 1. :\n",
    "        order = -int(np.ceil(abs(np.log10(q))))\n",
    "    else:\n",
    "        order = int(np.ceil(abs(np.log10(q)))) - 1\n",
    "        \n",
    "    val = q/(10**order)\n",
    "    \n",
    "    if q < 1.:\n",
    "        return sgn*round(val, n - 1)*10.**order\n",
    "    else:\n",
    "        return sgn*round(val, n)*10.**order\n",
    "\n",
    "def float_sn(q,n):\n",
    "    \"\"\"\n",
    "    Write a float in its scientific notation with a specified number \n",
    "    of significant numbers. \n",
    "    \n",
    "    Arguments:\n",
    "      q : a float\n",
    "      n : desired number of significant figures\n",
    "    Returns:\n",
    "    Float with only n s.f. and trailing zeros, but with a possible small overflow.\n",
    "    \"\"\"\n",
    "    sgn = np.sign(q)\n",
    "    q = abs(q)\n",
    "    format = \"{0:.\" + str(n-1) + \"f}\"\n",
    "    \n",
    "    if q == 0:\n",
    "        return str.format(format, sgn*round(q, n))\n",
    "    elif q < 1. :\n",
    "        order = -int(np.ceil(abs(np.log10(q))))\n",
    "    elif q == 1:\n",
    "        return str.format(format, sgn*round(q, n))\n",
    "    else:\n",
    "        order = int(np.ceil(abs(np.log10(q)))) - 1\n",
    "        \n",
    "    val = q/(10**order)\n",
    "    \n",
    "    if q < 1.:\n",
    "        if order == 0:\n",
    "            return str.format(format, sgn*round(val, n - 1))\n",
    "        else:\n",
    "            return str.format(format, sgn*round(val, n - 1)) + \" $\\cdot 10^{\" + str(order) + \"}$\"\n",
    "    else:\n",
    "        if order == 0:\n",
    "            return str.format(format, sgn*round(val, n)) \n",
    "        else:\n",
    "            return str.format(format, sgn*round(val, n)) + \" $\\cdot 10^{\" + str(order) + \"}$\""
   ]
  },
  {
   "cell_type": "markdown",
   "metadata": {},
   "source": [
    "# Hydrostatica I"
   ]
  },
  {
   "cell_type": "markdown",
   "metadata": {},
   "source": [
    "## Oefening 1"
   ]
  },
  {
   "cell_type": "code",
   "execution_count": 18,
   "metadata": {},
   "outputs": [],
   "source": [
    "# Input variables\n",
    "\n",
    "d = 300 # m\n",
    "sn_d = 3 # Number of significant numbers\n",
    "\n",
    "rho_zeewater = 1030 # kg m^{-3}\n",
    "sn_rho_zeewater = 4 # Number of significant numbers"
   ]
  },
  {
   "cell_type": "markdown",
   "metadata": {
    "variables": {
     "float_sn(d, sn_d)": "3.00 $\\cdot 10^{2}$",
     "float_sn(rho_zeewater, sn_rho_zeewater)": "1.030 $\\cdot 10^{3}$"
    }
   },
   "source": [
    "Een duikboot bevindt zich op een diepte van {{float_sn(d, sn_d)}} m. Wat is de druk op deze diepte? ($\\rho_{zeewater}$ = {{float_sn(rho_zeewater, sn_rho_zeewater)}} kg/m$^3$)"
   ]
  },
  {
   "cell_type": "code",
   "execution_count": 19,
   "metadata": {},
   "outputs": [],
   "source": [
    "p = p_0 + rho_zeewater * g * d\n",
    "sn_p = min(sn_p_0, sn_rho_zeewater, sn_g, sn_d)"
   ]
  },
  {
   "cell_type": "markdown",
   "metadata": {
    "variables": {
     "float_sn(p, sn_p)": "3.13 $\\cdot 10^{6}$"
    }
   },
   "source": [
    "De druk op deze diepte is {{float_sn(p, sn_p)}} Pa."
   ]
  },
  {
   "cell_type": "markdown",
   "metadata": {},
   "source": [
    "## Oefening 2"
   ]
  },
  {
   "cell_type": "code",
   "execution_count": 20,
   "metadata": {},
   "outputs": [],
   "source": [
    "# Input variables\n",
    "\n",
    "F_kz = 30 # N\n",
    "sn_F_kz = 3 # Number of significant numbers\n",
    "\n",
    "A_kz = 5# cm^2\n",
    "sn_A_kz = 2 # Number of significant numbers\n",
    "\n",
    "A_gz = 120# cm^2\n",
    "sn_A_gz = 2 # Number of significant numbers"
   ]
  },
  {
   "cell_type": "markdown",
   "metadata": {
    "variables": {
     "float_sn(A_gz, sn_A_gz)": "1.2 $\\cdot 10^{2}$",
     "float_sn(A_kz, sn_A_kz)": "5.0",
     "float_sn(F_kz, sn_F_kz)": "3.00 $\\cdot 10^{1}$"
    }
   },
   "source": [
    "Op de kleine zuiger van een cilindrische hydraulische pers oefen je een kracht van {{float_sn(F_kz, sn_F_kz)}} N uit. De kleine zuiger heeft een oppervlakte van {{float_sn(A_kz, sn_A_kz)}} cm$^2$, de grote zuiger een oppervlakte van {{float_sn(A_gz, sn_A_gz)}} cm$^2$ . Bereken de grootte van de kracht op de grote zuiger."
   ]
  },
  {
   "cell_type": "code",
   "execution_count": 21,
   "metadata": {},
   "outputs": [
    {
     "name": "stdout",
     "output_type": "stream",
     "text": [
      "F_gz = 720.0\n"
     ]
    }
   ],
   "source": [
    "F_gz = A_gz/A_kz*F_kz\n",
    "sn_F_gz = min(sn_F_kz, sn_A_kz, sn_A_gz)\n",
    "print(\"F_gz = \" + str(F_gz))"
   ]
  },
  {
   "cell_type": "markdown",
   "metadata": {
    "variables": {
     "float_sn(F_gz, sn_F_gz)": "7.2 $\\cdot 10^{2}$"
    }
   },
   "source": [
    "De kracht op de grote zuiger is {{float_sn(F_gz, sn_F_gz)}} N."
   ]
  },
  {
   "cell_type": "markdown",
   "metadata": {},
   "source": [
    "## Oefening 3"
   ]
  },
  {
   "cell_type": "code",
   "execution_count": 22,
   "metadata": {},
   "outputs": [],
   "source": [
    "# Input variables\n",
    "\n",
    "rho_water = 1000 # kg m^{-3}\n",
    "sn_rho_water = 3 # Number of significant numbers\n",
    "\n",
    "rho_olie = 898 # kg m^{-3}\n",
    "sn_rho_olie = 3 # Number of significant numbers\n",
    "\n",
    "d_1 = 12 # cm\n",
    "sn_d_1 = 2 # Number of significant numbers\n",
    "\n",
    "d_2 = 6 # cm\n",
    "sn_d_2 = 1 # Number of significant numbers"
   ]
  },
  {
   "cell_type": "markdown",
   "metadata": {
    "variables": {
     "float_sn(rho_olie, sn_rho_olie)": "8.98 $\\cdot 10^{2}$",
     "float_sn(rho_water, sn_rho_water)": "10.00 $\\cdot 10^{2}$"
    }
   },
   "source": [
    "Water ($\\rho_{water}$ = {{float_sn(rho_water, sn_rho_water)}} kg/m$^3$) en olie ($\\rho_{olie}$ = {{float_sn(rho_olie, sn_rho_olie)}}  kg/m$^3$) bevinden zich in een U-vormige buis. De buis is open aan de uiteinden. De vloeistoffen komen tot evenwicht zoals getoond in de figuur. Wat is de hoogte $h$?\n"
   ]
  },
  {
   "cell_type": "code",
   "execution_count": 23,
   "metadata": {},
   "outputs": [],
   "source": [
    "h = rho_water / rho_olie * (d_2 + d_1) - d_1\n",
    "sn_h = min(sn_rho_water, sn_rho_olie, sn_d_2, sn_d_1)"
   ]
  },
  {
   "cell_type": "markdown",
   "metadata": {
    "variables": {
     "float_sn(h, sn_h)": "8"
    }
   },
   "source": [
    "De hoogte h = {{float_sn(h, sn_h)}} cm."
   ]
  },
  {
   "cell_type": "markdown",
   "metadata": {},
   "source": [
    "## Oefening 4"
   ]
  },
  {
   "cell_type": "code",
   "execution_count": 24,
   "metadata": {},
   "outputs": [],
   "source": [
    "d_1 = 2 # m\n",
    "sn_d_1 = 2 # Number of significant numbers\n",
    "\n",
    "d_2 = 4 # m\n",
    "sn_d_2 = 2 # Number of significant numbers\n",
    "\n",
    "d_3 = 6 # m\n",
    "sn_d_3 = 2 # Number of significant numbers\n",
    "\n",
    "m_C = 10 # m\n",
    "sn_m_C = 2 # Number of significant numbers"
   ]
  },
  {
   "cell_type": "code",
   "execution_count": 25,
   "metadata": {},
   "outputs": [],
   "source": [
    "m_B = d_2**2 / d_1**2 * m_C\n",
    "sn_m_B = min(sn_d_2, sn_d_1, sn_m_C)\n",
    "\n",
    "m_A = d_3**2 / d_1**2 * m_C\n",
    "sn_m_A = min(sn_d_3, sn_d_1, sn_m_C)"
   ]
  },
  {
   "cell_type": "markdown",
   "metadata": {
    "variables": {
     "float_sn(m_A, sn_m_A)": "9.0 $\\cdot 10^{1}$",
     "float_sn(m_B, sn_m_B)": "4.0 $\\cdot 10^{1}$"
    }
   },
   "source": [
    "De eerste massa is $m_A = $ {{float_sn(m_A, sn_m_A)}} kg. De tweede massa is $m_B = $ {{float_sn(m_B, sn_m_B)}} kg."
   ]
  },
  {
   "cell_type": "markdown",
   "metadata": {},
   "source": [
    "## Oefening 5"
   ]
  },
  {
   "cell_type": "code",
   "execution_count": 45,
   "metadata": {},
   "outputs": [],
   "source": [
    "h_1 = 91 # cm\n",
    "sn_h_1 = 2 # Number of significant numbers\n",
    "\n",
    "h_2 = 15 # cm\n",
    "sn_h_2 = 2 # Number of significant numbers\n",
    "\n",
    "h_3 = 31 # cm\n",
    "sn_h_3 = 2 # Number of significant numbers\n",
    "\n",
    "rho_kwik = 13546 # kg m^{-3}\n",
    "sn_rho_kwik = 5 # Number of significant numbers\n",
    "\n",
    "rho_olie = 900 # kg m^{-3}\n",
    "sn_rho_olie = 3 # Number of significant numbers"
   ]
  },
  {
   "cell_type": "markdown",
   "metadata": {
    "variables": {
     "float_sn(rho_kwik, sn_rho_kwik)": "1.3546 $\\cdot 10^{4}$",
     "float_sn(rho_olie, sn_rho_olie)": "9.00 $\\cdot 10^{2}$",
     "h_1": "91",
     "h_2": "15",
     "h_3": "31"
    }
   },
   "source": [
    "Een gesloten tank bevat lucht en olie ($\\rho_{olie}$ = {{float_sn(rho_olie, sn_rho_olie)}} kg/m$^3$). Een U-vormige manometer gebruikt kwik ($\\rho_{Hg}$ = {{float_sn(rho_kwik, sn_rho_kwik)}} kg/m$^3$) en is verbonden aan de tank. De hoogtes in de figuur zijn $h_1 =$ {{h_1}} cm, $h_2$ = {{h_2}} cm en $h_3$ = {{h_3}} cm. \n",
    "a) Bereken de luchtdruk in de tank. b) Wat is de druk in de tank aan de aansluiting van de manometer (i.e. op diepte $h_1$)? Wat is de druk in het kwik op dezelfde hoogte?"
   ]
  },
  {
   "cell_type": "code",
   "execution_count": 46,
   "metadata": {},
   "outputs": [
    {
     "data": {
      "text/plain": [
       "133136.00060000003"
      ]
     },
     "execution_count": 46,
     "metadata": {},
     "output_type": "execute_result"
    }
   ],
   "source": [
    "# Omzetten naar m\n",
    "h_1 = h_1 / 100 # m\n",
    "h_2 = h_2 / 100 # m\n",
    "h_3 = h_3 / 100 # m\n",
    "\n",
    "p = p_0 + rho_kwik * g * h_3 - rho_olie * g * (h_1 + h_2)\n",
    "sn_p = min(sn_p_0, sn_rho_kwik, sn_g, sn_h_3, sn_rho_olie, sn_h_1, sn_h_2)\n",
    "p"
   ]
  },
  {
   "cell_type": "markdown",
   "metadata": {
    "variables": {
     "float_sn(p, sn_p)": "1.3 $\\cdot 10^{5}$"
    }
   },
   "source": [
    "De luchtdruk in de tank is {{float_sn(p, sn_p)}} Pa."
   ]
  },
  {
   "cell_type": "code",
   "execution_count": 51,
   "metadata": {},
   "outputs": [
    {
     "data": {
      "text/plain": [
       "122561.8016"
      ]
     },
     "execution_count": 51,
     "metadata": {},
     "output_type": "execute_result"
    }
   ],
   "source": [
    "p_m = p + rho_olie * g * h_1\n",
    "sn_p_m = min(sn_p, sn_rho_olie, sn_g, sn_h_1)\n",
    "\n",
    "p_m_hg = p_0 + rho_kwik * g * (h_3 - h_2)\n",
    "sn_p_m_hg = min(sn_p_0, sn_rho_kwik, sn_g, sn_h_3, sn_h_1)\n",
    "p_m_hg"
   ]
  },
  {
   "cell_type": "markdown",
   "metadata": {
    "variables": {
     "float_sn(p_m, sn_p_m)": "1.4 $\\cdot 10^{5}$",
     "float_sn(p_m_hg, sn_p_m_hg)": "1.2 $\\cdot 10^{5}$"
    }
   },
   "source": [
    "De druk aan de manometer is {{float_sn(p_m, sn_p_m)}} Pa in de tank en {{float_sn(p_m_hg, sn_p_m_hg)}} Pa in het kwik."
   ]
  },
  {
   "cell_type": "markdown",
   "metadata": {},
   "source": [
    "## Oefening 6"
   ]
  },
  {
   "cell_type": "code",
   "execution_count": 29,
   "metadata": {},
   "outputs": [],
   "source": [
    "m_L = 600 # kg\n",
    "sn_m_L = 3 # Number of significant numbers\n",
    "\n",
    "A_L = 800 # cm^2\n",
    "sn_A_L = 3 # Number of significant numbers\n",
    "\n",
    "A_S = 25 # cm^2\n",
    "sn_A_S = 2 # Number of significant numbers\n",
    "\n",
    "rho_olie = 0.78 # g cm^{-3}\n",
    "sn_rho_olie = 2 # Number of significant numbers\n",
    "\n",
    "h = 8 # m\n",
    "sn_h = 2 # Number of significant numbers"
   ]
  },
  {
   "cell_type": "markdown",
   "metadata": {
    "variables": {
     "float_sn(rho_olie, sn_rho_olie)": "7.8 $\\cdot 10^{-1}$"
    }
   },
   "source": [
    "De schijf in de linkse cilinder heeft een massa, op punt $L$,  van 600 kg en een doorsnede van 800 cm$^2$. De zuiger rechts, op punt S, heeft een doorsnede van 25 cm$^2$, een verwaarloosbare massa en een hoogte $h = 8.0$ m t.o.v. punt $L$. Wanneer het systeem gevuld is met olie ($\\rho_{olie}$ = {{float_sn(rho_olie, sn_rho_olie)}} g/cm$^3$), wat is dan de kracht $F$ die nodig is om het systeem in evenwicht te houden?"
   ]
  },
  {
   "cell_type": "code",
   "execution_count": 30,
   "metadata": {},
   "outputs": [],
   "source": [
    "# Omzetten naar de standaard eenheden\n",
    "\n",
    "A_L /= 1e4 # m^2\n",
    "A_S /= 1e4 # m^2\n",
    "rho_olie *= 1e3 # kg m^3\n",
    "\n",
    "# Berekening kracht\n",
    "\n",
    "F_S = A_S * g * (m_L/A_L - rho_olie * h)\n",
    "sn_F_S = min(sn_A_S, sn_g, sn_m_L, sn_A_L, sn_rho_olie, sn_h)"
   ]
  },
  {
   "cell_type": "markdown",
   "metadata": {
    "variables": {
     "float_sn(F_S, sn_F_S)": "3.1 $\\cdot 10^{1}$"
    }
   },
   "source": [
    "De kracht nodig om het systeem in evenwicht te houden is {{float_sn(F_S, sn_F_S)}} N."
   ]
  },
  {
   "cell_type": "markdown",
   "metadata": {},
   "source": [
    "## Oefening 7"
   ]
  },
  {
   "cell_type": "code",
   "execution_count": 31,
   "metadata": {},
   "outputs": [],
   "source": [
    "a = 1 # m s^{-2}\n",
    "sn_a = 2 # Number of significant numbers\n",
    "\n",
    "h = 20 # cm\n",
    "sn_h = 2 # Number of significant numbers\n",
    "\n",
    "rho_kwik = 13546 # kg m^{-3}\n",
    "sn_rho_kwik = 5 # Number of significant numbers"
   ]
  },
  {
   "cell_type": "markdown",
   "metadata": {
    "variables": {
     "float_sn(a, sn_a)": "1.0",
     "h": "20"
    }
   },
   "source": [
    "Je staat in een lift die naar boven aan het versnellen is met {{float_sn(a, sn_a)}} m/s$^2$. In de lift staat een gevulde emmer kwik met hoogte $h=$ {{h}} cm.  Wat is de overdruk op de bodem van de emmer t.o.v. de luchtdruk in de lift?"
   ]
  },
  {
   "cell_type": "code",
   "execution_count": 32,
   "metadata": {},
   "outputs": [],
   "source": [
    "# Omzetten eenheden\n",
    "h /= 1e2 # m\n",
    "\n",
    "# Berekenen druk\n",
    "p = rho_kwik * (g + a) * h\n",
    "sn_p = min(sn_rho_kwik, sn_g, sn_a, sn_h)"
   ]
  },
  {
   "cell_type": "markdown",
   "metadata": {
    "variables": {
     "float_sn(p, sn_p)": "2.9 $\\cdot 10^{4}$"
    }
   },
   "source": [
    "De overdruk op de bodem van de emmer is {{float_sn(p, sn_p)}} Pa."
   ]
  },
  {
   "cell_type": "code",
   "execution_count": null,
   "metadata": {},
   "outputs": [],
   "source": []
  },
  {
   "cell_type": "code",
   "execution_count": null,
   "metadata": {},
   "outputs": [],
   "source": []
  },
  {
   "cell_type": "code",
   "execution_count": null,
   "metadata": {},
   "outputs": [],
   "source": []
  }
 ],
 "metadata": {
  "kernelspec": {
   "display_name": "Python 3",
   "language": "python",
   "name": "python3"
  },
  "language_info": {
   "codemirror_mode": {
    "name": "ipython",
    "version": 3
   },
   "file_extension": ".py",
   "mimetype": "text/x-python",
   "name": "python",
   "nbconvert_exporter": "python",
   "pygments_lexer": "ipython3",
   "version": "3.6.2"
  }
 },
 "nbformat": 4,
 "nbformat_minor": 2
}
