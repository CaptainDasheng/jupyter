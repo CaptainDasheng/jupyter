{
 "cells": [
  {
   "cell_type": "markdown",
   "metadata": {},
   "source": [
    "# Kinematica 3 - Oefeningen\n",
    "## Oefening 1\n",
    "\n",
    "Tijdens het centrifugeren/roteren van een wasmachine aan $1.2 \\cdot 10^3$ omwentelingen per minuut, bevinden de kleren zich aan de buitenwand van de buis. De buis heeft een straal van $26$ cm. Bepaal (a) de snelheid in m/s en (b) de versnelling van de kleren.\n",
    "\n",
    "### Oplossing\n",
    "\n",
    "Laten we eerst de gegevens in Octave plaatsen, en omzetten naar de juiste eenheden:"
   ]
  },
  {
   "cell_type": "code",
   "execution_count": 1,
   "metadata": {},
   "outputs": [],
   "source": [
    "f = 1200/60; % Hz ~ s^{-1}\n",
    "R = 26e-2; % m"
   ]
  },
  {
   "cell_type": "markdown",
   "metadata": {},
   "source": [
    "(a) De snelheid kan gevonden worden met de formule:\n",
    "$$\n",
    "v = \\frac{2 \\pi R}{T} = 2\\pi R f\n",
    "$$\n",
    "    \n",
    "Met als resultaat:"
   ]
  },
  {
   "cell_type": "code",
   "execution_count": 2,
   "metadata": {},
   "outputs": [
    {
     "name": "stdout",
     "output_type": "stream",
     "text": [
      "v =  32.673\n"
     ]
    }
   ],
   "source": [
    "v = 2*pi*R*f"
   ]
  },
  {
   "cell_type": "markdown",
   "metadata": {},
   "source": [
    "(b) De versnelling kan gevonden met de formule:\n",
    "$$\n",
    "a = \\frac{v^2}{R}\n",
    "$$\n",
    "\n",
    "De versnelling is dan:"
   ]
  },
  {
   "cell_type": "code",
   "execution_count": 3,
   "metadata": {},
   "outputs": [
    {
     "name": "stdout",
     "output_type": "stream",
     "text": [
      "a =  4105.8\n"
     ]
    }
   ],
   "source": [
    "a = v^2/R"
   ]
  },
  {
   "cell_type": "markdown",
   "metadata": {},
   "source": [
    "## Oefening 2\n",
    "\n",
    "Voordat hij Goliath versloeg, experimenteerde David met verschillende slingers. Hij vond dat hij een slinger met lengte 0.600 m acht keer per seconde kon ronddraaien, en een slinger van 0.900 m zes keer per seconde. Met welke slinger kon David snellere stenen afschieten?\n",
    "\n",
    "### Oplossing"
   ]
  },
  {
   "cell_type": "markdown",
   "metadata": {},
   "source": [
    "Laten we eerst de gegeven in Octave plaatsen. De lengte van de slinger komt overeen met de straal, het aantal rotaties per seconde met de frequentie:"
   ]
  },
  {
   "cell_type": "code",
   "execution_count": 4,
   "metadata": {},
   "outputs": [],
   "source": [
    "R_1 = 0.6; % m\n",
    "R_2 = 0.9; % m\n",
    "f_1 = 8; % Hz ~ s^{-1}\n",
    "f_2 = 6; % Hz ~ s^{-1}"
   ]
  },
  {
   "cell_type": "markdown",
   "metadata": {},
   "source": [
    "Om te vinden hoe snel de stenen kunnen afgeschoten worden, gebruiken we de volgende formule:\n",
    "$$\n",
    "v = \\frac{2 \\pi R}{T} = 2\\pi R f\n",
    "$$\n",
    "Als we de snelheid berekenen voor beide slingers, vinden we:"
   ]
  },
  {
   "cell_type": "code",
   "execution_count": 5,
   "metadata": {},
   "outputs": [
    {
     "name": "stdout",
     "output_type": "stream",
     "text": [
      "v_1 =  30.159\n",
      "v_2 =  33.929\n"
     ]
    }
   ],
   "source": [
    "v_1 = 2*pi*R_1*f_1\n",
    "v_2 = 2*pi*R_2*f_2"
   ]
  },
  {
   "cell_type": "markdown",
   "metadata": {},
   "source": [
    "De slinger met de hogere snelheid is uiteraard de betere."
   ]
  },
  {
   "cell_type": "markdown",
   "metadata": {},
   "source": [
    "## Oefening 3\n",
    "\n",
    "Een paardenmolen met diameter 5.5 m draait initieel met een periode van 4.5 s. Daarna vertraagt de paardenmolen en stopt uiteindelijk in 19 s. Wat is de snelheid van een kind op de rand voordat de paardenmolen vertraagt?\n",
    "\n",
    "### Oplossing\n",
    "\n",
    "Laten we eerst de gegeven in Octave plaatsen. Let dat de diameter gegeven wordt, en dat de tijd die de paardemolen om te stoppen overbodige tijd is:"
   ]
  },
  {
   "cell_type": "code",
   "execution_count": 6,
   "metadata": {},
   "outputs": [],
   "source": [
    "R = 5.5 / 2; % m\n",
    "T = 4.5; % s"
   ]
  },
  {
   "cell_type": "markdown",
   "metadata": {},
   "source": [
    "De snelheid kan gevonden worden met de standaard formule:\n",
    "$$\n",
    "v = \\frac{2 \\pi R}{T}\n",
    "$$\n",
    "Invullen van de gegevens levert:"
   ]
  },
  {
   "cell_type": "code",
   "execution_count": 7,
   "metadata": {},
   "outputs": [
    {
     "name": "stdout",
     "output_type": "stream",
     "text": [
      "v =  3.8397\n"
     ]
    }
   ],
   "source": [
    "v = 2*pi*R/T"
   ]
  },
  {
   "cell_type": "markdown",
   "metadata": {},
   "source": [
    "## Oefening 4\n",
    "\n",
    "Een auto ondergaat een constante versnelling van 0.300 m/s$^2$ parallel met een weg. De auto rijdt over een heuvel die bovenaan een kromtestraal heeft van 500 m. Wanneer de auto bovenaan de heuvel is, is zijn snelheid horizontaal met grootte 6.00 m/s. Wat is de grootte en richting van de totale versnelling op dit moment?\n",
    "\n",
    "### Oplossing\n",
    "\n",
    "Laten we eerst de gegevens invoeren in Octave. De versnelling van de wagen parallel met de weg is de tangentiële component van de versnelling. De straal van de cirkelbeweging komt overeen met de kromtestraal:"
   ]
  },
  {
   "cell_type": "code",
   "execution_count": 8,
   "metadata": {},
   "outputs": [],
   "source": [
    "a_t = 0.3; % m s^{-2}\n",
    "R = 500; % m\n",
    "v = 6; % m s^{-1}"
   ]
  },
  {
   "cell_type": "markdown",
   "metadata": {},
   "source": [
    "Om de normale component van de versnelling te vinden, gebruiken we de volgende formule:\n",
    "$$\n",
    "a_n = \\frac{v^2}{R}\n",
    "$$\n",
    "Dit levert:"
   ]
  },
  {
   "cell_type": "code",
   "execution_count": 9,
   "metadata": {},
   "outputs": [
    {
     "name": "stdout",
     "output_type": "stream",
     "text": [
      "a_n =  0.072000\n"
     ]
    }
   ],
   "source": [
    "a_n = v^2/R"
   ]
  },
  {
   "cell_type": "markdown",
   "metadata": {},
   "source": [
    "De grootte van de versnelling vinden we met de formule van de grootte van een vector:\n",
    "$$\n",
    "|\\vec{a}| = \\sqrt{a_t^2+a_n^2}\n",
    "$$\n",
    "De richting t.o.v. de bewegingsrichting van de auto vinden we met de volgende hoekformule:\n",
    "$$\n",
    "tan(\\phi) = \\frac{a_n}{a_t} \\Leftrightarrow \\phi = tan^-1\\left(\\frac{a_n}{a_t}\\right)\n",
    "$$"
   ]
  },
  {
   "cell_type": "code",
   "execution_count": 10,
   "metadata": {},
   "outputs": [
    {
     "name": "stdout",
     "output_type": "stream",
     "text": [
      "a =  0.30852\n",
      "phi =  13.496\n",
      "phi_arcminutes =  29.744\n"
     ]
    }
   ],
   "source": [
    "a = sqrt(a_n^2 + a_t^2)\n",
    "phi = atan(a_n/a_t) * 180 / pi\n",
    "phi_arcminutes = rem(phi,1)*60"
   ]
  },
  {
   "cell_type": "markdown",
   "metadata": {},
   "source": [
    "## Oefening 5\n",
    "\n",
    "Een puntmassa loopt op een cirkelvormige baan met een straal van 3.64 m. Op een bepaald ogenblik heeft het deeltje een snelheid van 17.4 m/s en sluit zijn versnelling een hoek in van 22° met de richting naar het middelpunt van de cirkel. Bereken de grootte van de versnelling.\n",
    "\n",
    "### Oplossing\n",
    "\n",
    "Laten we eerst de gegevens invoeren in Octave:"
   ]
  },
  {
   "cell_type": "code",
   "execution_count": 11,
   "metadata": {},
   "outputs": [],
   "source": [
    "R = 3.64; % m\n",
    "v = 17.4; % m/s\n",
    "theta = 22/180*pi;"
   ]
  },
  {
   "cell_type": "markdown",
   "metadata": {},
   "source": [
    "We starten door met behulp van de snelheid en de straal de normale component van de versnelling te berekenen:\n",
    "$$\n",
    "a_n = \\frac{v^2}{R}\n",
    "$$\n",
    "Let dat omdat de puntmassa op een cirkelvormige baan loopt, de snelheid steeds tangentieel is. In Octave levert dit:"
   ]
  },
  {
   "cell_type": "code",
   "execution_count": 12,
   "metadata": {},
   "outputs": [
    {
     "name": "stdout",
     "output_type": "stream",
     "text": [
      "a_n =  83.176\n"
     ]
    }
   ],
   "source": [
    "a_n = v^2/R"
   ]
  },
  {
   "cell_type": "markdown",
   "metadata": {},
   "source": [
    "De normale component van de versnelling kan ook gevonden worden met de gegeven hoek theta en de grootte van de versnelling. Als we deze uitdrukking omvormen vinden we zo de grootte van de versnelling:\n",
    "$$\n",
    "a_n = |\\vec{a}| cos\\theta \\Leftrightarrow |\\vec{a}| = \\frac{a_n}{cos(\\theta)}\n",
    "$$"
   ]
  },
  {
   "cell_type": "code",
   "execution_count": 13,
   "metadata": {},
   "outputs": [
    {
     "name": "stdout",
     "output_type": "stream",
     "text": [
      "a =  89.708\n"
     ]
    }
   ],
   "source": [
    "a = a_n/cos(theta)"
   ]
  },
  {
   "cell_type": "markdown",
   "metadata": {},
   "source": [
    "## Oefening 6\n",
    "\n",
    "Een zwemster zwemt met een snelheid van 0.70 m/s t.o.v. het water. Ze wil een rivier (50 m breed) oversteken. Het water heeft een stroomsnelheid van 0.50 m/s.\n",
    "- In welke richting moet ze zwemmen als ze recht tegenover haar vertrekpunt wil aankomen op de oever?\n",
    "- In welke richting moet ze zwemmen als ze de rivier in de kortst mogelijke tijd wil oversteken? Hoelang duurt het om de rivier over te steken? \n",
    "\n",
    "\n",
    "### Oplossing\n",
    "\n",
    "Laten we eerst de gegevens invoeren in Octave:"
   ]
  },
  {
   "cell_type": "code",
   "execution_count": 14,
   "metadata": {},
   "outputs": [],
   "source": [
    "B = 50; % m\n",
    "v_w = 0.5; % m s^{-1}\n",
    "v_zw = 0.7; % m s^{-1}"
   ]
  },
  {
   "cell_type": "markdown",
   "metadata": {},
   "source": [
    "$$\n",
    "v_{zw} sin(\\theta) = v_w \\Leftrightarrow \\theta = sin^{-1}\\left(\\frac{v_w}{v_{zw}}\\right)\n",
    "$$"
   ]
  },
  {
   "cell_type": "code",
   "execution_count": 15,
   "metadata": {},
   "outputs": [
    {
     "name": "stdout",
     "output_type": "stream",
     "text": [
      "theta =  45.585\n"
     ]
    }
   ],
   "source": [
    "theta = asin(v_w/v_zw) * 180 / pi"
   ]
  },
  {
   "cell_type": "markdown",
   "metadata": {},
   "source": [
    "Voor de tweede opgave kan de zwemmer best loodrecht op de oever zwemmen. De tijd die dit haar kost is dan:\n",
    "$$\n",
    "t = \\frac{B}{v_zw}\n",
    "$$"
   ]
  },
  {
   "cell_type": "code",
   "execution_count": 16,
   "metadata": {},
   "outputs": [
    {
     "name": "stdout",
     "output_type": "stream",
     "text": [
      "t =  71.429\n"
     ]
    }
   ],
   "source": [
    "t = B/v_zw"
   ]
  },
  {
   "cell_type": "markdown",
   "metadata": {},
   "source": [
    "## Oefening 7\n",
    "\n",
    "De regen maakt een hoek $\\alpha$ met de verticaal en heeft een snelheid van 10.0 m/s. Een vrouw fietst tegen de regen in met een snelheid van 8.0 m/s en ziet dat de regen een hoek $\\beta$ maakt met de verticaal. Zoek een relatie tussen de hoeken $\\alpha$ en $\\beta$. Veronderstel daarna $\\alpha$=30° en bereken $\\beta$.  \n",
    "\n",
    "\n",
    "### Oplossing\n",
    "\n",
    "Laten we eerst de gegevens invoeren in Octave:"
   ]
  },
  {
   "cell_type": "code",
   "execution_count": 17,
   "metadata": {},
   "outputs": [],
   "source": [
    "v_r = 10; % m s^{-1}\n",
    "v_v = 8; % m s^{-1}"
   ]
  },
  {
   "cell_type": "markdown",
   "metadata": {},
   "source": [
    "De relatie tussen de vectoren is:\n",
    "$$\n",
    "\\vec{v_r} = \\vec{v_v} + \\vec{v_{vr}}\n",
    "$$\n",
    "Hier is de absolute snelheid de snelheid van de regen, de relatieve snelheid is de snelheid van de regen t.a.v. de vrouw en de meesleepsnelheid de snelheid van de vrouw. , Geschreven in hun componenten, wordt dit:\n",
    "\n",
    "\\begin{cases}\n",
    "- v_{r} sin\\alpha = v_v - v_{vr} sin\\beta \\\\\n",
    "v_{r} cos\\alpha = v_{vr}cos\\beta\n",
    "\\end{cases}\n",
    "\n",
    "$$\n",
    "\\frac{v_r sin\\alpha + v_v}{v_r cos\\alpha} = tan\\beta \\Leftrightarrow \\beta = atan(\\frac{v_r sin\\alpha + v_v}{v_r cos\\alpha})\n",
    "$$\n",
    "\n",
    "Als $\\alpha$ gelijk is aan 30°, is $\\beta$:"
   ]
  },
  {
   "cell_type": "code",
   "execution_count": 18,
   "metadata": {},
   "outputs": [
    {
     "name": "stdout",
     "output_type": "stream",
     "text": [
      "beta =  56.330\n"
     ]
    }
   ],
   "source": [
    "alpha = 30 / 180 * pi;\n",
    "beta = atan((v_r*sin(alpha)+v_v)/(v_r*cos(alpha))) * 180 / pi"
   ]
  },
  {
   "cell_type": "markdown",
   "metadata": {},
   "source": [
    "## Oefening 8\n",
    "\n",
    "Een trein beweegt richting een waarnemer met een snelheid van  30.0 m/s. Het fluitsignaal van de locomotief heeft een frequentie van 400 Hz en de snelheid van het geluid is 340 m/s. Zoek de frequentie gehoord door de waarnemer.\n",
    "\n",
    "### Oplossing\n",
    "\n",
    "Laten we eerst de variabelen in Octave invoeren:"
   ]
  },
  {
   "cell_type": "code",
   "execution_count": 19,
   "metadata": {},
   "outputs": [
    {
     "name": "stdout",
     "output_type": "stream",
     "text": [
      "v_b =  30\n",
      "f_b =  400\n",
      "c =  340\n"
     ]
    }
   ],
   "source": [
    "v_b = 30 % m s^{-1}\n",
    "f_b = 400 % Hz ~ s^{-1}\n",
    "c = 340 % m s^{-1}"
   ]
  },
  {
   "cell_type": "markdown",
   "metadata": {},
   "source": [
    "De alomvattende Doppler effect vergelijking:\n",
    "$$\n",
    "f_w = \\left( \\frac{c \\pm v_w}{c \\pm v_b} \\right) f_b\n",
    "$$\n",
    "wordt in dit geval:\n",
    "$$\n",
    "f_w = \\left( \\frac{c}{c - v_b} \\right) f_b\n",
    "$$"
   ]
  },
  {
   "cell_type": "code",
   "execution_count": 20,
   "metadata": {},
   "outputs": [
    {
     "name": "stdout",
     "output_type": "stream",
     "text": [
      "f_w =  438.71\n"
     ]
    }
   ],
   "source": [
    "f_w = (c/(c-v_b))*f_b"
   ]
  },
  {
   "cell_type": "markdown",
   "metadata": {},
   "source": [
    "## Oefening 9\n",
    "\n",
    "Romeo en Julia hebben afgesproken op het Piazza dei Signori. Wanneer hun ogen elkaar ontmoeten, lopen ze naar elkaar toe en krijst Julia van geluk. Julia rent met een snelheid gelijk aan 3 m/s, Romeo met een snelheid gelijk aan 4 m/s.\n",
    "\n",
    "- Als Julia haar stem een toonhoogte heeft gelijk aan 250 Hz, welke frequentie hoort Romeo dan?\n",
    "\n",
    "In plaats van in de armen van Romeo te springen, loopt Julia hem voorbij, recht naar haar ware liefde Balthazar. Deze keer is het Romeo die van verbazing stilstaat en krijst.\n",
    "\n",
    "- Als Romeo zijn stem een toonhoogte heeft gelijk aan 150 Hz, welke frequentie hoort Julia dan?\n",
    "\n",
    "### Oplossing\n",
    "\n",
    "Laten we eerst de variabelen in Octave invoeren:"
   ]
  },
  {
   "cell_type": "code",
   "execution_count": 21,
   "metadata": {},
   "outputs": [],
   "source": [
    "f_b_R = 150;\n",
    "f_b_J = 250;\n",
    "v_R = 4;\n",
    "v_J = 3;\n",
    "c = 340; "
   ]
  },
  {
   "cell_type": "markdown",
   "metadata": {},
   "source": [
    "Oplossing, bespreking volgt nog:"
   ]
  },
  {
   "cell_type": "code",
   "execution_count": 22,
   "metadata": {},
   "outputs": [
    {
     "name": "stdout",
     "output_type": "stream",
     "text": [
      "f_w_R =  255.19\n",
      "f_w_J =  148.68\n"
     ]
    }
   ],
   "source": [
    "f_w_R = (c + v_R)/(c - v_J)*f_b_J\n",
    "f_w_J = (c - v_J)/(c)*f_b_R"
   ]
  },
  {
   "cell_type": "markdown",
   "metadata": {},
   "source": [
    "## Oefening 10\n",
    "\n",
    "Je alarm maakt je elke ochtend wakker met een constant en irritant geluid dat een frequentie heeft gelijk aan 600 Hz. Op een ochtend werkt de knop om het alarm uit te zetten niet meer. Uit frustratie laat je het alarm vallen uit je raam, 15.0 m boven de grond. Wat is de frequentie die je hoort net voordat het alarm de grond raakt? (Snelheid van geluid = 340 m/s)\n",
    "\n",
    "### Oplossing\n"
   ]
  },
  {
   "cell_type": "code",
   "execution_count": 23,
   "metadata": {},
   "outputs": [],
   "source": [
    "f_b = 600; % Hz ~ s^{-1}\n",
    "h = 15; % m\n",
    "g = 9.81; % m s^{-2}\n",
    "c = 340; % m s^{-1}"
   ]
  },
  {
   "cell_type": "markdown",
   "metadata": {},
   "source": [
    "Type out equations"
   ]
  },
  {
   "cell_type": "code",
   "execution_count": 24,
   "metadata": {},
   "outputs": [
    {
     "name": "stdout",
     "output_type": "stream",
     "text": [
      "v =  17.155\n"
     ]
    }
   ],
   "source": [
    "v = sqrt(2*g*h)"
   ]
  },
  {
   "cell_type": "markdown",
   "metadata": {},
   "source": [
    "Type out equations"
   ]
  },
  {
   "cell_type": "code",
   "execution_count": 25,
   "metadata": {},
   "outputs": [
    {
     "name": "stdout",
     "output_type": "stream",
     "text": [
      "f_w =  571.18\n"
     ]
    }
   ],
   "source": [
    "f_w = (c)/(c+v)*f_b"
   ]
  },
  {
   "cell_type": "markdown",
   "metadata": {},
   "source": [
    "## Oefening 11\n",
    "\n",
    "Een ambulance rijdt je voorbij met constante snelheid $v_a$. Voordat de ambulance langs je rijdt, hoor je het geluid van zijn sirene met frequentie 560 Hz. Wanneer de ambulance voorbij is gereden, hoor je een geluid met frequentie 480 Hz. Bepaal de snelheid van de ambulance.\n",
    "\n",
    "### Oplossing\n"
   ]
  },
  {
   "cell_type": "code",
   "execution_count": 26,
   "metadata": {},
   "outputs": [
    {
     "name": "stdout",
     "output_type": "stream",
     "text": [
      "f_w_1 =  560\n",
      "f_w_2 =  480\n"
     ]
    }
   ],
   "source": [
    "f_w_1 = 560 % Hz ~ s^{-1};\n",
    "f_w_2 = 480 % Hz ~ s^{-1};"
   ]
  },
  {
   "cell_type": "markdown",
   "metadata": {},
   "source": [
    "Type out equations"
   ]
  },
  {
   "cell_type": "code",
   "execution_count": 27,
   "metadata": {},
   "outputs": [
    {
     "name": "stdout",
     "output_type": "stream",
     "text": [
      "v_a =  26.154\n"
     ]
    }
   ],
   "source": [
    "v_a = c*(f_w_1-f_w_2)/(f_w_1+f_w_2)"
   ]
  },
  {
   "cell_type": "markdown",
   "metadata": {},
   "source": [
    "## Oefening 12 \n",
    "\n",
    "Aan het ene uiteinde van een straat bevindt zich een klokkentoren, aan het andere einde een blinde muur. Op een windstille dag luidt een klok. Een fietser, die in de straat rijdt, hoort deze klok rechtstreeks op een toon van 820 Hz op het tijdstip $t_1$. Daarna hoort hij een echo via de blinde muur op een toon van 800 Hz, 1 seconde na het horen van het rechtstreekse geluid. De geluidssnelheid is 340 m/s.\n",
    "\n",
    "- In welke richting fietst de fietser, richting toren of richting muur en met welke snelheid ?\n",
    "- Bepaal de door de klok uitgezonde frequentie.\n",
    "- Hoe groot is op het ogenblik 𝑡_1 de afstand van de fietser tot de muur?\n",
    "\n",
    "### Oplossing\n"
   ]
  },
  {
   "cell_type": "markdown",
   "metadata": {},
   "source": [
    "## Oefening 13\n",
    "\n",
    "Twee zwemmers, Alex en Betty, starten op hetzelfde punt aan de rand van een brede rivier die stroomt met een snelheid $v$. Beide zwemmen met een snelheid $v_z$, met $v_z > v$. Alex zwemt een afstand $L$ langs de stroom en terug, Betty zwemt zo dat haar pad t.o.v. de aarde loodrecht op de oever is. Net zoals Alex zwemt Betty een afstand $L$ en terug. Welke zwemmer keert het eerst terug naar het startpunt?\n",
    "\n",
    "### Oplossing\n"
   ]
  },
  {
   "cell_type": "markdown",
   "metadata": {},
   "source": [
    "## Oefening 14\n",
    "\n",
    "Het reuzenrad op de Sinksenfoor versnelt met een constante hoekversnelling vanuit rust. Stel dat de straal van het reuzenrad gelijk is aan $R$. Vind een uitdrukking voor de snelheid van een passagier nadat het reuzenrad een hoek $\\Delta\\theta$ heeft gedraaid.\n",
    "\n",
    "### Oplossing\n",
    "\n",
    "Typ uit, gewoon voor de volledigheid.\n"
   ]
  },
  {
   "cell_type": "code",
   "execution_count": null,
   "metadata": {},
   "outputs": [],
   "source": []
  }
 ],
 "metadata": {
  "kernelspec": {
   "display_name": "Octave",
   "language": "octave",
   "name": "octave"
  },
  "language_info": {
   "file_extension": ".m",
   "help_links": [
    {
     "text": "GNU Octave",
     "url": "https://www.gnu.org/software/octave/support.html"
    },
    {
     "text": "Octave Kernel",
     "url": "https://github.com/Calysto/octave_kernel"
    },
    {
     "text": "MetaKernel Magics",
     "url": "https://github.com/calysto/metakernel/blob/master/metakernel/magics/README.md"
    }
   ],
   "mimetype": "text/x-octave",
   "name": "octave",
   "version": "4.4.1"
  }
 },
 "nbformat": 4,
 "nbformat_minor": 2
}
